{
 "cells": [
  {
   "cell_type": "markdown",
   "id": "6fca463a",
   "metadata": {},
   "source": [
    "# House Prices Kaggle Competition\n",
    "\n",
    "This notebook simply explores the dataset to see what insights can be gained."
   ]
  },
  {
   "cell_type": "code",
   "execution_count": 1,
   "id": "af3a1057",
   "metadata": {},
   "outputs": [],
   "source": [
    "import numpy as np\n",
    "import pandas as pd\n",
    "import seaborn as sns\n",
    "import matplotlib.pyplot as plt\n",
    "\n",
    "%matplotlib inline"
   ]
  },
  {
   "cell_type": "markdown",
   "id": "383942d4",
   "metadata": {},
   "source": [
    "Import and inspect the data"
   ]
  },
  {
   "cell_type": "code",
   "execution_count": 2,
   "id": "2f9d1925",
   "metadata": {},
   "outputs": [
    {
     "data": {
      "text/html": [
       "<div>\n",
       "<style scoped>\n",
       "    .dataframe tbody tr th:only-of-type {\n",
       "        vertical-align: middle;\n",
       "    }\n",
       "\n",
       "    .dataframe tbody tr th {\n",
       "        vertical-align: top;\n",
       "    }\n",
       "\n",
       "    .dataframe thead th {\n",
       "        text-align: right;\n",
       "    }\n",
       "</style>\n",
       "<table border=\"1\" class=\"dataframe\">\n",
       "  <thead>\n",
       "    <tr style=\"text-align: right;\">\n",
       "      <th></th>\n",
       "      <th>Id</th>\n",
       "      <th>MSSubClass</th>\n",
       "      <th>MSZoning</th>\n",
       "      <th>LotFrontage</th>\n",
       "      <th>LotArea</th>\n",
       "      <th>Street</th>\n",
       "      <th>Alley</th>\n",
       "      <th>LotShape</th>\n",
       "      <th>LandContour</th>\n",
       "      <th>Utilities</th>\n",
       "      <th>...</th>\n",
       "      <th>PoolArea</th>\n",
       "      <th>PoolQC</th>\n",
       "      <th>Fence</th>\n",
       "      <th>MiscFeature</th>\n",
       "      <th>MiscVal</th>\n",
       "      <th>MoSold</th>\n",
       "      <th>YrSold</th>\n",
       "      <th>SaleType</th>\n",
       "      <th>SaleCondition</th>\n",
       "      <th>SalePrice</th>\n",
       "    </tr>\n",
       "  </thead>\n",
       "  <tbody>\n",
       "    <tr>\n",
       "      <th>0</th>\n",
       "      <td>1</td>\n",
       "      <td>60</td>\n",
       "      <td>RL</td>\n",
       "      <td>65.0</td>\n",
       "      <td>8450</td>\n",
       "      <td>Pave</td>\n",
       "      <td>NaN</td>\n",
       "      <td>Reg</td>\n",
       "      <td>Lvl</td>\n",
       "      <td>AllPub</td>\n",
       "      <td>...</td>\n",
       "      <td>0</td>\n",
       "      <td>NaN</td>\n",
       "      <td>NaN</td>\n",
       "      <td>NaN</td>\n",
       "      <td>0</td>\n",
       "      <td>2</td>\n",
       "      <td>2008</td>\n",
       "      <td>WD</td>\n",
       "      <td>Normal</td>\n",
       "      <td>208500</td>\n",
       "    </tr>\n",
       "    <tr>\n",
       "      <th>1</th>\n",
       "      <td>2</td>\n",
       "      <td>20</td>\n",
       "      <td>RL</td>\n",
       "      <td>80.0</td>\n",
       "      <td>9600</td>\n",
       "      <td>Pave</td>\n",
       "      <td>NaN</td>\n",
       "      <td>Reg</td>\n",
       "      <td>Lvl</td>\n",
       "      <td>AllPub</td>\n",
       "      <td>...</td>\n",
       "      <td>0</td>\n",
       "      <td>NaN</td>\n",
       "      <td>NaN</td>\n",
       "      <td>NaN</td>\n",
       "      <td>0</td>\n",
       "      <td>5</td>\n",
       "      <td>2007</td>\n",
       "      <td>WD</td>\n",
       "      <td>Normal</td>\n",
       "      <td>181500</td>\n",
       "    </tr>\n",
       "    <tr>\n",
       "      <th>2</th>\n",
       "      <td>3</td>\n",
       "      <td>60</td>\n",
       "      <td>RL</td>\n",
       "      <td>68.0</td>\n",
       "      <td>11250</td>\n",
       "      <td>Pave</td>\n",
       "      <td>NaN</td>\n",
       "      <td>IR1</td>\n",
       "      <td>Lvl</td>\n",
       "      <td>AllPub</td>\n",
       "      <td>...</td>\n",
       "      <td>0</td>\n",
       "      <td>NaN</td>\n",
       "      <td>NaN</td>\n",
       "      <td>NaN</td>\n",
       "      <td>0</td>\n",
       "      <td>9</td>\n",
       "      <td>2008</td>\n",
       "      <td>WD</td>\n",
       "      <td>Normal</td>\n",
       "      <td>223500</td>\n",
       "    </tr>\n",
       "    <tr>\n",
       "      <th>3</th>\n",
       "      <td>4</td>\n",
       "      <td>70</td>\n",
       "      <td>RL</td>\n",
       "      <td>60.0</td>\n",
       "      <td>9550</td>\n",
       "      <td>Pave</td>\n",
       "      <td>NaN</td>\n",
       "      <td>IR1</td>\n",
       "      <td>Lvl</td>\n",
       "      <td>AllPub</td>\n",
       "      <td>...</td>\n",
       "      <td>0</td>\n",
       "      <td>NaN</td>\n",
       "      <td>NaN</td>\n",
       "      <td>NaN</td>\n",
       "      <td>0</td>\n",
       "      <td>2</td>\n",
       "      <td>2006</td>\n",
       "      <td>WD</td>\n",
       "      <td>Abnorml</td>\n",
       "      <td>140000</td>\n",
       "    </tr>\n",
       "    <tr>\n",
       "      <th>4</th>\n",
       "      <td>5</td>\n",
       "      <td>60</td>\n",
       "      <td>RL</td>\n",
       "      <td>84.0</td>\n",
       "      <td>14260</td>\n",
       "      <td>Pave</td>\n",
       "      <td>NaN</td>\n",
       "      <td>IR1</td>\n",
       "      <td>Lvl</td>\n",
       "      <td>AllPub</td>\n",
       "      <td>...</td>\n",
       "      <td>0</td>\n",
       "      <td>NaN</td>\n",
       "      <td>NaN</td>\n",
       "      <td>NaN</td>\n",
       "      <td>0</td>\n",
       "      <td>12</td>\n",
       "      <td>2008</td>\n",
       "      <td>WD</td>\n",
       "      <td>Normal</td>\n",
       "      <td>250000</td>\n",
       "    </tr>\n",
       "  </tbody>\n",
       "</table>\n",
       "<p>5 rows × 81 columns</p>\n",
       "</div>"
      ],
      "text/plain": [
       "   Id  MSSubClass MSZoning  LotFrontage  LotArea Street Alley LotShape  \\\n",
       "0   1          60       RL         65.0     8450   Pave   NaN      Reg   \n",
       "1   2          20       RL         80.0     9600   Pave   NaN      Reg   \n",
       "2   3          60       RL         68.0    11250   Pave   NaN      IR1   \n",
       "3   4          70       RL         60.0     9550   Pave   NaN      IR1   \n",
       "4   5          60       RL         84.0    14260   Pave   NaN      IR1   \n",
       "\n",
       "  LandContour Utilities  ... PoolArea PoolQC Fence MiscFeature MiscVal MoSold  \\\n",
       "0         Lvl    AllPub  ...        0    NaN   NaN         NaN       0      2   \n",
       "1         Lvl    AllPub  ...        0    NaN   NaN         NaN       0      5   \n",
       "2         Lvl    AllPub  ...        0    NaN   NaN         NaN       0      9   \n",
       "3         Lvl    AllPub  ...        0    NaN   NaN         NaN       0      2   \n",
       "4         Lvl    AllPub  ...        0    NaN   NaN         NaN       0     12   \n",
       "\n",
       "  YrSold  SaleType  SaleCondition  SalePrice  \n",
       "0   2008        WD         Normal     208500  \n",
       "1   2007        WD         Normal     181500  \n",
       "2   2008        WD         Normal     223500  \n",
       "3   2006        WD        Abnorml     140000  \n",
       "4   2008        WD         Normal     250000  \n",
       "\n",
       "[5 rows x 81 columns]"
      ]
     },
     "execution_count": 2,
     "metadata": {},
     "output_type": "execute_result"
    }
   ],
   "source": [
    "df = pd.read_csv('../data/train.csv')\n",
    "df.head()"
   ]
  },
  {
   "cell_type": "code",
   "execution_count": 3,
   "id": "7e86a631",
   "metadata": {},
   "outputs": [
    {
     "data": {
      "text/html": [
       "<div>\n",
       "<style scoped>\n",
       "    .dataframe tbody tr th:only-of-type {\n",
       "        vertical-align: middle;\n",
       "    }\n",
       "\n",
       "    .dataframe tbody tr th {\n",
       "        vertical-align: top;\n",
       "    }\n",
       "\n",
       "    .dataframe thead th {\n",
       "        text-align: right;\n",
       "    }\n",
       "</style>\n",
       "<table border=\"1\" class=\"dataframe\">\n",
       "  <thead>\n",
       "    <tr style=\"text-align: right;\">\n",
       "      <th></th>\n",
       "      <th>Id</th>\n",
       "      <th>MSSubClass</th>\n",
       "      <th>LotFrontage</th>\n",
       "      <th>LotArea</th>\n",
       "      <th>OverallQual</th>\n",
       "      <th>OverallCond</th>\n",
       "      <th>YearBuilt</th>\n",
       "      <th>YearRemodAdd</th>\n",
       "      <th>MasVnrArea</th>\n",
       "      <th>BsmtFinSF1</th>\n",
       "      <th>...</th>\n",
       "      <th>WoodDeckSF</th>\n",
       "      <th>OpenPorchSF</th>\n",
       "      <th>EnclosedPorch</th>\n",
       "      <th>3SsnPorch</th>\n",
       "      <th>ScreenPorch</th>\n",
       "      <th>PoolArea</th>\n",
       "      <th>MiscVal</th>\n",
       "      <th>MoSold</th>\n",
       "      <th>YrSold</th>\n",
       "      <th>SalePrice</th>\n",
       "    </tr>\n",
       "  </thead>\n",
       "  <tbody>\n",
       "    <tr>\n",
       "      <th>count</th>\n",
       "      <td>1460.000000</td>\n",
       "      <td>1460.000000</td>\n",
       "      <td>1201.000000</td>\n",
       "      <td>1460.000000</td>\n",
       "      <td>1460.000000</td>\n",
       "      <td>1460.000000</td>\n",
       "      <td>1460.000000</td>\n",
       "      <td>1460.000000</td>\n",
       "      <td>1452.000000</td>\n",
       "      <td>1460.000000</td>\n",
       "      <td>...</td>\n",
       "      <td>1460.000000</td>\n",
       "      <td>1460.000000</td>\n",
       "      <td>1460.000000</td>\n",
       "      <td>1460.000000</td>\n",
       "      <td>1460.000000</td>\n",
       "      <td>1460.000000</td>\n",
       "      <td>1460.000000</td>\n",
       "      <td>1460.000000</td>\n",
       "      <td>1460.000000</td>\n",
       "      <td>1460.000000</td>\n",
       "    </tr>\n",
       "    <tr>\n",
       "      <th>mean</th>\n",
       "      <td>730.500000</td>\n",
       "      <td>56.897260</td>\n",
       "      <td>70.049958</td>\n",
       "      <td>10516.828082</td>\n",
       "      <td>6.099315</td>\n",
       "      <td>5.575342</td>\n",
       "      <td>1971.267808</td>\n",
       "      <td>1984.865753</td>\n",
       "      <td>103.685262</td>\n",
       "      <td>443.639726</td>\n",
       "      <td>...</td>\n",
       "      <td>94.244521</td>\n",
       "      <td>46.660274</td>\n",
       "      <td>21.954110</td>\n",
       "      <td>3.409589</td>\n",
       "      <td>15.060959</td>\n",
       "      <td>2.758904</td>\n",
       "      <td>43.489041</td>\n",
       "      <td>6.321918</td>\n",
       "      <td>2007.815753</td>\n",
       "      <td>180921.195890</td>\n",
       "    </tr>\n",
       "    <tr>\n",
       "      <th>std</th>\n",
       "      <td>421.610009</td>\n",
       "      <td>42.300571</td>\n",
       "      <td>24.284752</td>\n",
       "      <td>9981.264932</td>\n",
       "      <td>1.382997</td>\n",
       "      <td>1.112799</td>\n",
       "      <td>30.202904</td>\n",
       "      <td>20.645407</td>\n",
       "      <td>181.066207</td>\n",
       "      <td>456.098091</td>\n",
       "      <td>...</td>\n",
       "      <td>125.338794</td>\n",
       "      <td>66.256028</td>\n",
       "      <td>61.119149</td>\n",
       "      <td>29.317331</td>\n",
       "      <td>55.757415</td>\n",
       "      <td>40.177307</td>\n",
       "      <td>496.123024</td>\n",
       "      <td>2.703626</td>\n",
       "      <td>1.328095</td>\n",
       "      <td>79442.502883</td>\n",
       "    </tr>\n",
       "    <tr>\n",
       "      <th>min</th>\n",
       "      <td>1.000000</td>\n",
       "      <td>20.000000</td>\n",
       "      <td>21.000000</td>\n",
       "      <td>1300.000000</td>\n",
       "      <td>1.000000</td>\n",
       "      <td>1.000000</td>\n",
       "      <td>1872.000000</td>\n",
       "      <td>1950.000000</td>\n",
       "      <td>0.000000</td>\n",
       "      <td>0.000000</td>\n",
       "      <td>...</td>\n",
       "      <td>0.000000</td>\n",
       "      <td>0.000000</td>\n",
       "      <td>0.000000</td>\n",
       "      <td>0.000000</td>\n",
       "      <td>0.000000</td>\n",
       "      <td>0.000000</td>\n",
       "      <td>0.000000</td>\n",
       "      <td>1.000000</td>\n",
       "      <td>2006.000000</td>\n",
       "      <td>34900.000000</td>\n",
       "    </tr>\n",
       "    <tr>\n",
       "      <th>25%</th>\n",
       "      <td>365.750000</td>\n",
       "      <td>20.000000</td>\n",
       "      <td>59.000000</td>\n",
       "      <td>7553.500000</td>\n",
       "      <td>5.000000</td>\n",
       "      <td>5.000000</td>\n",
       "      <td>1954.000000</td>\n",
       "      <td>1967.000000</td>\n",
       "      <td>0.000000</td>\n",
       "      <td>0.000000</td>\n",
       "      <td>...</td>\n",
       "      <td>0.000000</td>\n",
       "      <td>0.000000</td>\n",
       "      <td>0.000000</td>\n",
       "      <td>0.000000</td>\n",
       "      <td>0.000000</td>\n",
       "      <td>0.000000</td>\n",
       "      <td>0.000000</td>\n",
       "      <td>5.000000</td>\n",
       "      <td>2007.000000</td>\n",
       "      <td>129975.000000</td>\n",
       "    </tr>\n",
       "    <tr>\n",
       "      <th>50%</th>\n",
       "      <td>730.500000</td>\n",
       "      <td>50.000000</td>\n",
       "      <td>69.000000</td>\n",
       "      <td>9478.500000</td>\n",
       "      <td>6.000000</td>\n",
       "      <td>5.000000</td>\n",
       "      <td>1973.000000</td>\n",
       "      <td>1994.000000</td>\n",
       "      <td>0.000000</td>\n",
       "      <td>383.500000</td>\n",
       "      <td>...</td>\n",
       "      <td>0.000000</td>\n",
       "      <td>25.000000</td>\n",
       "      <td>0.000000</td>\n",
       "      <td>0.000000</td>\n",
       "      <td>0.000000</td>\n",
       "      <td>0.000000</td>\n",
       "      <td>0.000000</td>\n",
       "      <td>6.000000</td>\n",
       "      <td>2008.000000</td>\n",
       "      <td>163000.000000</td>\n",
       "    </tr>\n",
       "    <tr>\n",
       "      <th>75%</th>\n",
       "      <td>1095.250000</td>\n",
       "      <td>70.000000</td>\n",
       "      <td>80.000000</td>\n",
       "      <td>11601.500000</td>\n",
       "      <td>7.000000</td>\n",
       "      <td>6.000000</td>\n",
       "      <td>2000.000000</td>\n",
       "      <td>2004.000000</td>\n",
       "      <td>166.000000</td>\n",
       "      <td>712.250000</td>\n",
       "      <td>...</td>\n",
       "      <td>168.000000</td>\n",
       "      <td>68.000000</td>\n",
       "      <td>0.000000</td>\n",
       "      <td>0.000000</td>\n",
       "      <td>0.000000</td>\n",
       "      <td>0.000000</td>\n",
       "      <td>0.000000</td>\n",
       "      <td>8.000000</td>\n",
       "      <td>2009.000000</td>\n",
       "      <td>214000.000000</td>\n",
       "    </tr>\n",
       "    <tr>\n",
       "      <th>max</th>\n",
       "      <td>1460.000000</td>\n",
       "      <td>190.000000</td>\n",
       "      <td>313.000000</td>\n",
       "      <td>215245.000000</td>\n",
       "      <td>10.000000</td>\n",
       "      <td>9.000000</td>\n",
       "      <td>2010.000000</td>\n",
       "      <td>2010.000000</td>\n",
       "      <td>1600.000000</td>\n",
       "      <td>5644.000000</td>\n",
       "      <td>...</td>\n",
       "      <td>857.000000</td>\n",
       "      <td>547.000000</td>\n",
       "      <td>552.000000</td>\n",
       "      <td>508.000000</td>\n",
       "      <td>480.000000</td>\n",
       "      <td>738.000000</td>\n",
       "      <td>15500.000000</td>\n",
       "      <td>12.000000</td>\n",
       "      <td>2010.000000</td>\n",
       "      <td>755000.000000</td>\n",
       "    </tr>\n",
       "  </tbody>\n",
       "</table>\n",
       "<p>8 rows × 38 columns</p>\n",
       "</div>"
      ],
      "text/plain": [
       "                Id   MSSubClass  LotFrontage        LotArea  OverallQual  \\\n",
       "count  1460.000000  1460.000000  1201.000000    1460.000000  1460.000000   \n",
       "mean    730.500000    56.897260    70.049958   10516.828082     6.099315   \n",
       "std     421.610009    42.300571    24.284752    9981.264932     1.382997   \n",
       "min       1.000000    20.000000    21.000000    1300.000000     1.000000   \n",
       "25%     365.750000    20.000000    59.000000    7553.500000     5.000000   \n",
       "50%     730.500000    50.000000    69.000000    9478.500000     6.000000   \n",
       "75%    1095.250000    70.000000    80.000000   11601.500000     7.000000   \n",
       "max    1460.000000   190.000000   313.000000  215245.000000    10.000000   \n",
       "\n",
       "       OverallCond    YearBuilt  YearRemodAdd   MasVnrArea   BsmtFinSF1  ...  \\\n",
       "count  1460.000000  1460.000000   1460.000000  1452.000000  1460.000000  ...   \n",
       "mean      5.575342  1971.267808   1984.865753   103.685262   443.639726  ...   \n",
       "std       1.112799    30.202904     20.645407   181.066207   456.098091  ...   \n",
       "min       1.000000  1872.000000   1950.000000     0.000000     0.000000  ...   \n",
       "25%       5.000000  1954.000000   1967.000000     0.000000     0.000000  ...   \n",
       "50%       5.000000  1973.000000   1994.000000     0.000000   383.500000  ...   \n",
       "75%       6.000000  2000.000000   2004.000000   166.000000   712.250000  ...   \n",
       "max       9.000000  2010.000000   2010.000000  1600.000000  5644.000000  ...   \n",
       "\n",
       "        WoodDeckSF  OpenPorchSF  EnclosedPorch    3SsnPorch  ScreenPorch  \\\n",
       "count  1460.000000  1460.000000    1460.000000  1460.000000  1460.000000   \n",
       "mean     94.244521    46.660274      21.954110     3.409589    15.060959   \n",
       "std     125.338794    66.256028      61.119149    29.317331    55.757415   \n",
       "min       0.000000     0.000000       0.000000     0.000000     0.000000   \n",
       "25%       0.000000     0.000000       0.000000     0.000000     0.000000   \n",
       "50%       0.000000    25.000000       0.000000     0.000000     0.000000   \n",
       "75%     168.000000    68.000000       0.000000     0.000000     0.000000   \n",
       "max     857.000000   547.000000     552.000000   508.000000   480.000000   \n",
       "\n",
       "          PoolArea       MiscVal       MoSold       YrSold      SalePrice  \n",
       "count  1460.000000   1460.000000  1460.000000  1460.000000    1460.000000  \n",
       "mean      2.758904     43.489041     6.321918  2007.815753  180921.195890  \n",
       "std      40.177307    496.123024     2.703626     1.328095   79442.502883  \n",
       "min       0.000000      0.000000     1.000000  2006.000000   34900.000000  \n",
       "25%       0.000000      0.000000     5.000000  2007.000000  129975.000000  \n",
       "50%       0.000000      0.000000     6.000000  2008.000000  163000.000000  \n",
       "75%       0.000000      0.000000     8.000000  2009.000000  214000.000000  \n",
       "max     738.000000  15500.000000    12.000000  2010.000000  755000.000000  \n",
       "\n",
       "[8 rows x 38 columns]"
      ]
     },
     "execution_count": 3,
     "metadata": {},
     "output_type": "execute_result"
    }
   ],
   "source": [
    "df.describe()"
   ]
  },
  {
   "cell_type": "code",
   "execution_count": 4,
   "id": "551cc861",
   "metadata": {},
   "outputs": [
    {
     "name": "stdout",
     "output_type": "stream",
     "text": [
      "LotFrontage      259\n",
      "Alley           1369\n",
      "MasVnrType         8\n",
      "MasVnrArea         8\n",
      "BsmtQual          37\n",
      "BsmtCond          37\n",
      "BsmtExposure      38\n",
      "BsmtFinType1      37\n",
      "BsmtFinType2      38\n",
      "Electrical         1\n",
      "FireplaceQu      690\n",
      "GarageType        81\n",
      "GarageYrBlt       81\n",
      "GarageFinish      81\n",
      "GarageQual        81\n",
      "GarageCond        81\n",
      "PoolQC          1453\n",
      "Fence           1179\n",
      "MiscFeature     1406\n",
      "dtype: int64\n"
     ]
    }
   ],
   "source": [
    "featuresWithNullValues = df.isnull().sum()\n",
    "print(featuresWithNullValues[featuresWithNullValues > 0])"
   ]
  },
  {
   "cell_type": "markdown",
   "id": "942a01f6",
   "metadata": {},
   "source": [
    "# Dealing with Missing Data\n",
    "\n",
    "The **train.csv** dataset has 1460 records and 81 features. There are 19 features with missing data that need to be treated with a variety of strategies. Ranked in order of most missing data to least:\n",
    "- PoolQC = 99.52%\n",
    "- MiscFeature = 96.30%\n",
    "- Alley = 93.76%\n",
    "- Fence = 80.75%\n",
    "- FireplaceQu = 47.26%\n",
    "- LotFrontage = 17.74%\n",
    "- GaragType, GarageYrBlt, GarageFinish, GarageQual, GarageCond = 5.55%\n",
    "- BsmtExposure, BsmtFinType2 = 2.60%\n",
    "- BsmtQual, BsmtCond, BsmtFinType1 = 2.53%\n",
    "- MasVnrType, MasVnrArea = 0.55%\n",
    "- Electrical = 0.07%"
   ]
  },
  {
   "cell_type": "markdown",
   "id": "c2a3cba8",
   "metadata": {},
   "source": [
    "### PoolQC (99.52%)\n",
    "\n",
    "Not sure what PoolQC means but it is probably related to PoolArea which is not missing data and has a lot of 0's, which likely means there is no pool. Let's see if missing PoolQC values are correlated to PoolArea values that are 0."
   ]
  },
  {
   "cell_type": "code",
   "execution_count": 5,
   "id": "c8ef4805",
   "metadata": {},
   "outputs": [
    {
     "data": {
      "text/plain": [
       "0      1453\n",
       "512       1\n",
       "648       1\n",
       "Name: PoolArea, dtype: int64"
      ]
     },
     "execution_count": 5,
     "metadata": {},
     "output_type": "execute_result"
    }
   ],
   "source": [
    "df.PoolArea.value_counts().head(3)"
   ]
  },
  {
   "cell_type": "markdown",
   "id": "1ee52350",
   "metadata": {},
   "source": [
    "There are 1453 PoolArea values equal to 0 which matches the number of missing PoolQC values. Area they 100% correlated?"
   ]
  },
  {
   "cell_type": "code",
   "execution_count": 6,
   "id": "35f0ddf0",
   "metadata": {},
   "outputs": [
    {
     "data": {
      "text/plain": [
       "1453"
      ]
     },
     "execution_count": 6,
     "metadata": {},
     "output_type": "execute_result"
    }
   ],
   "source": [
    "len(df[(df.PoolArea==0) & df.PoolQC.isnull()])"
   ]
  },
  {
   "cell_type": "markdown",
   "id": "602f6d1d",
   "metadata": {},
   "source": [
    "Yes they are. The data description allows for 'NA' as an option. Let's replace nan with NA."
   ]
  },
  {
   "cell_type": "code",
   "execution_count": 7,
   "id": "af1b854e",
   "metadata": {},
   "outputs": [],
   "source": [
    "df.PoolQC.fillna('NA', inplace=True)"
   ]
  },
  {
   "cell_type": "markdown",
   "id": "3e51d59a",
   "metadata": {},
   "source": [
    "### MiscFeatures (96.30%)\n",
    "\n",
    "Miscellaneous feature not covered in other categories. There is a MiscVal feature that is not missing data. I am guessing everywhere there is missing data for MiscFeature there will be a $0 value for MiscVal."
   ]
  },
  {
   "cell_type": "code",
   "execution_count": 8,
   "id": "4218fa36",
   "metadata": {},
   "outputs": [
    {
     "data": {
      "text/plain": [
       "0      1408\n",
       "400      11\n",
       "500       8\n",
       "Name: MiscVal, dtype: int64"
      ]
     },
     "execution_count": 8,
     "metadata": {},
     "output_type": "execute_result"
    }
   ],
   "source": [
    "df.MiscVal.value_counts().head(3)"
   ]
  },
  {
   "cell_type": "code",
   "execution_count": 9,
   "id": "ac5d1143",
   "metadata": {},
   "outputs": [
    {
     "data": {
      "text/plain": [
       "Shed    49\n",
       "Gar2     2\n",
       "Othr     2\n",
       "TenC     1\n",
       "Name: MiscFeature, dtype: int64"
      ]
     },
     "execution_count": 9,
     "metadata": {},
     "output_type": "execute_result"
    }
   ],
   "source": [
    "df.MiscFeature.value_counts()"
   ]
  },
  {
   "cell_type": "markdown",
   "id": "8b7e3b40",
   "metadata": {},
   "source": [
    "There are 2 more 0 value features than missing misc features. Is this because 'Othr' miscellaneous feature is 0 value?"
   ]
  },
  {
   "cell_type": "code",
   "execution_count": 10,
   "id": "9e5d0d8b",
   "metadata": {},
   "outputs": [
    {
     "data": {
      "text/html": [
       "<div>\n",
       "<style scoped>\n",
       "    .dataframe tbody tr th:only-of-type {\n",
       "        vertical-align: middle;\n",
       "    }\n",
       "\n",
       "    .dataframe tbody tr th {\n",
       "        vertical-align: top;\n",
       "    }\n",
       "\n",
       "    .dataframe thead th {\n",
       "        text-align: right;\n",
       "    }\n",
       "</style>\n",
       "<table border=\"1\" class=\"dataframe\">\n",
       "  <thead>\n",
       "    <tr style=\"text-align: right;\">\n",
       "      <th></th>\n",
       "      <th>MiscFeature</th>\n",
       "      <th>MiscVal</th>\n",
       "    </tr>\n",
       "  </thead>\n",
       "  <tbody>\n",
       "    <tr>\n",
       "      <th>705</th>\n",
       "      <td>Othr</td>\n",
       "      <td>3500</td>\n",
       "    </tr>\n",
       "    <tr>\n",
       "      <th>873</th>\n",
       "      <td>Othr</td>\n",
       "      <td>0</td>\n",
       "    </tr>\n",
       "  </tbody>\n",
       "</table>\n",
       "</div>"
      ],
      "text/plain": [
       "    MiscFeature  MiscVal\n",
       "705        Othr     3500\n",
       "873        Othr        0"
      ]
     },
     "execution_count": 10,
     "metadata": {},
     "output_type": "execute_result"
    }
   ],
   "source": [
    "temp_df = df[['MiscFeature', 'MiscVal']]\n",
    "\n",
    "shed_df = temp_df[temp_df['MiscFeature'] == 'Shed'] \n",
    "gar2_df = temp_df[temp_df['MiscFeature'] == 'Gar2'] \n",
    "othr_df = temp_df[temp_df['MiscFeature'] == 'Othr'] \n",
    "tenc_df = temp_df[temp_df['MiscFeature'] == 'TenC'] \n",
    "\n",
    "othr_df.head()"
   ]
  },
  {
   "cell_type": "markdown",
   "id": "282d1fd0",
   "metadata": {},
   "source": [
    "No, one of the sheds (index 1200) is 0 as well.\n",
    "\n",
    "I'm not going to worry about the additional 2. If MiscFeature is nan I will set to 'NA' as defined in the data description."
   ]
  },
  {
   "cell_type": "code",
   "execution_count": 11,
   "id": "a2cb45d2",
   "metadata": {},
   "outputs": [],
   "source": [
    "df.MiscFeature.fillna('NA', inplace=True)"
   ]
  },
  {
   "cell_type": "markdown",
   "id": "b380feda",
   "metadata": {},
   "source": [
    "### Alley (93.76%)\n",
    "\n",
    "Type of alley access to property\n",
    "\n",
    "- Grvl\tGravel\n",
    "- Pave\tPaved\n",
    "- NA \tNo alley access\n",
    "\n",
    "Some possibly related features:\n",
    "\n",
    "- Utilities: Type of utilities available - limited utilities access might imply no alley access.\n",
    "- BldgType: Type of dwelling - townhouses likely have no alley access."
   ]
  },
  {
   "cell_type": "code",
   "execution_count": 12,
   "id": "dde5893c",
   "metadata": {},
   "outputs": [
    {
     "data": {
      "text/plain": [
       "AllPub    1459\n",
       "NoSeWa       1\n",
       "Name: Utilities, dtype: int64"
      ]
     },
     "execution_count": 12,
     "metadata": {},
     "output_type": "execute_result"
    }
   ],
   "source": [
    "df.Utilities.value_counts()"
   ]
  },
  {
   "cell_type": "markdown",
   "id": "fe4fefcf",
   "metadata": {},
   "source": [
    "That wasn't helpful, what about BldgType?"
   ]
  },
  {
   "cell_type": "code",
   "execution_count": 13,
   "id": "2e9fcda5",
   "metadata": {},
   "outputs": [
    {
     "data": {
      "text/plain": [
       "1Fam      1220\n",
       "TwnhsE     114\n",
       "Duplex      52\n",
       "Twnhs       43\n",
       "2fmCon      31\n",
       "Name: BldgType, dtype: int64"
      ]
     },
     "execution_count": 13,
     "metadata": {},
     "output_type": "execute_result"
    }
   ],
   "source": [
    "df.BldgType.value_counts()"
   ]
  },
  {
   "cell_type": "markdown",
   "id": "8ac93713",
   "metadata": {},
   "source": [
    "Nothing there either. How about the Neighborhood?"
   ]
  },
  {
   "cell_type": "code",
   "execution_count": 14,
   "id": "91190593",
   "metadata": {},
   "outputs": [
    {
     "data": {
      "text/plain": [
       "NAmes      225\n",
       "CollgCr    150\n",
       "OldTown    113\n",
       "Edwards    100\n",
       "Somerst     86\n",
       "Gilbert     79\n",
       "NridgHt     77\n",
       "Sawyer      74\n",
       "NWAmes      73\n",
       "SawyerW     59\n",
       "BrkSide     58\n",
       "Crawfor     51\n",
       "Mitchel     49\n",
       "NoRidge     41\n",
       "Timber      38\n",
       "IDOTRR      37\n",
       "ClearCr     28\n",
       "StoneBr     25\n",
       "SWISU       25\n",
       "MeadowV     17\n",
       "Blmngtn     17\n",
       "BrDale      16\n",
       "Veenker     11\n",
       "NPkVill      9\n",
       "Blueste      2\n",
       "Name: Neighborhood, dtype: int64"
      ]
     },
     "execution_count": 14,
     "metadata": {},
     "output_type": "execute_result"
    }
   ],
   "source": [
    "df.Neighborhood.value_counts()"
   ]
  },
  {
   "cell_type": "code",
   "execution_count": 15,
   "id": "b83a0504",
   "metadata": {},
   "outputs": [
    {
     "data": {
      "text/plain": [
       "OldTown    43\n",
       "Somerst    24\n",
       "IDOTRR      7\n",
       "Edwards     6\n",
       "BrkSide     5\n",
       "SWISU       4\n",
       "Crawfor     1\n",
       "NAmes       1\n",
       "Name: Neighborhood, dtype: int64"
      ]
     },
     "execution_count": 15,
     "metadata": {},
     "output_type": "execute_result"
    }
   ],
   "source": [
    "#len(df[(df.PoolArea==0) & df.PoolQC.isnull()])\n",
    "temp_df = df[df['Alley'].notnull()] \n",
    "temp_df.Neighborhood.value_counts()"
   ]
  },
  {
   "cell_type": "markdown",
   "id": "1f0e5ba6",
   "metadata": {},
   "source": [
    "I don't see any relationships that can help impute the missing values. Given almost 94% of the data is missing, I will just drop this feature."
   ]
  },
  {
   "cell_type": "code",
   "execution_count": 16,
   "id": "c3e0574e",
   "metadata": {},
   "outputs": [],
   "source": [
    "df.drop('Alley', axis=1, inplace=True)"
   ]
  },
  {
   "cell_type": "markdown",
   "id": "cd48358c",
   "metadata": {},
   "source": [
    "### Fence (80.75%)\n",
    "\n",
    "Fence quality\n",
    "\t\t\n",
    "- GdPrv\tGood Privacy\n",
    "- MnPrv\tMinimum Privacy\n",
    "- GdWo\tGood Wood\n",
    "- MnWw\tMinimum Wood/Wire\n",
    "- NA\tNo Fence"
   ]
  },
  {
   "cell_type": "code",
   "execution_count": null,
   "id": "83de9297",
   "metadata": {},
   "outputs": [],
   "source": []
  },
  {
   "cell_type": "markdown",
   "id": "89c38856",
   "metadata": {},
   "source": [
    "### FireplaceQu (47.26%)\n",
    "\n",
    "Fireplace quality\n",
    "\n",
    "- Ex\tExcellent - Exceptional Masonry Fireplace\n",
    "- Gd\tGood - Masonry Fireplace in main level\n",
    "- TA\tAverage - Prefabricated Fireplace in main living area or Masonry Fireplace in basement\n",
    "- Fa\tFair - Prefabricated Fireplace in basement\n",
    "- Po\tPoor - Ben Franklin Stove\n",
    "- NA\tNo Fireplace\n",
    "\n",
    "Fireplaces: Number of fireplaces"
   ]
  },
  {
   "cell_type": "code",
   "execution_count": 17,
   "id": "21a9459f",
   "metadata": {},
   "outputs": [
    {
     "data": {
      "text/plain": [
       "0    690\n",
       "1    650\n",
       "2    115\n",
       "3      5\n",
       "Name: Fireplaces, dtype: int64"
      ]
     },
     "execution_count": 17,
     "metadata": {},
     "output_type": "execute_result"
    }
   ],
   "source": [
    "df.Fireplaces.value_counts()"
   ]
  },
  {
   "cell_type": "markdown",
   "id": "5ae7b444",
   "metadata": {},
   "source": [
    "There are 690 homes with 0 fireplaces. This matches the number of missing FireplaceQu values."
   ]
  },
  {
   "cell_type": "code",
   "execution_count": 18,
   "id": "4de1f055",
   "metadata": {},
   "outputs": [
    {
     "data": {
      "text/plain": [
       "690"
      ]
     },
     "execution_count": 18,
     "metadata": {},
     "output_type": "execute_result"
    }
   ],
   "source": [
    "len(df[(df.Fireplaces==0) & df.FireplaceQu.isnull()])"
   ]
  },
  {
   "cell_type": "markdown",
   "id": "c8391b5f",
   "metadata": {},
   "source": [
    "All I need to do is fill nan's with 'QA'."
   ]
  },
  {
   "cell_type": "code",
   "execution_count": 19,
   "id": "85b65e71",
   "metadata": {},
   "outputs": [],
   "source": [
    "df.FireplaceQu.fillna('NA', inplace=True)"
   ]
  },
  {
   "cell_type": "markdown",
   "id": "fae35e0e",
   "metadata": {},
   "source": [
    "### LotFrontage (17.74%)\n",
    "\n",
    "Linear feet of street connected to property.\n",
    "\n",
    "Some related: \n",
    "- LotConfig: Lot configuration"
   ]
  },
  {
   "cell_type": "code",
   "execution_count": null,
   "id": "c4aed733",
   "metadata": {},
   "outputs": [],
   "source": []
  },
  {
   "cell_type": "markdown",
   "id": "0d3c1989",
   "metadata": {},
   "source": [
    "### GaragType, GarageYrBlt, GarageFinish, GarageQual, GarageCond (5.55%)\n",
    "\n",
    "Are all the same records missing these or are missing values spread around?"
   ]
  },
  {
   "cell_type": "code",
   "execution_count": null,
   "id": "74506cb5",
   "metadata": {},
   "outputs": [],
   "source": []
  },
  {
   "cell_type": "markdown",
   "id": "7a657ece",
   "metadata": {},
   "source": [
    "### BsmtExposure, BsmtFinType2 (2.60%)\n",
    "\n",
    "Are all the same records missing these or are missing values spread around?"
   ]
  },
  {
   "cell_type": "code",
   "execution_count": null,
   "id": "f3ea8f95",
   "metadata": {},
   "outputs": [],
   "source": []
  },
  {
   "cell_type": "markdown",
   "id": "fe0c5bb3",
   "metadata": {},
   "source": [
    "### BsmtQual, BsmtCond, BsmtFinType1 (2.53%)\n",
    "\n",
    "Are all the same records missing these or are missing values spread around?"
   ]
  },
  {
   "cell_type": "code",
   "execution_count": null,
   "id": "52143efa",
   "metadata": {},
   "outputs": [],
   "source": []
  },
  {
   "cell_type": "markdown",
   "id": "8a8162d6",
   "metadata": {},
   "source": [
    "### MasVnrType, MasVnrArea (0.55%)\n",
    "\n",
    "Are all the same records missing these or are missing values spread around?"
   ]
  },
  {
   "cell_type": "code",
   "execution_count": 20,
   "id": "bc60f8c6",
   "metadata": {},
   "outputs": [
    {
     "data": {
      "text/plain": [
       "8"
      ]
     },
     "execution_count": 20,
     "metadata": {},
     "output_type": "execute_result"
    }
   ],
   "source": [
    "len(df[df.MasVnrType.isnull() & df.MasVnrArea.isnull()])"
   ]
  },
  {
   "cell_type": "markdown",
   "id": "f805a813",
   "metadata": {},
   "source": [
    "All 8 missing values overlap. Exterior1st and Exterior2nd tell us what veneer type to assign to null values. Will have to take average area."
   ]
  },
  {
   "cell_type": "code",
   "execution_count": 21,
   "id": "49ee51a7",
   "metadata": {},
   "outputs": [
    {
     "data": {
      "text/plain": [
       "0.0      861\n",
       "180.0      8\n",
       "72.0       8\n",
       "108.0      8\n",
       "120.0      7\n",
       "        ... \n",
       "562.0      1\n",
       "89.0       1\n",
       "921.0      1\n",
       "762.0      1\n",
       "119.0      1\n",
       "Name: MasVnrArea, Length: 327, dtype: int64"
      ]
     },
     "execution_count": 21,
     "metadata": {},
     "output_type": "execute_result"
    }
   ],
   "source": [
    "df.MasVnrArea.value_counts()"
   ]
  },
  {
   "cell_type": "markdown",
   "id": "96a5bc26",
   "metadata": {},
   "source": [
    "An example of the Exterior1st and Exterior2nd values when veneer type and area are null."
   ]
  },
  {
   "cell_type": "code",
   "execution_count": 22,
   "id": "b8986074",
   "metadata": {},
   "outputs": [
    {
     "data": {
      "text/html": [
       "<div>\n",
       "<style scoped>\n",
       "    .dataframe tbody tr th:only-of-type {\n",
       "        vertical-align: middle;\n",
       "    }\n",
       "\n",
       "    .dataframe tbody tr th {\n",
       "        vertical-align: top;\n",
       "    }\n",
       "\n",
       "    .dataframe thead th {\n",
       "        text-align: right;\n",
       "    }\n",
       "</style>\n",
       "<table border=\"1\" class=\"dataframe\">\n",
       "  <thead>\n",
       "    <tr style=\"text-align: right;\">\n",
       "      <th></th>\n",
       "      <th>Exterior1st</th>\n",
       "      <th>Exterior2nd</th>\n",
       "      <th>MasVnrType</th>\n",
       "      <th>MasVnrArea</th>\n",
       "    </tr>\n",
       "  </thead>\n",
       "  <tbody>\n",
       "    <tr>\n",
       "      <th>234</th>\n",
       "      <td>VinylSd</td>\n",
       "      <td>VinylSd</td>\n",
       "      <td>NaN</td>\n",
       "      <td>NaN</td>\n",
       "    </tr>\n",
       "    <tr>\n",
       "      <th>529</th>\n",
       "      <td>Wd Sdng</td>\n",
       "      <td>Stone</td>\n",
       "      <td>NaN</td>\n",
       "      <td>NaN</td>\n",
       "    </tr>\n",
       "    <tr>\n",
       "      <th>650</th>\n",
       "      <td>CemntBd</td>\n",
       "      <td>CmentBd</td>\n",
       "      <td>NaN</td>\n",
       "      <td>NaN</td>\n",
       "    </tr>\n",
       "    <tr>\n",
       "      <th>936</th>\n",
       "      <td>VinylSd</td>\n",
       "      <td>VinylSd</td>\n",
       "      <td>NaN</td>\n",
       "      <td>NaN</td>\n",
       "    </tr>\n",
       "    <tr>\n",
       "      <th>973</th>\n",
       "      <td>CemntBd</td>\n",
       "      <td>CmentBd</td>\n",
       "      <td>NaN</td>\n",
       "      <td>NaN</td>\n",
       "    </tr>\n",
       "    <tr>\n",
       "      <th>977</th>\n",
       "      <td>VinylSd</td>\n",
       "      <td>VinylSd</td>\n",
       "      <td>NaN</td>\n",
       "      <td>NaN</td>\n",
       "    </tr>\n",
       "    <tr>\n",
       "      <th>1243</th>\n",
       "      <td>VinylSd</td>\n",
       "      <td>VinylSd</td>\n",
       "      <td>NaN</td>\n",
       "      <td>NaN</td>\n",
       "    </tr>\n",
       "    <tr>\n",
       "      <th>1278</th>\n",
       "      <td>VinylSd</td>\n",
       "      <td>VinylSd</td>\n",
       "      <td>NaN</td>\n",
       "      <td>NaN</td>\n",
       "    </tr>\n",
       "  </tbody>\n",
       "</table>\n",
       "</div>"
      ],
      "text/plain": [
       "     Exterior1st Exterior2nd MasVnrType  MasVnrArea\n",
       "234      VinylSd     VinylSd        NaN         NaN\n",
       "529      Wd Sdng       Stone        NaN         NaN\n",
       "650      CemntBd     CmentBd        NaN         NaN\n",
       "936      VinylSd     VinylSd        NaN         NaN\n",
       "973      CemntBd     CmentBd        NaN         NaN\n",
       "977      VinylSd     VinylSd        NaN         NaN\n",
       "1243     VinylSd     VinylSd        NaN         NaN\n",
       "1278     VinylSd     VinylSd        NaN         NaN"
      ]
     },
     "execution_count": 22,
     "metadata": {},
     "output_type": "execute_result"
    }
   ],
   "source": [
    "temp_df = df[['Exterior1st', 'Exterior2nd', 'MasVnrType', 'MasVnrArea']]\n",
    "\n",
    "temp_df[temp_df.MasVnrArea.isnull() & temp_df.MasVnrType.isnull()]"
   ]
  },
  {
   "cell_type": "markdown",
   "id": "acf0aad2",
   "metadata": {},
   "source": [
    "A conditional test can be used."
   ]
  },
  {
   "cell_type": "code",
   "execution_count": 23,
   "id": "d56a5011",
   "metadata": {},
   "outputs": [],
   "source": [
    "# calculate mean of all MasVnrArea values that are greater than 0.\n",
    "# for each house in data frame:\n",
    "#     if Exterior1st or Exterior2nd = Brick Common, then:\n",
    "#         MasVnrType = BrkCmn\n",
    "#         MasVnrArea = (mean)\n",
    "#     else if Exterior1st or Exterior2nd = Brick Face, then:\n",
    "#         MasVnrType = BrkFace\n",
    "#         MasVnrArea = (mean)\n",
    "#     else if Exterior1st or Exterior2nd = Cinder Block, then:\n",
    "#         MasVnrType = CBlock\n",
    "#         MasVnrArea = (mean)\n",
    "#     else if Exterior1st or Exterior2nd = Stone, then:\n",
    "#         MasVnrType = Stone\n",
    "#         MasVnrArea = (mean)\n",
    "#     else:\n",
    "#         MasVnrType = None\n",
    "#         MasVnrArea = 0.0"
   ]
  },
  {
   "cell_type": "code",
   "execution_count": 24,
   "id": "90f67e11",
   "metadata": {},
   "outputs": [
    {
     "data": {
      "text/plain": [
       "254.7394247038917"
      ]
     },
     "execution_count": 24,
     "metadata": {},
     "output_type": "execute_result"
    }
   ],
   "source": [
    "temp_df = df[(df['MasVnrArea'] > 0.0)]\n",
    "area_mean = temp_df.MasVnrArea.mean()\n",
    "area_mean"
   ]
  },
  {
   "cell_type": "code",
   "execution_count": 25,
   "id": "73d374fb",
   "metadata": {},
   "outputs": [
    {
     "name": "stdout",
     "output_type": "stream",
     "text": [
      "Found one of the others\n",
      "Found Stone\n",
      "Found one of the others\n",
      "Found one of the others\n",
      "Found one of the others\n",
      "Found one of the others\n",
      "Found one of the others\n",
      "Found one of the others\n"
     ]
    }
   ],
   "source": [
    "for i in df.index:\n",
    "    value = df.at[i, 'MasVnrType']\n",
    "    if(pd.isnull(value)):\n",
    "        if((df.at[i, 'Exterior1st'] == 'Brick Common') or (df.at[i, 'Exterior2nd'] == 'Brick Common')):\n",
    "            print('Found Brick Common')\n",
    "            df.at[i, 'MasVnrType'] = 'BrkCmn'\n",
    "            df.at[i, 'MasVnrArea'] = area_mean\n",
    "        elif((df.at[i, 'Exterior1st'] == 'Brick Face') or (df.at[i, 'Exterior2nd'] == 'Brick Face')):\n",
    "            print('Found Brick Face')\n",
    "            df.at[i, 'MasVnrType'] = 'BrkFace'\n",
    "            df.at[i, 'MasVnrArea'] = area_mean\n",
    "        elif((df.at[i, 'Exterior1st'] == 'Cinder Block') or (df.at[i, 'Exterior2nd'] == 'Cinder Block')):\n",
    "            print('Found Cinder Block')\n",
    "            df.at[i, 'MasVnrType'] = 'CBlock'\n",
    "            df.at[i, 'MasVnrArea'] = area_mean\n",
    "        elif((df.at[i, 'Exterior1st'] == 'Stone') or (df.at[i, 'Exterior2nd'] == 'Stone')):\n",
    "            print('Found Stone')\n",
    "            df.at[i, 'MasVnrType'] = 'Stone'\n",
    "            df.at[i, 'MasVnrArea'] = area_mean\n",
    "        else:\n",
    "            print('Found one of the others')\n",
    "            df.at[i, 'MasVnrType'] = 'None'\n",
    "            df.at[i, 'MasVnrArea'] = 0.0\n",
    "    "
   ]
  },
  {
   "cell_type": "code",
   "execution_count": 26,
   "id": "80a838f2",
   "metadata": {},
   "outputs": [
    {
     "data": {
      "text/html": [
       "<div>\n",
       "<style scoped>\n",
       "    .dataframe tbody tr th:only-of-type {\n",
       "        vertical-align: middle;\n",
       "    }\n",
       "\n",
       "    .dataframe tbody tr th {\n",
       "        vertical-align: top;\n",
       "    }\n",
       "\n",
       "    .dataframe thead th {\n",
       "        text-align: right;\n",
       "    }\n",
       "</style>\n",
       "<table border=\"1\" class=\"dataframe\">\n",
       "  <thead>\n",
       "    <tr style=\"text-align: right;\">\n",
       "      <th></th>\n",
       "      <th>Exterior1st</th>\n",
       "      <th>Exterior2nd</th>\n",
       "      <th>MasVnrType</th>\n",
       "      <th>MasVnrArea</th>\n",
       "    </tr>\n",
       "  </thead>\n",
       "  <tbody>\n",
       "  </tbody>\n",
       "</table>\n",
       "</div>"
      ],
      "text/plain": [
       "Empty DataFrame\n",
       "Columns: [Exterior1st, Exterior2nd, MasVnrType, MasVnrArea]\n",
       "Index: []"
      ]
     },
     "execution_count": 26,
     "metadata": {},
     "output_type": "execute_result"
    }
   ],
   "source": [
    "temp_df = df[['Exterior1st', 'Exterior2nd', 'MasVnrType', 'MasVnrArea']]\n",
    "\n",
    "temp_df[temp_df.MasVnrArea.isnull() & temp_df.MasVnrType.isnull()]"
   ]
  },
  {
   "cell_type": "markdown",
   "id": "5332c977",
   "metadata": {},
   "source": [
    "### Electrical (0.07%)\n",
    "\n",
    "\n"
   ]
  },
  {
   "cell_type": "code",
   "execution_count": 27,
   "id": "830185ea",
   "metadata": {},
   "outputs": [
    {
     "data": {
      "text/plain": [
       "SBrkr    1334\n",
       "FuseA      94\n",
       "FuseF      27\n",
       "FuseP       3\n",
       "Mix         1\n",
       "Name: Electrical, dtype: int64"
      ]
     },
     "execution_count": 27,
     "metadata": {},
     "output_type": "execute_result"
    }
   ],
   "source": [
    "df.Electrical.value_counts()"
   ]
  },
  {
   "cell_type": "markdown",
   "id": "1478bc13",
   "metadata": {},
   "source": [
    "There is only one missing value and 91.37% of values are SBrkr, so just set any missing values to SBrkr."
   ]
  },
  {
   "cell_type": "code",
   "execution_count": 28,
   "id": "4306c6f8",
   "metadata": {},
   "outputs": [],
   "source": [
    "df.Electrical.fillna('SBrkr', inplace=True)"
   ]
  },
  {
   "cell_type": "markdown",
   "id": "b2926171",
   "metadata": {},
   "source": [
    "### Let's see how we are doing."
   ]
  },
  {
   "cell_type": "code",
   "execution_count": 29,
   "id": "47546c77",
   "metadata": {},
   "outputs": [
    {
     "name": "stdout",
     "output_type": "stream",
     "text": [
      "LotFrontage      259\n",
      "BsmtQual          37\n",
      "BsmtCond          37\n",
      "BsmtExposure      38\n",
      "BsmtFinType1      37\n",
      "BsmtFinType2      38\n",
      "GarageType        81\n",
      "GarageYrBlt       81\n",
      "GarageFinish      81\n",
      "GarageQual        81\n",
      "GarageCond        81\n",
      "Fence           1179\n",
      "dtype: int64\n"
     ]
    }
   ],
   "source": [
    "featuresWithNullValues = df.isnull().sum()\n",
    "print(featuresWithNullValues[featuresWithNullValues > 0])"
   ]
  },
  {
   "cell_type": "code",
   "execution_count": null,
   "id": "db5c26ac",
   "metadata": {},
   "outputs": [],
   "source": []
  },
  {
   "cell_type": "code",
   "execution_count": null,
   "id": "c66bf1f7",
   "metadata": {},
   "outputs": [],
   "source": []
  }
 ],
 "metadata": {
  "kernelspec": {
   "display_name": "Python 3 (ipykernel)",
   "language": "python",
   "name": "python3"
  },
  "language_info": {
   "codemirror_mode": {
    "name": "ipython",
    "version": 3
   },
   "file_extension": ".py",
   "mimetype": "text/x-python",
   "name": "python",
   "nbconvert_exporter": "python",
   "pygments_lexer": "ipython3",
   "version": "3.9.12"
  }
 },
 "nbformat": 4,
 "nbformat_minor": 5
}
