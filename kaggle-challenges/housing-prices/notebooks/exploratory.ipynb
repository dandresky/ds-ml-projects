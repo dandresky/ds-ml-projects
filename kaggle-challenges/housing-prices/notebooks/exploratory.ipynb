{
 "cells": [
  {
   "cell_type": "markdown",
   "id": "6fca463a",
   "metadata": {},
   "source": [
    "# House Prices Kaggle Competition\n",
    "\n",
    "This notebook simply explores the dataset to see what insights can be gained."
   ]
  },
  {
   "cell_type": "code",
   "execution_count": null,
   "id": "af3a1057",
   "metadata": {},
   "outputs": [],
   "source": [
    "import numpy as np\n",
    "import pandas as pd\n",
    "import seaborn as sns\n",
    "import matplotlib.pyplot as plt\n",
    "\n",
    "%matplotlib inline"
   ]
  },
  {
   "cell_type": "markdown",
   "id": "383942d4",
   "metadata": {},
   "source": [
    "Import and inspect the data"
   ]
  },
  {
   "cell_type": "code",
   "execution_count": null,
   "id": "2f9d1925",
   "metadata": {},
   "outputs": [],
   "source": [
    "df = pd.read_csv('../data/train.csv')\n",
    "df.head()"
   ]
  },
  {
   "cell_type": "code",
   "execution_count": null,
   "id": "7e86a631",
   "metadata": {},
   "outputs": [],
   "source": [
    "df.describe()"
   ]
  },
  {
   "cell_type": "code",
   "execution_count": null,
   "id": "551cc861",
   "metadata": {},
   "outputs": [],
   "source": [
    "featuresWithNullValues = df.isnull().sum()\n",
    "print(featuresWithNullValues[featuresWithNullValues > 0])"
   ]
  },
  {
   "cell_type": "markdown",
   "id": "942a01f6",
   "metadata": {},
   "source": [
    "# Dealing with Missing Data\n",
    "\n",
    "The **train.csv** dataset has 1460 records and 81 features. There are 19 features with missing data that need to be treated with a variety of strategies. Ranked in order of most missing data to least:\n",
    "- PoolQC = 99.52%\n",
    "- MiscFeature = 96.30%\n",
    "- Alley = 93.76%\n",
    "- Fence = 80.75%\n",
    "- FireplaceQu = 47.26%\n",
    "- LotFrontage = 17.74%\n",
    "- GaragType, GarageYrBlt, GarageFinish, GarageQual, GarageCond = 5.55%\n",
    "- BsmtExposure, BsmtFinType2 = 2.60%\n",
    "- BsmtQual, BsmtCond, BsmtFinType1 = 2.53%\n",
    "- MasVnrType, MasVnrArea = 0.55%\n",
    "- Electrical = 0.07%"
   ]
  },
  {
   "cell_type": "markdown",
   "id": "c2a3cba8",
   "metadata": {},
   "source": [
    "### PoolQC (99.52%)\n",
    "\n",
    "PoolQC (Pool quality) is related to PoolArea which is not missing data and has a lot of 0's, which likely means there is no pool. Let's see if missing PoolQC values are correlated to PoolArea values that are 0."
   ]
  },
  {
   "cell_type": "code",
   "execution_count": null,
   "id": "c8ef4805",
   "metadata": {},
   "outputs": [],
   "source": [
    "df.PoolArea.value_counts().head(3)"
   ]
  },
  {
   "cell_type": "markdown",
   "id": "1ee52350",
   "metadata": {},
   "source": [
    "There are 1453 PoolArea values equal to 0 which matches the number of missing PoolQC values. Are they 100% correlated?"
   ]
  },
  {
   "cell_type": "code",
   "execution_count": null,
   "id": "35f0ddf0",
   "metadata": {},
   "outputs": [],
   "source": [
    "len(df[(df.PoolArea==0) & df.PoolQC.isnull()])"
   ]
  },
  {
   "cell_type": "markdown",
   "id": "602f6d1d",
   "metadata": {},
   "source": [
    "Yes they are. The data description allows for 'NA' as an option. **Let's replace nan with NA.**"
   ]
  },
  {
   "cell_type": "code",
   "execution_count": null,
   "id": "af1b854e",
   "metadata": {},
   "outputs": [],
   "source": [
    "df.PoolQC.fillna('NA', inplace=True)"
   ]
  },
  {
   "cell_type": "markdown",
   "id": "3e51d59a",
   "metadata": {},
   "source": [
    "### MiscFeatures (96.30%)\n",
    "\n",
    "Miscellaneous feature not covered in other categories. There is a MiscVal feature that is not missing data. I am guessing everywhere there is missing data for MiscFeature there will be a $0 value for MiscVal."
   ]
  },
  {
   "cell_type": "code",
   "execution_count": null,
   "id": "4218fa36",
   "metadata": {},
   "outputs": [],
   "source": [
    "df.MiscVal.value_counts().head(3)"
   ]
  },
  {
   "cell_type": "code",
   "execution_count": null,
   "id": "ac5d1143",
   "metadata": {},
   "outputs": [],
   "source": [
    "df.MiscFeature.value_counts()"
   ]
  },
  {
   "cell_type": "markdown",
   "id": "8b7e3b40",
   "metadata": {},
   "source": [
    "There are 2 more 0 value features than missing misc features. Is this because 'Othr' miscellaneous feature is 0 value?"
   ]
  },
  {
   "cell_type": "code",
   "execution_count": null,
   "id": "9e5d0d8b",
   "metadata": {},
   "outputs": [],
   "source": [
    "temp_df = df[['MiscFeature', 'MiscVal']]\n",
    "\n",
    "shed_df = temp_df[temp_df['MiscFeature'] == 'Shed'] \n",
    "gar2_df = temp_df[temp_df['MiscFeature'] == 'Gar2'] \n",
    "othr_df = temp_df[temp_df['MiscFeature'] == 'Othr'] \n",
    "tenc_df = temp_df[temp_df['MiscFeature'] == 'TenC'] \n",
    "\n",
    "othr_df.head()"
   ]
  },
  {
   "cell_type": "markdown",
   "id": "282d1fd0",
   "metadata": {},
   "source": [
    "No, one of the sheds (index 1200) is 0 as well.\n",
    "\n",
    "I'm not going to worry about the additional 2. If MiscFeature is nan **I will set to 'NA'** as defined in the data description."
   ]
  },
  {
   "cell_type": "code",
   "execution_count": null,
   "id": "a2cb45d2",
   "metadata": {},
   "outputs": [],
   "source": [
    "df.MiscFeature.fillna('NA', inplace=True)"
   ]
  },
  {
   "cell_type": "markdown",
   "id": "b380feda",
   "metadata": {},
   "source": [
    "### Alley (93.76%)\n",
    "\n",
    "Type of alley access to property\n",
    "\n",
    "- Grvl\tGravel\n",
    "- Pave\tPaved\n",
    "- NA \tNo alley access\n",
    "\n",
    "Some possibly related features:\n",
    "\n",
    "- Utilities: Type of utilities available - limited utilities access might imply no alley access.\n",
    "- BldgType: Type of dwelling - townhouses likely have no alley access."
   ]
  },
  {
   "cell_type": "code",
   "execution_count": null,
   "id": "dde5893c",
   "metadata": {},
   "outputs": [],
   "source": [
    "df.Utilities.value_counts()"
   ]
  },
  {
   "cell_type": "markdown",
   "id": "fe4fefcf",
   "metadata": {},
   "source": [
    "That wasn't helpful, what about BldgType?"
   ]
  },
  {
   "cell_type": "code",
   "execution_count": null,
   "id": "2e9fcda5",
   "metadata": {},
   "outputs": [],
   "source": [
    "df.BldgType.value_counts()"
   ]
  },
  {
   "cell_type": "markdown",
   "id": "8ac93713",
   "metadata": {},
   "source": [
    "Nothing there either. How about the Neighborhood?"
   ]
  },
  {
   "cell_type": "code",
   "execution_count": null,
   "id": "91190593",
   "metadata": {},
   "outputs": [],
   "source": [
    "df.Neighborhood.value_counts()"
   ]
  },
  {
   "cell_type": "code",
   "execution_count": null,
   "id": "b83a0504",
   "metadata": {},
   "outputs": [],
   "source": [
    "#len(df[(df.PoolArea==0) & df.PoolQC.isnull()])\n",
    "temp_df = df[df['Alley'].notnull()] \n",
    "temp_df.Neighborhood.value_counts()"
   ]
  },
  {
   "cell_type": "markdown",
   "id": "1f0e5ba6",
   "metadata": {},
   "source": [
    "I don't see any relationships that can help impute the missing values. Given almost 94% of the data is missing, **I will just drop this feature.**"
   ]
  },
  {
   "cell_type": "code",
   "execution_count": null,
   "id": "c3e0574e",
   "metadata": {},
   "outputs": [],
   "source": [
    "df.drop('Alley', axis=1, inplace=True)"
   ]
  },
  {
   "cell_type": "markdown",
   "id": "cd48358c",
   "metadata": {},
   "source": [
    "### Fence (80.75%)\n",
    "\n",
    "Fence quality\n",
    "\t\t\n",
    "- GdPrv\tGood Privacy\n",
    "- MnPrv\tMinimum Privacy\n",
    "- GdWo\tGood Wood\n",
    "- MnWw\tMinimum Wood/Wire\n",
    "- NA\tNo Fence"
   ]
  },
  {
   "cell_type": "code",
   "execution_count": null,
   "id": "83de9297",
   "metadata": {},
   "outputs": [],
   "source": [
    "df.Fence.value_counts()"
   ]
  },
  {
   "cell_type": "markdown",
   "id": "582cc786",
   "metadata": {},
   "source": [
    "There are too many missing values and no other feature gives a clue about this one. **So just drop it.**"
   ]
  },
  {
   "cell_type": "code",
   "execution_count": null,
   "id": "ff0b2439",
   "metadata": {},
   "outputs": [],
   "source": [
    "df.drop('Fence', axis=1, inplace=True)"
   ]
  },
  {
   "cell_type": "markdown",
   "id": "89c38856",
   "metadata": {},
   "source": [
    "### FireplaceQu (47.26%)\n",
    "\n",
    "Fireplace quality\n",
    "\n",
    "- Ex\tExcellent - Exceptional Masonry Fireplace\n",
    "- Gd\tGood - Masonry Fireplace in main level\n",
    "- TA\tAverage - Prefabricated Fireplace in main living area or Masonry Fireplace in basement\n",
    "- Fa\tFair - Prefabricated Fireplace in basement\n",
    "- Po\tPoor - Ben Franklin Stove\n",
    "- NA\tNo Fireplace\n",
    "\n",
    "Fireplaces: Number of fireplaces"
   ]
  },
  {
   "cell_type": "code",
   "execution_count": null,
   "id": "21a9459f",
   "metadata": {},
   "outputs": [],
   "source": [
    "df.Fireplaces.value_counts()"
   ]
  },
  {
   "cell_type": "markdown",
   "id": "5ae7b444",
   "metadata": {},
   "source": [
    "There are 690 homes with 0 fireplaces. This matches the number of missing FireplaceQu values."
   ]
  },
  {
   "cell_type": "code",
   "execution_count": null,
   "id": "4de1f055",
   "metadata": {},
   "outputs": [],
   "source": [
    "len(df[(df.Fireplaces==0) & df.FireplaceQu.isnull()])"
   ]
  },
  {
   "cell_type": "markdown",
   "id": "c8391b5f",
   "metadata": {},
   "source": [
    "All I need to do is **fill nan's with 'NA'.**"
   ]
  },
  {
   "cell_type": "code",
   "execution_count": null,
   "id": "85b65e71",
   "metadata": {},
   "outputs": [],
   "source": [
    "df.FireplaceQu.fillna('NA', inplace=True)"
   ]
  },
  {
   "cell_type": "markdown",
   "id": "fae35e0e",
   "metadata": {},
   "source": [
    "### LotFrontage (17.74%)\n",
    "\n",
    "Linear feet of street connected to property.\n",
    "\n",
    "Some related: \n",
    "- LotConfig: Lot configuration"
   ]
  },
  {
   "cell_type": "code",
   "execution_count": null,
   "id": "c4aed733",
   "metadata": {},
   "outputs": [],
   "source": [
    "df.LotFrontage.value_counts()"
   ]
  },
  {
   "cell_type": "markdown",
   "id": "6443acee",
   "metadata": {},
   "source": [
    "There are too many missing values and no other feature gives a clue about this one. **So just drop it.**"
   ]
  },
  {
   "cell_type": "code",
   "execution_count": null,
   "id": "98e378f7",
   "metadata": {},
   "outputs": [],
   "source": [
    "df.drop('LotFrontage', axis=1, inplace=True)"
   ]
  },
  {
   "cell_type": "markdown",
   "id": "0d3c1989",
   "metadata": {},
   "source": [
    "### GarageType, GarageYrBlt, GarageFinish, GarageQual, GarageCond (5.55%)"
   ]
  },
  {
   "cell_type": "code",
   "execution_count": null,
   "id": "74506cb5",
   "metadata": {},
   "outputs": [],
   "source": [
    "temp_df = df[['GarageCars', 'GarageArea', 'GarageType', 'GarageYrBlt', 'GarageFinish', 'GarageQual', 'GarageCond']]\n",
    "temp_df[temp_df['GarageType'].isnull()]"
   ]
  },
  {
   "cell_type": "code",
   "execution_count": null,
   "id": "5d449023",
   "metadata": {},
   "outputs": [],
   "source": [
    "temp_df.GarageCars.value_counts().head(10)"
   ]
  },
  {
   "cell_type": "markdown",
   "id": "dbfae190",
   "metadata": {},
   "source": [
    "There are 81 records for GarageType, GarageYrBlt, GarageFinish, GarageQual, and GarageCond. And there appears to be 81 correlated records for GarageCars and GarageArea with a value of 0.\n",
    "\n",
    "**fill GarageYrBlt with 0 and all others with 'NA'**"
   ]
  },
  {
   "cell_type": "code",
   "execution_count": null,
   "id": "80538bf1",
   "metadata": {},
   "outputs": [],
   "source": [
    "df.GarageType.fillna('NA', inplace=True)\n",
    "df.GarageYrBlt.fillna(0, inplace=True)\n",
    "df.GarageFinish.fillna('NA', inplace=True)\n",
    "df.GarageQual.fillna('NA', inplace=True)\n",
    "df.GarageCond.fillna('NA', inplace=True)"
   ]
  },
  {
   "cell_type": "markdown",
   "id": "fe0c5bb3",
   "metadata": {},
   "source": [
    "### BsmtQual, BsmtCond, BsmtFinType1 (2.53%) - BsmtExposure, BsmtFinType2 (2.60%)\n",
    "\n",
    "- BsmtQual: Evaluates the height of the basement\n",
    "- BsmtCond: Evaluates the general condition of the basement\n",
    "- BsmtFinType1: Rating of basement finished area\n",
    "- BsmtExposure: Refers to walkout or garden level walls\n",
    "- BsmtFinType2: Rating of basement finished area (if multiple types)\n",
    "\n",
    "TotalBsmtSF is not missing any values, could that be a predictor for the missing values above?"
   ]
  },
  {
   "cell_type": "code",
   "execution_count": null,
   "id": "3b6af82f",
   "metadata": {},
   "outputs": [],
   "source": [
    "df.TotalBsmtSF.value_counts().head(3)\n",
    "#df.TotalBsmtSF.value_counts().sum()"
   ]
  },
  {
   "cell_type": "markdown",
   "id": "e484299c",
   "metadata": {},
   "source": [
    "There are 37 values with 0 sf which matches number of missing values for BsmtQual, BsmtCond, BsmtFinType1. Are they 100% correlated?"
   ]
  },
  {
   "cell_type": "code",
   "execution_count": null,
   "id": "16283f2d",
   "metadata": {},
   "outputs": [],
   "source": [
    "len(df[(df.TotalBsmtSF==0) & df.BsmtQual.isnull() & df.BsmtCond.isnull() & df.BsmtFinType1.isnull()])"
   ]
  },
  {
   "cell_type": "markdown",
   "id": "5ac2d455",
   "metadata": {},
   "source": [
    "Yes they are. I can **set these missing values to 'NA'**"
   ]
  },
  {
   "cell_type": "code",
   "execution_count": null,
   "id": "3c04af53",
   "metadata": {},
   "outputs": [],
   "source": [
    "df.BsmtQual.fillna('NA', inplace=True)\n",
    "df.BsmtCond.fillna('NA', inplace=True)\n",
    "df.BsmtFinType1.fillna('NA', inplace=True)"
   ]
  },
  {
   "cell_type": "markdown",
   "id": "d75042cf",
   "metadata": {},
   "source": [
    "How many missing values for BsmtExposure and BsmtFinType2?"
   ]
  },
  {
   "cell_type": "code",
   "execution_count": null,
   "id": "e1820e6c",
   "metadata": {},
   "outputs": [],
   "source": [
    "1460 - df.BsmtExposure.value_counts().sum()\n",
    "1460 - df.BsmtFinType2.value_counts().sum()"
   ]
  },
  {
   "cell_type": "markdown",
   "id": "cd0fb282",
   "metadata": {},
   "source": [
    "Is there correlation for sf?"
   ]
  },
  {
   "cell_type": "code",
   "execution_count": null,
   "id": "7ff5f228",
   "metadata": {},
   "outputs": [],
   "source": [
    "len(df[(df.TotalBsmtSF==0) & df.BsmtExposure.isnull() & df.BsmtFinType2.isnull()])"
   ]
  },
  {
   "cell_type": "markdown",
   "id": "9109fe69",
   "metadata": {},
   "source": [
    "Yes there is. **Set these to 'NA'.**"
   ]
  },
  {
   "cell_type": "code",
   "execution_count": null,
   "id": "9056ecce",
   "metadata": {},
   "outputs": [],
   "source": [
    "for i in df.index:\n",
    "    if(df.at[i, 'TotalBsmtSF']==0):\n",
    "        df.at[i, 'BsmtExposure'] = 'NA'\n",
    "        df.at[i, 'BsmtFinType2'] = 'NA'"
   ]
  },
  {
   "cell_type": "markdown",
   "id": "8eb719f3",
   "metadata": {},
   "source": [
    "There is still one more record missing values BsmtExposure and BsmtFinType2. Are they correlated?"
   ]
  },
  {
   "cell_type": "code",
   "execution_count": null,
   "id": "998c445a",
   "metadata": {},
   "outputs": [],
   "source": [
    "temp_df = df[['TotalBsmtSF', 'BsmtUnfSF', 'BsmtFinSF1', 'BsmtFinSF2', 'BsmtExposure', 'BsmtFinType2']]\n",
    "\n",
    "temp_df[temp_df.BsmtExposure.isnull() | temp_df.BsmtFinType2.isnull()]"
   ]
  },
  {
   "cell_type": "markdown",
   "id": "1d3e4442",
   "metadata": {},
   "source": [
    "No, lets look at value counts for each and choose the most frequent option."
   ]
  },
  {
   "cell_type": "code",
   "execution_count": null,
   "id": "1b0773b8",
   "metadata": {},
   "outputs": [],
   "source": [
    "df.BsmtExposure.value_counts()"
   ]
  },
  {
   "cell_type": "code",
   "execution_count": null,
   "id": "180cec29",
   "metadata": {},
   "outputs": [],
   "source": [
    "df.BsmtFinType2.value_counts()"
   ]
  },
  {
   "cell_type": "markdown",
   "id": "c88912fa",
   "metadata": {},
   "source": [
    "**Set the missing values**"
   ]
  },
  {
   "cell_type": "code",
   "execution_count": null,
   "id": "49830d04",
   "metadata": {},
   "outputs": [],
   "source": [
    "index = df.index[df.BsmtExposure.isnull()]\n",
    "df.at[index[0], 'BsmtExposure'] = 'No'"
   ]
  },
  {
   "cell_type": "code",
   "execution_count": null,
   "id": "8117eeac",
   "metadata": {},
   "outputs": [],
   "source": [
    "index = df.index[df.BsmtFinType2.isnull()]\n",
    "df.at[index[0], 'BsmtFinType2'] = 'Unf'"
   ]
  },
  {
   "cell_type": "markdown",
   "id": "8a8162d6",
   "metadata": {},
   "source": [
    "### MasVnrType, MasVnrArea (0.55%)\n",
    "\n",
    "Are all the same records missing these or are missing values spread around?"
   ]
  },
  {
   "cell_type": "code",
   "execution_count": null,
   "id": "bc60f8c6",
   "metadata": {},
   "outputs": [],
   "source": [
    "len(df[df.MasVnrType.isnull() & df.MasVnrArea.isnull()])"
   ]
  },
  {
   "cell_type": "markdown",
   "id": "f805a813",
   "metadata": {},
   "source": [
    "All 8 missing values overlap. Exterior1st and Exterior2nd tell us what veneer type to assign to null values. Will have to take average area."
   ]
  },
  {
   "cell_type": "code",
   "execution_count": null,
   "id": "49ee51a7",
   "metadata": {},
   "outputs": [],
   "source": [
    "df.MasVnrArea.value_counts()"
   ]
  },
  {
   "cell_type": "markdown",
   "id": "96a5bc26",
   "metadata": {},
   "source": [
    "An example of the Exterior1st and Exterior2nd values when veneer type and area are null."
   ]
  },
  {
   "cell_type": "code",
   "execution_count": null,
   "id": "b8986074",
   "metadata": {},
   "outputs": [],
   "source": [
    "temp_df = df[['Exterior1st', 'Exterior2nd', 'MasVnrType', 'MasVnrArea']]\n",
    "\n",
    "temp_df[temp_df.MasVnrArea.isnull() & temp_df.MasVnrType.isnull()]"
   ]
  },
  {
   "cell_type": "markdown",
   "id": "acf0aad2",
   "metadata": {},
   "source": [
    "A conditional test can be used."
   ]
  },
  {
   "cell_type": "code",
   "execution_count": null,
   "id": "d56a5011",
   "metadata": {},
   "outputs": [],
   "source": [
    "# calculate mean of all MasVnrArea values that are greater than 0.\n",
    "# for each house in data frame:\n",
    "#     if Exterior1st or Exterior2nd = Brick Common, then:\n",
    "#         MasVnrType = BrkCmn\n",
    "#         MasVnrArea = (mean)\n",
    "#     else if Exterior1st or Exterior2nd = Brick Face, then:\n",
    "#         MasVnrType = BrkFace\n",
    "#         MasVnrArea = (mean)\n",
    "#     else if Exterior1st or Exterior2nd = Cinder Block, then:\n",
    "#         MasVnrType = CBlock\n",
    "#         MasVnrArea = (mean)\n",
    "#     else if Exterior1st or Exterior2nd = Stone, then:\n",
    "#         MasVnrType = Stone\n",
    "#         MasVnrArea = (mean)\n",
    "#     else:\n",
    "#         MasVnrType = None\n",
    "#         MasVnrArea = 0.0"
   ]
  },
  {
   "cell_type": "code",
   "execution_count": null,
   "id": "90f67e11",
   "metadata": {},
   "outputs": [],
   "source": [
    "temp_df = df[(df['MasVnrArea'] > 0.0)]\n",
    "area_mean = temp_df.MasVnrArea.mean()\n",
    "area_mean"
   ]
  },
  {
   "cell_type": "markdown",
   "id": "e3855279",
   "metadata": {},
   "source": [
    "**Fill in missing values**"
   ]
  },
  {
   "cell_type": "code",
   "execution_count": null,
   "id": "73d374fb",
   "metadata": {},
   "outputs": [],
   "source": [
    "for i in df.index:\n",
    "    value = df.at[i, 'MasVnrType']\n",
    "    if(pd.isnull(value)):\n",
    "        if((df.at[i, 'Exterior1st'] == 'Brick Common') or (df.at[i, 'Exterior2nd'] == 'Brick Common')):\n",
    "            print('Found Brick Common')\n",
    "            df.at[i, 'MasVnrType'] = 'BrkCmn'\n",
    "            df.at[i, 'MasVnrArea'] = area_mean\n",
    "        elif((df.at[i, 'Exterior1st'] == 'Brick Face') or (df.at[i, 'Exterior2nd'] == 'Brick Face')):\n",
    "            print('Found Brick Face')\n",
    "            df.at[i, 'MasVnrType'] = 'BrkFace'\n",
    "            df.at[i, 'MasVnrArea'] = area_mean\n",
    "        elif((df.at[i, 'Exterior1st'] == 'Cinder Block') or (df.at[i, 'Exterior2nd'] == 'Cinder Block')):\n",
    "            print('Found Cinder Block')\n",
    "            df.at[i, 'MasVnrType'] = 'CBlock'\n",
    "            df.at[i, 'MasVnrArea'] = area_mean\n",
    "        elif((df.at[i, 'Exterior1st'] == 'Stone') or (df.at[i, 'Exterior2nd'] == 'Stone')):\n",
    "            print('Found Stone')\n",
    "            df.at[i, 'MasVnrType'] = 'Stone'\n",
    "            df.at[i, 'MasVnrArea'] = area_mean\n",
    "        else:\n",
    "            print('Found one of the others')\n",
    "            df.at[i, 'MasVnrType'] = 'None'\n",
    "            df.at[i, 'MasVnrArea'] = 0.0\n",
    "    "
   ]
  },
  {
   "cell_type": "markdown",
   "id": "7a270aec",
   "metadata": {},
   "source": [
    "Verify that there are no longer any nan values for veneer area and type"
   ]
  },
  {
   "cell_type": "code",
   "execution_count": null,
   "id": "80a838f2",
   "metadata": {},
   "outputs": [],
   "source": [
    "temp_df = df[['Exterior1st', 'Exterior2nd', 'MasVnrType', 'MasVnrArea']]\n",
    "\n",
    "temp_df[temp_df.MasVnrArea.isnull() & temp_df.MasVnrType.isnull()]"
   ]
  },
  {
   "cell_type": "markdown",
   "id": "5332c977",
   "metadata": {},
   "source": [
    "### Electrical (0.07%)\n",
    "\n",
    "\n"
   ]
  },
  {
   "cell_type": "code",
   "execution_count": null,
   "id": "830185ea",
   "metadata": {},
   "outputs": [],
   "source": [
    "df.Electrical.value_counts()"
   ]
  },
  {
   "cell_type": "markdown",
   "id": "1478bc13",
   "metadata": {},
   "source": [
    "There is only one missing value and 91.37% of values are SBrkr, so just **set any missing values to SBrkr.**"
   ]
  },
  {
   "cell_type": "code",
   "execution_count": null,
   "id": "4306c6f8",
   "metadata": {},
   "outputs": [],
   "source": [
    "df.Electrical.fillna('SBrkr', inplace=True)"
   ]
  },
  {
   "cell_type": "markdown",
   "id": "b2926171",
   "metadata": {},
   "source": [
    "### Let's see how we are doing."
   ]
  },
  {
   "cell_type": "code",
   "execution_count": null,
   "id": "47546c77",
   "metadata": {},
   "outputs": [],
   "source": [
    "featuresWithNullValues = df.isnull().sum()\n",
    "print(featuresWithNullValues[featuresWithNullValues > 0])"
   ]
  },
  {
   "cell_type": "code",
   "execution_count": null,
   "id": "db5c26ac",
   "metadata": {},
   "outputs": [],
   "source": []
  },
  {
   "cell_type": "code",
   "execution_count": null,
   "id": "c66bf1f7",
   "metadata": {},
   "outputs": [],
   "source": []
  }
 ],
 "metadata": {
  "kernelspec": {
   "display_name": "Python 3 (ipykernel)",
   "language": "python",
   "name": "python3"
  },
  "language_info": {
   "codemirror_mode": {
    "name": "ipython",
    "version": 3
   },
   "file_extension": ".py",
   "mimetype": "text/x-python",
   "name": "python",
   "nbconvert_exporter": "python",
   "pygments_lexer": "ipython3",
   "version": "3.9.12"
  }
 },
 "nbformat": 4,
 "nbformat_minor": 5
}
