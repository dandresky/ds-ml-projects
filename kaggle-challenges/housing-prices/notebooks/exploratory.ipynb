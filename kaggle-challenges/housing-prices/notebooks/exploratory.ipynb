{
 "cells": [
  {
   "cell_type": "markdown",
   "id": "6fca463a",
   "metadata": {},
   "source": [
    "# House Prices Kaggle Competition\n",
    "\n",
    "This notebook simply explores the dataset to see what insights can be gained."
   ]
  },
  {
   "cell_type": "code",
   "execution_count": 1,
   "id": "af3a1057",
   "metadata": {},
   "outputs": [],
   "source": [
    "import numpy as np\n",
    "import pandas as pd\n",
    "import seaborn as sns\n",
    "import matplotlib.pyplot as plt\n",
    "\n",
    "%matplotlib inline"
   ]
  },
  {
   "cell_type": "markdown",
   "id": "383942d4",
   "metadata": {},
   "source": [
    "Import and inspect the data"
   ]
  },
  {
   "cell_type": "code",
   "execution_count": 2,
   "id": "2f9d1925",
   "metadata": {},
   "outputs": [
    {
     "data": {
      "text/html": [
       "<div>\n",
       "<style scoped>\n",
       "    .dataframe tbody tr th:only-of-type {\n",
       "        vertical-align: middle;\n",
       "    }\n",
       "\n",
       "    .dataframe tbody tr th {\n",
       "        vertical-align: top;\n",
       "    }\n",
       "\n",
       "    .dataframe thead th {\n",
       "        text-align: right;\n",
       "    }\n",
       "</style>\n",
       "<table border=\"1\" class=\"dataframe\">\n",
       "  <thead>\n",
       "    <tr style=\"text-align: right;\">\n",
       "      <th></th>\n",
       "      <th>Id</th>\n",
       "      <th>MSSubClass</th>\n",
       "      <th>MSZoning</th>\n",
       "      <th>LotFrontage</th>\n",
       "      <th>LotArea</th>\n",
       "      <th>Street</th>\n",
       "      <th>Alley</th>\n",
       "      <th>LotShape</th>\n",
       "      <th>LandContour</th>\n",
       "      <th>Utilities</th>\n",
       "      <th>...</th>\n",
       "      <th>PoolArea</th>\n",
       "      <th>PoolQC</th>\n",
       "      <th>Fence</th>\n",
       "      <th>MiscFeature</th>\n",
       "      <th>MiscVal</th>\n",
       "      <th>MoSold</th>\n",
       "      <th>YrSold</th>\n",
       "      <th>SaleType</th>\n",
       "      <th>SaleCondition</th>\n",
       "      <th>SalePrice</th>\n",
       "    </tr>\n",
       "  </thead>\n",
       "  <tbody>\n",
       "    <tr>\n",
       "      <th>0</th>\n",
       "      <td>1</td>\n",
       "      <td>60</td>\n",
       "      <td>RL</td>\n",
       "      <td>65.0</td>\n",
       "      <td>8450</td>\n",
       "      <td>Pave</td>\n",
       "      <td>NaN</td>\n",
       "      <td>Reg</td>\n",
       "      <td>Lvl</td>\n",
       "      <td>AllPub</td>\n",
       "      <td>...</td>\n",
       "      <td>0</td>\n",
       "      <td>NaN</td>\n",
       "      <td>NaN</td>\n",
       "      <td>NaN</td>\n",
       "      <td>0</td>\n",
       "      <td>2</td>\n",
       "      <td>2008</td>\n",
       "      <td>WD</td>\n",
       "      <td>Normal</td>\n",
       "      <td>208500</td>\n",
       "    </tr>\n",
       "    <tr>\n",
       "      <th>1</th>\n",
       "      <td>2</td>\n",
       "      <td>20</td>\n",
       "      <td>RL</td>\n",
       "      <td>80.0</td>\n",
       "      <td>9600</td>\n",
       "      <td>Pave</td>\n",
       "      <td>NaN</td>\n",
       "      <td>Reg</td>\n",
       "      <td>Lvl</td>\n",
       "      <td>AllPub</td>\n",
       "      <td>...</td>\n",
       "      <td>0</td>\n",
       "      <td>NaN</td>\n",
       "      <td>NaN</td>\n",
       "      <td>NaN</td>\n",
       "      <td>0</td>\n",
       "      <td>5</td>\n",
       "      <td>2007</td>\n",
       "      <td>WD</td>\n",
       "      <td>Normal</td>\n",
       "      <td>181500</td>\n",
       "    </tr>\n",
       "    <tr>\n",
       "      <th>2</th>\n",
       "      <td>3</td>\n",
       "      <td>60</td>\n",
       "      <td>RL</td>\n",
       "      <td>68.0</td>\n",
       "      <td>11250</td>\n",
       "      <td>Pave</td>\n",
       "      <td>NaN</td>\n",
       "      <td>IR1</td>\n",
       "      <td>Lvl</td>\n",
       "      <td>AllPub</td>\n",
       "      <td>...</td>\n",
       "      <td>0</td>\n",
       "      <td>NaN</td>\n",
       "      <td>NaN</td>\n",
       "      <td>NaN</td>\n",
       "      <td>0</td>\n",
       "      <td>9</td>\n",
       "      <td>2008</td>\n",
       "      <td>WD</td>\n",
       "      <td>Normal</td>\n",
       "      <td>223500</td>\n",
       "    </tr>\n",
       "    <tr>\n",
       "      <th>3</th>\n",
       "      <td>4</td>\n",
       "      <td>70</td>\n",
       "      <td>RL</td>\n",
       "      <td>60.0</td>\n",
       "      <td>9550</td>\n",
       "      <td>Pave</td>\n",
       "      <td>NaN</td>\n",
       "      <td>IR1</td>\n",
       "      <td>Lvl</td>\n",
       "      <td>AllPub</td>\n",
       "      <td>...</td>\n",
       "      <td>0</td>\n",
       "      <td>NaN</td>\n",
       "      <td>NaN</td>\n",
       "      <td>NaN</td>\n",
       "      <td>0</td>\n",
       "      <td>2</td>\n",
       "      <td>2006</td>\n",
       "      <td>WD</td>\n",
       "      <td>Abnorml</td>\n",
       "      <td>140000</td>\n",
       "    </tr>\n",
       "    <tr>\n",
       "      <th>4</th>\n",
       "      <td>5</td>\n",
       "      <td>60</td>\n",
       "      <td>RL</td>\n",
       "      <td>84.0</td>\n",
       "      <td>14260</td>\n",
       "      <td>Pave</td>\n",
       "      <td>NaN</td>\n",
       "      <td>IR1</td>\n",
       "      <td>Lvl</td>\n",
       "      <td>AllPub</td>\n",
       "      <td>...</td>\n",
       "      <td>0</td>\n",
       "      <td>NaN</td>\n",
       "      <td>NaN</td>\n",
       "      <td>NaN</td>\n",
       "      <td>0</td>\n",
       "      <td>12</td>\n",
       "      <td>2008</td>\n",
       "      <td>WD</td>\n",
       "      <td>Normal</td>\n",
       "      <td>250000</td>\n",
       "    </tr>\n",
       "  </tbody>\n",
       "</table>\n",
       "<p>5 rows × 81 columns</p>\n",
       "</div>"
      ],
      "text/plain": [
       "   Id  MSSubClass MSZoning  LotFrontage  LotArea Street Alley LotShape  \\\n",
       "0   1          60       RL         65.0     8450   Pave   NaN      Reg   \n",
       "1   2          20       RL         80.0     9600   Pave   NaN      Reg   \n",
       "2   3          60       RL         68.0    11250   Pave   NaN      IR1   \n",
       "3   4          70       RL         60.0     9550   Pave   NaN      IR1   \n",
       "4   5          60       RL         84.0    14260   Pave   NaN      IR1   \n",
       "\n",
       "  LandContour Utilities  ... PoolArea PoolQC Fence MiscFeature MiscVal MoSold  \\\n",
       "0         Lvl    AllPub  ...        0    NaN   NaN         NaN       0      2   \n",
       "1         Lvl    AllPub  ...        0    NaN   NaN         NaN       0      5   \n",
       "2         Lvl    AllPub  ...        0    NaN   NaN         NaN       0      9   \n",
       "3         Lvl    AllPub  ...        0    NaN   NaN         NaN       0      2   \n",
       "4         Lvl    AllPub  ...        0    NaN   NaN         NaN       0     12   \n",
       "\n",
       "  YrSold  SaleType  SaleCondition  SalePrice  \n",
       "0   2008        WD         Normal     208500  \n",
       "1   2007        WD         Normal     181500  \n",
       "2   2008        WD         Normal     223500  \n",
       "3   2006        WD        Abnorml     140000  \n",
       "4   2008        WD         Normal     250000  \n",
       "\n",
       "[5 rows x 81 columns]"
      ]
     },
     "execution_count": 2,
     "metadata": {},
     "output_type": "execute_result"
    }
   ],
   "source": [
    "df = pd.read_csv('../data/train.csv')\n",
    "df.head()"
   ]
  },
  {
   "cell_type": "code",
   "execution_count": 3,
   "id": "7e86a631",
   "metadata": {},
   "outputs": [
    {
     "data": {
      "text/html": [
       "<div>\n",
       "<style scoped>\n",
       "    .dataframe tbody tr th:only-of-type {\n",
       "        vertical-align: middle;\n",
       "    }\n",
       "\n",
       "    .dataframe tbody tr th {\n",
       "        vertical-align: top;\n",
       "    }\n",
       "\n",
       "    .dataframe thead th {\n",
       "        text-align: right;\n",
       "    }\n",
       "</style>\n",
       "<table border=\"1\" class=\"dataframe\">\n",
       "  <thead>\n",
       "    <tr style=\"text-align: right;\">\n",
       "      <th></th>\n",
       "      <th>Id</th>\n",
       "      <th>MSSubClass</th>\n",
       "      <th>LotFrontage</th>\n",
       "      <th>LotArea</th>\n",
       "      <th>OverallQual</th>\n",
       "      <th>OverallCond</th>\n",
       "      <th>YearBuilt</th>\n",
       "      <th>YearRemodAdd</th>\n",
       "      <th>MasVnrArea</th>\n",
       "      <th>BsmtFinSF1</th>\n",
       "      <th>...</th>\n",
       "      <th>WoodDeckSF</th>\n",
       "      <th>OpenPorchSF</th>\n",
       "      <th>EnclosedPorch</th>\n",
       "      <th>3SsnPorch</th>\n",
       "      <th>ScreenPorch</th>\n",
       "      <th>PoolArea</th>\n",
       "      <th>MiscVal</th>\n",
       "      <th>MoSold</th>\n",
       "      <th>YrSold</th>\n",
       "      <th>SalePrice</th>\n",
       "    </tr>\n",
       "  </thead>\n",
       "  <tbody>\n",
       "    <tr>\n",
       "      <th>count</th>\n",
       "      <td>1460.000000</td>\n",
       "      <td>1460.000000</td>\n",
       "      <td>1201.000000</td>\n",
       "      <td>1460.000000</td>\n",
       "      <td>1460.000000</td>\n",
       "      <td>1460.000000</td>\n",
       "      <td>1460.000000</td>\n",
       "      <td>1460.000000</td>\n",
       "      <td>1452.000000</td>\n",
       "      <td>1460.000000</td>\n",
       "      <td>...</td>\n",
       "      <td>1460.000000</td>\n",
       "      <td>1460.000000</td>\n",
       "      <td>1460.000000</td>\n",
       "      <td>1460.000000</td>\n",
       "      <td>1460.000000</td>\n",
       "      <td>1460.000000</td>\n",
       "      <td>1460.000000</td>\n",
       "      <td>1460.000000</td>\n",
       "      <td>1460.000000</td>\n",
       "      <td>1460.000000</td>\n",
       "    </tr>\n",
       "    <tr>\n",
       "      <th>mean</th>\n",
       "      <td>730.500000</td>\n",
       "      <td>56.897260</td>\n",
       "      <td>70.049958</td>\n",
       "      <td>10516.828082</td>\n",
       "      <td>6.099315</td>\n",
       "      <td>5.575342</td>\n",
       "      <td>1971.267808</td>\n",
       "      <td>1984.865753</td>\n",
       "      <td>103.685262</td>\n",
       "      <td>443.639726</td>\n",
       "      <td>...</td>\n",
       "      <td>94.244521</td>\n",
       "      <td>46.660274</td>\n",
       "      <td>21.954110</td>\n",
       "      <td>3.409589</td>\n",
       "      <td>15.060959</td>\n",
       "      <td>2.758904</td>\n",
       "      <td>43.489041</td>\n",
       "      <td>6.321918</td>\n",
       "      <td>2007.815753</td>\n",
       "      <td>180921.195890</td>\n",
       "    </tr>\n",
       "    <tr>\n",
       "      <th>std</th>\n",
       "      <td>421.610009</td>\n",
       "      <td>42.300571</td>\n",
       "      <td>24.284752</td>\n",
       "      <td>9981.264932</td>\n",
       "      <td>1.382997</td>\n",
       "      <td>1.112799</td>\n",
       "      <td>30.202904</td>\n",
       "      <td>20.645407</td>\n",
       "      <td>181.066207</td>\n",
       "      <td>456.098091</td>\n",
       "      <td>...</td>\n",
       "      <td>125.338794</td>\n",
       "      <td>66.256028</td>\n",
       "      <td>61.119149</td>\n",
       "      <td>29.317331</td>\n",
       "      <td>55.757415</td>\n",
       "      <td>40.177307</td>\n",
       "      <td>496.123024</td>\n",
       "      <td>2.703626</td>\n",
       "      <td>1.328095</td>\n",
       "      <td>79442.502883</td>\n",
       "    </tr>\n",
       "    <tr>\n",
       "      <th>min</th>\n",
       "      <td>1.000000</td>\n",
       "      <td>20.000000</td>\n",
       "      <td>21.000000</td>\n",
       "      <td>1300.000000</td>\n",
       "      <td>1.000000</td>\n",
       "      <td>1.000000</td>\n",
       "      <td>1872.000000</td>\n",
       "      <td>1950.000000</td>\n",
       "      <td>0.000000</td>\n",
       "      <td>0.000000</td>\n",
       "      <td>...</td>\n",
       "      <td>0.000000</td>\n",
       "      <td>0.000000</td>\n",
       "      <td>0.000000</td>\n",
       "      <td>0.000000</td>\n",
       "      <td>0.000000</td>\n",
       "      <td>0.000000</td>\n",
       "      <td>0.000000</td>\n",
       "      <td>1.000000</td>\n",
       "      <td>2006.000000</td>\n",
       "      <td>34900.000000</td>\n",
       "    </tr>\n",
       "    <tr>\n",
       "      <th>25%</th>\n",
       "      <td>365.750000</td>\n",
       "      <td>20.000000</td>\n",
       "      <td>59.000000</td>\n",
       "      <td>7553.500000</td>\n",
       "      <td>5.000000</td>\n",
       "      <td>5.000000</td>\n",
       "      <td>1954.000000</td>\n",
       "      <td>1967.000000</td>\n",
       "      <td>0.000000</td>\n",
       "      <td>0.000000</td>\n",
       "      <td>...</td>\n",
       "      <td>0.000000</td>\n",
       "      <td>0.000000</td>\n",
       "      <td>0.000000</td>\n",
       "      <td>0.000000</td>\n",
       "      <td>0.000000</td>\n",
       "      <td>0.000000</td>\n",
       "      <td>0.000000</td>\n",
       "      <td>5.000000</td>\n",
       "      <td>2007.000000</td>\n",
       "      <td>129975.000000</td>\n",
       "    </tr>\n",
       "    <tr>\n",
       "      <th>50%</th>\n",
       "      <td>730.500000</td>\n",
       "      <td>50.000000</td>\n",
       "      <td>69.000000</td>\n",
       "      <td>9478.500000</td>\n",
       "      <td>6.000000</td>\n",
       "      <td>5.000000</td>\n",
       "      <td>1973.000000</td>\n",
       "      <td>1994.000000</td>\n",
       "      <td>0.000000</td>\n",
       "      <td>383.500000</td>\n",
       "      <td>...</td>\n",
       "      <td>0.000000</td>\n",
       "      <td>25.000000</td>\n",
       "      <td>0.000000</td>\n",
       "      <td>0.000000</td>\n",
       "      <td>0.000000</td>\n",
       "      <td>0.000000</td>\n",
       "      <td>0.000000</td>\n",
       "      <td>6.000000</td>\n",
       "      <td>2008.000000</td>\n",
       "      <td>163000.000000</td>\n",
       "    </tr>\n",
       "    <tr>\n",
       "      <th>75%</th>\n",
       "      <td>1095.250000</td>\n",
       "      <td>70.000000</td>\n",
       "      <td>80.000000</td>\n",
       "      <td>11601.500000</td>\n",
       "      <td>7.000000</td>\n",
       "      <td>6.000000</td>\n",
       "      <td>2000.000000</td>\n",
       "      <td>2004.000000</td>\n",
       "      <td>166.000000</td>\n",
       "      <td>712.250000</td>\n",
       "      <td>...</td>\n",
       "      <td>168.000000</td>\n",
       "      <td>68.000000</td>\n",
       "      <td>0.000000</td>\n",
       "      <td>0.000000</td>\n",
       "      <td>0.000000</td>\n",
       "      <td>0.000000</td>\n",
       "      <td>0.000000</td>\n",
       "      <td>8.000000</td>\n",
       "      <td>2009.000000</td>\n",
       "      <td>214000.000000</td>\n",
       "    </tr>\n",
       "    <tr>\n",
       "      <th>max</th>\n",
       "      <td>1460.000000</td>\n",
       "      <td>190.000000</td>\n",
       "      <td>313.000000</td>\n",
       "      <td>215245.000000</td>\n",
       "      <td>10.000000</td>\n",
       "      <td>9.000000</td>\n",
       "      <td>2010.000000</td>\n",
       "      <td>2010.000000</td>\n",
       "      <td>1600.000000</td>\n",
       "      <td>5644.000000</td>\n",
       "      <td>...</td>\n",
       "      <td>857.000000</td>\n",
       "      <td>547.000000</td>\n",
       "      <td>552.000000</td>\n",
       "      <td>508.000000</td>\n",
       "      <td>480.000000</td>\n",
       "      <td>738.000000</td>\n",
       "      <td>15500.000000</td>\n",
       "      <td>12.000000</td>\n",
       "      <td>2010.000000</td>\n",
       "      <td>755000.000000</td>\n",
       "    </tr>\n",
       "  </tbody>\n",
       "</table>\n",
       "<p>8 rows × 38 columns</p>\n",
       "</div>"
      ],
      "text/plain": [
       "                Id   MSSubClass  LotFrontage        LotArea  OverallQual  \\\n",
       "count  1460.000000  1460.000000  1201.000000    1460.000000  1460.000000   \n",
       "mean    730.500000    56.897260    70.049958   10516.828082     6.099315   \n",
       "std     421.610009    42.300571    24.284752    9981.264932     1.382997   \n",
       "min       1.000000    20.000000    21.000000    1300.000000     1.000000   \n",
       "25%     365.750000    20.000000    59.000000    7553.500000     5.000000   \n",
       "50%     730.500000    50.000000    69.000000    9478.500000     6.000000   \n",
       "75%    1095.250000    70.000000    80.000000   11601.500000     7.000000   \n",
       "max    1460.000000   190.000000   313.000000  215245.000000    10.000000   \n",
       "\n",
       "       OverallCond    YearBuilt  YearRemodAdd   MasVnrArea   BsmtFinSF1  ...  \\\n",
       "count  1460.000000  1460.000000   1460.000000  1452.000000  1460.000000  ...   \n",
       "mean      5.575342  1971.267808   1984.865753   103.685262   443.639726  ...   \n",
       "std       1.112799    30.202904     20.645407   181.066207   456.098091  ...   \n",
       "min       1.000000  1872.000000   1950.000000     0.000000     0.000000  ...   \n",
       "25%       5.000000  1954.000000   1967.000000     0.000000     0.000000  ...   \n",
       "50%       5.000000  1973.000000   1994.000000     0.000000   383.500000  ...   \n",
       "75%       6.000000  2000.000000   2004.000000   166.000000   712.250000  ...   \n",
       "max       9.000000  2010.000000   2010.000000  1600.000000  5644.000000  ...   \n",
       "\n",
       "        WoodDeckSF  OpenPorchSF  EnclosedPorch    3SsnPorch  ScreenPorch  \\\n",
       "count  1460.000000  1460.000000    1460.000000  1460.000000  1460.000000   \n",
       "mean     94.244521    46.660274      21.954110     3.409589    15.060959   \n",
       "std     125.338794    66.256028      61.119149    29.317331    55.757415   \n",
       "min       0.000000     0.000000       0.000000     0.000000     0.000000   \n",
       "25%       0.000000     0.000000       0.000000     0.000000     0.000000   \n",
       "50%       0.000000    25.000000       0.000000     0.000000     0.000000   \n",
       "75%     168.000000    68.000000       0.000000     0.000000     0.000000   \n",
       "max     857.000000   547.000000     552.000000   508.000000   480.000000   \n",
       "\n",
       "          PoolArea       MiscVal       MoSold       YrSold      SalePrice  \n",
       "count  1460.000000   1460.000000  1460.000000  1460.000000    1460.000000  \n",
       "mean      2.758904     43.489041     6.321918  2007.815753  180921.195890  \n",
       "std      40.177307    496.123024     2.703626     1.328095   79442.502883  \n",
       "min       0.000000      0.000000     1.000000  2006.000000   34900.000000  \n",
       "25%       0.000000      0.000000     5.000000  2007.000000  129975.000000  \n",
       "50%       0.000000      0.000000     6.000000  2008.000000  163000.000000  \n",
       "75%       0.000000      0.000000     8.000000  2009.000000  214000.000000  \n",
       "max     738.000000  15500.000000    12.000000  2010.000000  755000.000000  \n",
       "\n",
       "[8 rows x 38 columns]"
      ]
     },
     "execution_count": 3,
     "metadata": {},
     "output_type": "execute_result"
    }
   ],
   "source": [
    "df.describe()"
   ]
  },
  {
   "cell_type": "code",
   "execution_count": 4,
   "id": "551cc861",
   "metadata": {},
   "outputs": [
    {
     "name": "stdout",
     "output_type": "stream",
     "text": [
      "LotFrontage      259\n",
      "Alley           1369\n",
      "MasVnrType         8\n",
      "MasVnrArea         8\n",
      "BsmtQual          37\n",
      "BsmtCond          37\n",
      "BsmtExposure      38\n",
      "BsmtFinType1      37\n",
      "BsmtFinType2      38\n",
      "Electrical         1\n",
      "FireplaceQu      690\n",
      "GarageType        81\n",
      "GarageYrBlt       81\n",
      "GarageFinish      81\n",
      "GarageQual        81\n",
      "GarageCond        81\n",
      "PoolQC          1453\n",
      "Fence           1179\n",
      "MiscFeature     1406\n",
      "dtype: int64\n"
     ]
    }
   ],
   "source": [
    "featuresWithNullValues = df.isnull().sum()\n",
    "print(featuresWithNullValues[featuresWithNullValues > 0])"
   ]
  },
  {
   "cell_type": "markdown",
   "id": "942a01f6",
   "metadata": {},
   "source": [
    "# Training Data Cleanup\n",
    "\n",
    "The **train.csv** dataset has 1460 records and 81 features. There are 19 features with missing data that need to be treated with a variety of strategies. Ranked in order of most missing data to least:\n",
    "- PoolQC = 99.52%\n",
    "- MiscFeature = 96.30%\n",
    "- Alley = 93.76%\n",
    "- Fence = 80.75%\n",
    "- FireplaceQu = 47.26%\n",
    "- LotFrontage = 17.74%\n",
    "- GaragType, GarageYrBlt, GarageFinish, GarageQual, GarageCond = 5.55%\n",
    "- BsmtExposure, BsmtFinType2 = 2.60%\n",
    "- BsmtQual, BsmtCond, BsmtFinType1 = 2.53%\n",
    "- MasVnrType, MasVnrArea = 0.55%\n",
    "- Electrical = 0.07%"
   ]
  },
  {
   "cell_type": "markdown",
   "id": "c2a3cba8",
   "metadata": {},
   "source": [
    "### PoolQC (99.52%)\n",
    "\n",
    "PoolQC (Pool quality) is related to PoolArea which is not missing data and has a lot of 0's, which likely means there is no pool. Let's see if missing PoolQC values are correlated to PoolArea values that are 0."
   ]
  },
  {
   "cell_type": "code",
   "execution_count": 5,
   "id": "c8ef4805",
   "metadata": {},
   "outputs": [
    {
     "data": {
      "text/plain": [
       "0      1453\n",
       "512       1\n",
       "648       1\n",
       "Name: PoolArea, dtype: int64"
      ]
     },
     "execution_count": 5,
     "metadata": {},
     "output_type": "execute_result"
    }
   ],
   "source": [
    "df.PoolArea.value_counts().head(3)"
   ]
  },
  {
   "cell_type": "markdown",
   "id": "1ee52350",
   "metadata": {},
   "source": [
    "There are 1453 PoolArea values equal to 0 which matches the number of missing PoolQC values. Are they 100% correlated?"
   ]
  },
  {
   "cell_type": "code",
   "execution_count": 6,
   "id": "35f0ddf0",
   "metadata": {},
   "outputs": [
    {
     "data": {
      "text/plain": [
       "1453"
      ]
     },
     "execution_count": 6,
     "metadata": {},
     "output_type": "execute_result"
    }
   ],
   "source": [
    "len(df[(df.PoolArea==0) & df.PoolQC.isnull()])"
   ]
  },
  {
   "cell_type": "markdown",
   "id": "602f6d1d",
   "metadata": {},
   "source": [
    "Yes they are. The data description allows for 'NA' as an option. **Let's replace nan with NA.**"
   ]
  },
  {
   "cell_type": "code",
   "execution_count": 7,
   "id": "af1b854e",
   "metadata": {},
   "outputs": [],
   "source": [
    "df.PoolQC.fillna('NA', inplace=True)"
   ]
  },
  {
   "cell_type": "markdown",
   "id": "3e51d59a",
   "metadata": {},
   "source": [
    "### MiscFeatures (96.30%)\n",
    "\n",
    "Miscellaneous feature not covered in other categories. There is a MiscVal feature that is not missing data. I am guessing everywhere there is missing data for MiscFeature there will be a $0 value for MiscVal."
   ]
  },
  {
   "cell_type": "code",
   "execution_count": 8,
   "id": "4218fa36",
   "metadata": {},
   "outputs": [
    {
     "data": {
      "text/plain": [
       "0      1408\n",
       "400      11\n",
       "500       8\n",
       "Name: MiscVal, dtype: int64"
      ]
     },
     "execution_count": 8,
     "metadata": {},
     "output_type": "execute_result"
    }
   ],
   "source": [
    "df.MiscVal.value_counts().head(3)"
   ]
  },
  {
   "cell_type": "code",
   "execution_count": 9,
   "id": "ac5d1143",
   "metadata": {},
   "outputs": [
    {
     "data": {
      "text/plain": [
       "Shed    49\n",
       "Gar2     2\n",
       "Othr     2\n",
       "TenC     1\n",
       "Name: MiscFeature, dtype: int64"
      ]
     },
     "execution_count": 9,
     "metadata": {},
     "output_type": "execute_result"
    }
   ],
   "source": [
    "df.MiscFeature.value_counts()"
   ]
  },
  {
   "cell_type": "markdown",
   "id": "8b7e3b40",
   "metadata": {},
   "source": [
    "There are 2 more 0 value features than missing misc features. Is this because 'Othr' miscellaneous feature is 0 value?"
   ]
  },
  {
   "cell_type": "code",
   "execution_count": 10,
   "id": "9e5d0d8b",
   "metadata": {},
   "outputs": [
    {
     "data": {
      "text/html": [
       "<div>\n",
       "<style scoped>\n",
       "    .dataframe tbody tr th:only-of-type {\n",
       "        vertical-align: middle;\n",
       "    }\n",
       "\n",
       "    .dataframe tbody tr th {\n",
       "        vertical-align: top;\n",
       "    }\n",
       "\n",
       "    .dataframe thead th {\n",
       "        text-align: right;\n",
       "    }\n",
       "</style>\n",
       "<table border=\"1\" class=\"dataframe\">\n",
       "  <thead>\n",
       "    <tr style=\"text-align: right;\">\n",
       "      <th></th>\n",
       "      <th>MiscFeature</th>\n",
       "      <th>MiscVal</th>\n",
       "    </tr>\n",
       "  </thead>\n",
       "  <tbody>\n",
       "    <tr>\n",
       "      <th>705</th>\n",
       "      <td>Othr</td>\n",
       "      <td>3500</td>\n",
       "    </tr>\n",
       "    <tr>\n",
       "      <th>873</th>\n",
       "      <td>Othr</td>\n",
       "      <td>0</td>\n",
       "    </tr>\n",
       "  </tbody>\n",
       "</table>\n",
       "</div>"
      ],
      "text/plain": [
       "    MiscFeature  MiscVal\n",
       "705        Othr     3500\n",
       "873        Othr        0"
      ]
     },
     "execution_count": 10,
     "metadata": {},
     "output_type": "execute_result"
    }
   ],
   "source": [
    "temp_df = df[['MiscFeature', 'MiscVal']]\n",
    "\n",
    "shed_df = temp_df[temp_df['MiscFeature'] == 'Shed'] \n",
    "gar2_df = temp_df[temp_df['MiscFeature'] == 'Gar2'] \n",
    "othr_df = temp_df[temp_df['MiscFeature'] == 'Othr'] \n",
    "tenc_df = temp_df[temp_df['MiscFeature'] == 'TenC'] \n",
    "\n",
    "othr_df.head()"
   ]
  },
  {
   "cell_type": "markdown",
   "id": "282d1fd0",
   "metadata": {},
   "source": [
    "No, one of the sheds (index 1200) is 0 as well.\n",
    "\n",
    "I'm not going to worry about the additional 2. If MiscFeature is nan **I will set to 'NA'** as defined in the data description."
   ]
  },
  {
   "cell_type": "code",
   "execution_count": 11,
   "id": "a2cb45d2",
   "metadata": {},
   "outputs": [],
   "source": [
    "df.MiscFeature.fillna('NA', inplace=True)"
   ]
  },
  {
   "cell_type": "markdown",
   "id": "b380feda",
   "metadata": {},
   "source": [
    "### Alley (93.76%)\n",
    "\n",
    "Type of alley access to property\n",
    "\n",
    "- Grvl\tGravel\n",
    "- Pave\tPaved\n",
    "- NA \tNo alley access\n",
    "\n",
    "Some possibly related features:\n",
    "\n",
    "- Utilities: Type of utilities available - limited utilities access might imply no alley access.\n",
    "- BldgType: Type of dwelling - townhouses likely have no alley access."
   ]
  },
  {
   "cell_type": "code",
   "execution_count": 12,
   "id": "dde5893c",
   "metadata": {},
   "outputs": [
    {
     "data": {
      "text/plain": [
       "AllPub    1459\n",
       "NoSeWa       1\n",
       "Name: Utilities, dtype: int64"
      ]
     },
     "execution_count": 12,
     "metadata": {},
     "output_type": "execute_result"
    }
   ],
   "source": [
    "df.Utilities.value_counts()"
   ]
  },
  {
   "cell_type": "markdown",
   "id": "fe4fefcf",
   "metadata": {},
   "source": [
    "That wasn't helpful, what about BldgType?"
   ]
  },
  {
   "cell_type": "code",
   "execution_count": 13,
   "id": "2e9fcda5",
   "metadata": {},
   "outputs": [
    {
     "data": {
      "text/plain": [
       "1Fam      1220\n",
       "TwnhsE     114\n",
       "Duplex      52\n",
       "Twnhs       43\n",
       "2fmCon      31\n",
       "Name: BldgType, dtype: int64"
      ]
     },
     "execution_count": 13,
     "metadata": {},
     "output_type": "execute_result"
    }
   ],
   "source": [
    "df.BldgType.value_counts()"
   ]
  },
  {
   "cell_type": "markdown",
   "id": "8ac93713",
   "metadata": {},
   "source": [
    "Nothing there either. How about the Neighborhood?"
   ]
  },
  {
   "cell_type": "code",
   "execution_count": 14,
   "id": "91190593",
   "metadata": {},
   "outputs": [
    {
     "data": {
      "text/plain": [
       "NAmes      225\n",
       "CollgCr    150\n",
       "OldTown    113\n",
       "Edwards    100\n",
       "Somerst     86\n",
       "Gilbert     79\n",
       "NridgHt     77\n",
       "Sawyer      74\n",
       "NWAmes      73\n",
       "SawyerW     59\n",
       "BrkSide     58\n",
       "Crawfor     51\n",
       "Mitchel     49\n",
       "NoRidge     41\n",
       "Timber      38\n",
       "IDOTRR      37\n",
       "ClearCr     28\n",
       "StoneBr     25\n",
       "SWISU       25\n",
       "MeadowV     17\n",
       "Blmngtn     17\n",
       "BrDale      16\n",
       "Veenker     11\n",
       "NPkVill      9\n",
       "Blueste      2\n",
       "Name: Neighborhood, dtype: int64"
      ]
     },
     "execution_count": 14,
     "metadata": {},
     "output_type": "execute_result"
    }
   ],
   "source": [
    "df.Neighborhood.value_counts()"
   ]
  },
  {
   "cell_type": "code",
   "execution_count": 15,
   "id": "b83a0504",
   "metadata": {},
   "outputs": [
    {
     "data": {
      "text/plain": [
       "OldTown    43\n",
       "Somerst    24\n",
       "IDOTRR      7\n",
       "Edwards     6\n",
       "BrkSide     5\n",
       "SWISU       4\n",
       "Crawfor     1\n",
       "NAmes       1\n",
       "Name: Neighborhood, dtype: int64"
      ]
     },
     "execution_count": 15,
     "metadata": {},
     "output_type": "execute_result"
    }
   ],
   "source": [
    "#len(df[(df.PoolArea==0) & df.PoolQC.isnull()])\n",
    "temp_df = df[df['Alley'].notnull()] \n",
    "temp_df.Neighborhood.value_counts()"
   ]
  },
  {
   "cell_type": "markdown",
   "id": "1f0e5ba6",
   "metadata": {},
   "source": [
    "I don't see any relationships that can help impute the missing values. Given almost 94% of the data is missing, **I will just drop this feature.**"
   ]
  },
  {
   "cell_type": "code",
   "execution_count": 16,
   "id": "c3e0574e",
   "metadata": {},
   "outputs": [],
   "source": [
    "df.drop('Alley', axis=1, inplace=True)"
   ]
  },
  {
   "cell_type": "markdown",
   "id": "cd48358c",
   "metadata": {},
   "source": [
    "### Fence (80.75%)\n",
    "\n",
    "Fence quality\n",
    "\t\t\n",
    "- GdPrv\tGood Privacy\n",
    "- MnPrv\tMinimum Privacy\n",
    "- GdWo\tGood Wood\n",
    "- MnWw\tMinimum Wood/Wire\n",
    "- NA\tNo Fence"
   ]
  },
  {
   "cell_type": "code",
   "execution_count": 17,
   "id": "83de9297",
   "metadata": {},
   "outputs": [
    {
     "data": {
      "text/plain": [
       "MnPrv    157\n",
       "GdPrv     59\n",
       "GdWo      54\n",
       "MnWw      11\n",
       "Name: Fence, dtype: int64"
      ]
     },
     "execution_count": 17,
     "metadata": {},
     "output_type": "execute_result"
    }
   ],
   "source": [
    "df.Fence.value_counts()"
   ]
  },
  {
   "cell_type": "markdown",
   "id": "582cc786",
   "metadata": {},
   "source": [
    "There are too many missing values and no other feature gives a clue about this one. **So just drop it.**"
   ]
  },
  {
   "cell_type": "code",
   "execution_count": 18,
   "id": "ff0b2439",
   "metadata": {},
   "outputs": [],
   "source": [
    "df.drop('Fence', axis=1, inplace=True)"
   ]
  },
  {
   "cell_type": "markdown",
   "id": "89c38856",
   "metadata": {},
   "source": [
    "### FireplaceQu (47.26%)\n",
    "\n",
    "Fireplace quality\n",
    "\n",
    "- Ex\tExcellent - Exceptional Masonry Fireplace\n",
    "- Gd\tGood - Masonry Fireplace in main level\n",
    "- TA\tAverage - Prefabricated Fireplace in main living area or Masonry Fireplace in basement\n",
    "- Fa\tFair - Prefabricated Fireplace in basement\n",
    "- Po\tPoor - Ben Franklin Stove\n",
    "- NA\tNo Fireplace\n",
    "\n",
    "Fireplaces: Number of fireplaces"
   ]
  },
  {
   "cell_type": "code",
   "execution_count": 19,
   "id": "21a9459f",
   "metadata": {},
   "outputs": [
    {
     "data": {
      "text/plain": [
       "0    690\n",
       "1    650\n",
       "2    115\n",
       "3      5\n",
       "Name: Fireplaces, dtype: int64"
      ]
     },
     "execution_count": 19,
     "metadata": {},
     "output_type": "execute_result"
    }
   ],
   "source": [
    "df.Fireplaces.value_counts()"
   ]
  },
  {
   "cell_type": "markdown",
   "id": "5ae7b444",
   "metadata": {},
   "source": [
    "There are 690 homes with 0 fireplaces. This matches the number of missing FireplaceQu values."
   ]
  },
  {
   "cell_type": "code",
   "execution_count": 20,
   "id": "4de1f055",
   "metadata": {},
   "outputs": [
    {
     "data": {
      "text/plain": [
       "690"
      ]
     },
     "execution_count": 20,
     "metadata": {},
     "output_type": "execute_result"
    }
   ],
   "source": [
    "len(df[(df.Fireplaces==0) & df.FireplaceQu.isnull()])"
   ]
  },
  {
   "cell_type": "markdown",
   "id": "c8391b5f",
   "metadata": {},
   "source": [
    "All I need to do is **fill nan's with 'NA'.**"
   ]
  },
  {
   "cell_type": "code",
   "execution_count": 21,
   "id": "85b65e71",
   "metadata": {},
   "outputs": [],
   "source": [
    "df.FireplaceQu.fillna('NA', inplace=True)"
   ]
  },
  {
   "cell_type": "markdown",
   "id": "fae35e0e",
   "metadata": {},
   "source": [
    "### LotFrontage (17.74%)\n",
    "\n",
    "Linear feet of street connected to property.\n",
    "\n",
    "Some related: \n",
    "- LotConfig: Lot configuration"
   ]
  },
  {
   "cell_type": "code",
   "execution_count": 22,
   "id": "c4aed733",
   "metadata": {},
   "outputs": [
    {
     "data": {
      "text/plain": [
       "60.0     143\n",
       "70.0      70\n",
       "80.0      69\n",
       "50.0      57\n",
       "75.0      53\n",
       "        ... \n",
       "137.0      1\n",
       "141.0      1\n",
       "38.0       1\n",
       "140.0      1\n",
       "46.0       1\n",
       "Name: LotFrontage, Length: 110, dtype: int64"
      ]
     },
     "execution_count": 22,
     "metadata": {},
     "output_type": "execute_result"
    }
   ],
   "source": [
    "df.LotFrontage.value_counts()"
   ]
  },
  {
   "cell_type": "markdown",
   "id": "6443acee",
   "metadata": {},
   "source": [
    "There are too many missing values and no other feature gives a clue about this one. **So just drop it.**"
   ]
  },
  {
   "cell_type": "code",
   "execution_count": 23,
   "id": "98e378f7",
   "metadata": {},
   "outputs": [],
   "source": [
    "df.drop('LotFrontage', axis=1, inplace=True)"
   ]
  },
  {
   "cell_type": "markdown",
   "id": "0d3c1989",
   "metadata": {},
   "source": [
    "### GarageType, GarageYrBlt, GarageFinish, GarageQual, GarageCond (5.55%)"
   ]
  },
  {
   "cell_type": "code",
   "execution_count": 24,
   "id": "74506cb5",
   "metadata": {},
   "outputs": [
    {
     "data": {
      "text/html": [
       "<div>\n",
       "<style scoped>\n",
       "    .dataframe tbody tr th:only-of-type {\n",
       "        vertical-align: middle;\n",
       "    }\n",
       "\n",
       "    .dataframe tbody tr th {\n",
       "        vertical-align: top;\n",
       "    }\n",
       "\n",
       "    .dataframe thead th {\n",
       "        text-align: right;\n",
       "    }\n",
       "</style>\n",
       "<table border=\"1\" class=\"dataframe\">\n",
       "  <thead>\n",
       "    <tr style=\"text-align: right;\">\n",
       "      <th></th>\n",
       "      <th>GarageCars</th>\n",
       "      <th>GarageArea</th>\n",
       "      <th>GarageType</th>\n",
       "      <th>GarageYrBlt</th>\n",
       "      <th>GarageFinish</th>\n",
       "      <th>GarageQual</th>\n",
       "      <th>GarageCond</th>\n",
       "    </tr>\n",
       "  </thead>\n",
       "  <tbody>\n",
       "    <tr>\n",
       "      <th>39</th>\n",
       "      <td>0</td>\n",
       "      <td>0</td>\n",
       "      <td>NaN</td>\n",
       "      <td>NaN</td>\n",
       "      <td>NaN</td>\n",
       "      <td>NaN</td>\n",
       "      <td>NaN</td>\n",
       "    </tr>\n",
       "    <tr>\n",
       "      <th>48</th>\n",
       "      <td>0</td>\n",
       "      <td>0</td>\n",
       "      <td>NaN</td>\n",
       "      <td>NaN</td>\n",
       "      <td>NaN</td>\n",
       "      <td>NaN</td>\n",
       "      <td>NaN</td>\n",
       "    </tr>\n",
       "    <tr>\n",
       "      <th>78</th>\n",
       "      <td>0</td>\n",
       "      <td>0</td>\n",
       "      <td>NaN</td>\n",
       "      <td>NaN</td>\n",
       "      <td>NaN</td>\n",
       "      <td>NaN</td>\n",
       "      <td>NaN</td>\n",
       "    </tr>\n",
       "    <tr>\n",
       "      <th>88</th>\n",
       "      <td>0</td>\n",
       "      <td>0</td>\n",
       "      <td>NaN</td>\n",
       "      <td>NaN</td>\n",
       "      <td>NaN</td>\n",
       "      <td>NaN</td>\n",
       "      <td>NaN</td>\n",
       "    </tr>\n",
       "    <tr>\n",
       "      <th>89</th>\n",
       "      <td>0</td>\n",
       "      <td>0</td>\n",
       "      <td>NaN</td>\n",
       "      <td>NaN</td>\n",
       "      <td>NaN</td>\n",
       "      <td>NaN</td>\n",
       "      <td>NaN</td>\n",
       "    </tr>\n",
       "    <tr>\n",
       "      <th>...</th>\n",
       "      <td>...</td>\n",
       "      <td>...</td>\n",
       "      <td>...</td>\n",
       "      <td>...</td>\n",
       "      <td>...</td>\n",
       "      <td>...</td>\n",
       "      <td>...</td>\n",
       "    </tr>\n",
       "    <tr>\n",
       "      <th>1349</th>\n",
       "      <td>0</td>\n",
       "      <td>0</td>\n",
       "      <td>NaN</td>\n",
       "      <td>NaN</td>\n",
       "      <td>NaN</td>\n",
       "      <td>NaN</td>\n",
       "      <td>NaN</td>\n",
       "    </tr>\n",
       "    <tr>\n",
       "      <th>1407</th>\n",
       "      <td>0</td>\n",
       "      <td>0</td>\n",
       "      <td>NaN</td>\n",
       "      <td>NaN</td>\n",
       "      <td>NaN</td>\n",
       "      <td>NaN</td>\n",
       "      <td>NaN</td>\n",
       "    </tr>\n",
       "    <tr>\n",
       "      <th>1449</th>\n",
       "      <td>0</td>\n",
       "      <td>0</td>\n",
       "      <td>NaN</td>\n",
       "      <td>NaN</td>\n",
       "      <td>NaN</td>\n",
       "      <td>NaN</td>\n",
       "      <td>NaN</td>\n",
       "    </tr>\n",
       "    <tr>\n",
       "      <th>1450</th>\n",
       "      <td>0</td>\n",
       "      <td>0</td>\n",
       "      <td>NaN</td>\n",
       "      <td>NaN</td>\n",
       "      <td>NaN</td>\n",
       "      <td>NaN</td>\n",
       "      <td>NaN</td>\n",
       "    </tr>\n",
       "    <tr>\n",
       "      <th>1453</th>\n",
       "      <td>0</td>\n",
       "      <td>0</td>\n",
       "      <td>NaN</td>\n",
       "      <td>NaN</td>\n",
       "      <td>NaN</td>\n",
       "      <td>NaN</td>\n",
       "      <td>NaN</td>\n",
       "    </tr>\n",
       "  </tbody>\n",
       "</table>\n",
       "<p>81 rows × 7 columns</p>\n",
       "</div>"
      ],
      "text/plain": [
       "      GarageCars  GarageArea GarageType  GarageYrBlt GarageFinish GarageQual  \\\n",
       "39             0           0        NaN          NaN          NaN        NaN   \n",
       "48             0           0        NaN          NaN          NaN        NaN   \n",
       "78             0           0        NaN          NaN          NaN        NaN   \n",
       "88             0           0        NaN          NaN          NaN        NaN   \n",
       "89             0           0        NaN          NaN          NaN        NaN   \n",
       "...          ...         ...        ...          ...          ...        ...   \n",
       "1349           0           0        NaN          NaN          NaN        NaN   \n",
       "1407           0           0        NaN          NaN          NaN        NaN   \n",
       "1449           0           0        NaN          NaN          NaN        NaN   \n",
       "1450           0           0        NaN          NaN          NaN        NaN   \n",
       "1453           0           0        NaN          NaN          NaN        NaN   \n",
       "\n",
       "     GarageCond  \n",
       "39          NaN  \n",
       "48          NaN  \n",
       "78          NaN  \n",
       "88          NaN  \n",
       "89          NaN  \n",
       "...         ...  \n",
       "1349        NaN  \n",
       "1407        NaN  \n",
       "1449        NaN  \n",
       "1450        NaN  \n",
       "1453        NaN  \n",
       "\n",
       "[81 rows x 7 columns]"
      ]
     },
     "execution_count": 24,
     "metadata": {},
     "output_type": "execute_result"
    }
   ],
   "source": [
    "temp_df = df[['GarageCars', 'GarageArea', 'GarageType', 'GarageYrBlt', 'GarageFinish', 'GarageQual', 'GarageCond']]\n",
    "temp_df[temp_df['GarageType'].isnull()]"
   ]
  },
  {
   "cell_type": "code",
   "execution_count": 25,
   "id": "5d449023",
   "metadata": {},
   "outputs": [
    {
     "data": {
      "text/plain": [
       "2    824\n",
       "1    369\n",
       "3    181\n",
       "0     81\n",
       "4      5\n",
       "Name: GarageCars, dtype: int64"
      ]
     },
     "execution_count": 25,
     "metadata": {},
     "output_type": "execute_result"
    }
   ],
   "source": [
    "temp_df.GarageCars.value_counts().head(10)"
   ]
  },
  {
   "cell_type": "markdown",
   "id": "dbfae190",
   "metadata": {},
   "source": [
    "There are 81 records for GarageType, GarageYrBlt, GarageFinish, GarageQual, and GarageCond. And there appears to be 81 correlated records for GarageCars and GarageArea with a value of 0.\n",
    "\n",
    "**fill GarageYrBlt with 0 and all others with 'NA'**"
   ]
  },
  {
   "cell_type": "code",
   "execution_count": 26,
   "id": "80538bf1",
   "metadata": {},
   "outputs": [],
   "source": [
    "df.GarageType.fillna('NA', inplace=True)\n",
    "df.GarageYrBlt.fillna(0, inplace=True)\n",
    "df.GarageFinish.fillna('NA', inplace=True)\n",
    "df.GarageQual.fillna('NA', inplace=True)\n",
    "df.GarageCond.fillna('NA', inplace=True)"
   ]
  },
  {
   "cell_type": "markdown",
   "id": "fe0c5bb3",
   "metadata": {},
   "source": [
    "### BsmtQual, BsmtCond, BsmtFinType1 (2.53%) - BsmtExposure, BsmtFinType2 (2.60%)\n",
    "\n",
    "- BsmtQual: Evaluates the height of the basement\n",
    "- BsmtCond: Evaluates the general condition of the basement\n",
    "- BsmtFinType1: Rating of basement finished area\n",
    "- BsmtExposure: Refers to walkout or garden level walls\n",
    "- BsmtFinType2: Rating of basement finished area (if multiple types)\n",
    "\n",
    "TotalBsmtSF is not missing any values, could that be a predictor for the missing values above?"
   ]
  },
  {
   "cell_type": "code",
   "execution_count": 27,
   "id": "3b6af82f",
   "metadata": {},
   "outputs": [
    {
     "data": {
      "text/plain": [
       "0      37\n",
       "864    35\n",
       "672    17\n",
       "Name: TotalBsmtSF, dtype: int64"
      ]
     },
     "execution_count": 27,
     "metadata": {},
     "output_type": "execute_result"
    }
   ],
   "source": [
    "df.TotalBsmtSF.value_counts().head(3)\n",
    "#df.TotalBsmtSF.value_counts().sum()"
   ]
  },
  {
   "cell_type": "markdown",
   "id": "e484299c",
   "metadata": {},
   "source": [
    "There are 37 values with 0 sf which matches number of missing values for BsmtQual, BsmtCond, BsmtFinType1. Are they 100% correlated?"
   ]
  },
  {
   "cell_type": "code",
   "execution_count": 28,
   "id": "16283f2d",
   "metadata": {},
   "outputs": [
    {
     "data": {
      "text/plain": [
       "37"
      ]
     },
     "execution_count": 28,
     "metadata": {},
     "output_type": "execute_result"
    }
   ],
   "source": [
    "len(df[(df.TotalBsmtSF==0) & df.BsmtQual.isnull() & df.BsmtCond.isnull() & df.BsmtFinType1.isnull()])"
   ]
  },
  {
   "cell_type": "markdown",
   "id": "5ac2d455",
   "metadata": {},
   "source": [
    "Yes they are. I can **set these missing values to 'NA'**"
   ]
  },
  {
   "cell_type": "code",
   "execution_count": 29,
   "id": "3c04af53",
   "metadata": {},
   "outputs": [],
   "source": [
    "df.BsmtQual.fillna('NA', inplace=True)\n",
    "df.BsmtCond.fillna('NA', inplace=True)\n",
    "df.BsmtFinType1.fillna('NA', inplace=True)"
   ]
  },
  {
   "cell_type": "markdown",
   "id": "d75042cf",
   "metadata": {},
   "source": [
    "How many missing values for BsmtExposure and BsmtFinType2?"
   ]
  },
  {
   "cell_type": "code",
   "execution_count": 30,
   "id": "e1820e6c",
   "metadata": {},
   "outputs": [
    {
     "data": {
      "text/plain": [
       "38"
      ]
     },
     "execution_count": 30,
     "metadata": {},
     "output_type": "execute_result"
    }
   ],
   "source": [
    "1460 - df.BsmtExposure.value_counts().sum()\n",
    "1460 - df.BsmtFinType2.value_counts().sum()"
   ]
  },
  {
   "cell_type": "markdown",
   "id": "cd0fb282",
   "metadata": {},
   "source": [
    "Is there correlation for sf?"
   ]
  },
  {
   "cell_type": "code",
   "execution_count": 31,
   "id": "7ff5f228",
   "metadata": {},
   "outputs": [
    {
     "data": {
      "text/plain": [
       "37"
      ]
     },
     "execution_count": 31,
     "metadata": {},
     "output_type": "execute_result"
    }
   ],
   "source": [
    "len(df[(df.TotalBsmtSF==0) & df.BsmtExposure.isnull() & df.BsmtFinType2.isnull()])"
   ]
  },
  {
   "cell_type": "markdown",
   "id": "9109fe69",
   "metadata": {},
   "source": [
    "Yes there is. **Set these to 'NA'.**"
   ]
  },
  {
   "cell_type": "code",
   "execution_count": 32,
   "id": "9056ecce",
   "metadata": {},
   "outputs": [],
   "source": [
    "for i in df.index:\n",
    "    if(df.at[i, 'TotalBsmtSF']==0):\n",
    "        df.at[i, 'BsmtExposure'] = 'NA'\n",
    "        df.at[i, 'BsmtFinType2'] = 'NA'"
   ]
  },
  {
   "cell_type": "markdown",
   "id": "8eb719f3",
   "metadata": {},
   "source": [
    "There is still one more record missing values BsmtExposure and BsmtFinType2. Are they correlated?"
   ]
  },
  {
   "cell_type": "code",
   "execution_count": 33,
   "id": "998c445a",
   "metadata": {},
   "outputs": [
    {
     "data": {
      "text/html": [
       "<div>\n",
       "<style scoped>\n",
       "    .dataframe tbody tr th:only-of-type {\n",
       "        vertical-align: middle;\n",
       "    }\n",
       "\n",
       "    .dataframe tbody tr th {\n",
       "        vertical-align: top;\n",
       "    }\n",
       "\n",
       "    .dataframe thead th {\n",
       "        text-align: right;\n",
       "    }\n",
       "</style>\n",
       "<table border=\"1\" class=\"dataframe\">\n",
       "  <thead>\n",
       "    <tr style=\"text-align: right;\">\n",
       "      <th></th>\n",
       "      <th>TotalBsmtSF</th>\n",
       "      <th>BsmtUnfSF</th>\n",
       "      <th>BsmtFinSF1</th>\n",
       "      <th>BsmtFinSF2</th>\n",
       "      <th>BsmtExposure</th>\n",
       "      <th>BsmtFinType2</th>\n",
       "    </tr>\n",
       "  </thead>\n",
       "  <tbody>\n",
       "    <tr>\n",
       "      <th>332</th>\n",
       "      <td>3206</td>\n",
       "      <td>1603</td>\n",
       "      <td>1124</td>\n",
       "      <td>479</td>\n",
       "      <td>No</td>\n",
       "      <td>NaN</td>\n",
       "    </tr>\n",
       "    <tr>\n",
       "      <th>948</th>\n",
       "      <td>936</td>\n",
       "      <td>936</td>\n",
       "      <td>0</td>\n",
       "      <td>0</td>\n",
       "      <td>NaN</td>\n",
       "      <td>Unf</td>\n",
       "    </tr>\n",
       "  </tbody>\n",
       "</table>\n",
       "</div>"
      ],
      "text/plain": [
       "     TotalBsmtSF  BsmtUnfSF  BsmtFinSF1  BsmtFinSF2 BsmtExposure BsmtFinType2\n",
       "332         3206       1603        1124         479           No          NaN\n",
       "948          936        936           0           0          NaN          Unf"
      ]
     },
     "execution_count": 33,
     "metadata": {},
     "output_type": "execute_result"
    }
   ],
   "source": [
    "temp_df = df[['TotalBsmtSF', 'BsmtUnfSF', 'BsmtFinSF1', 'BsmtFinSF2', 'BsmtExposure', 'BsmtFinType2']]\n",
    "\n",
    "temp_df[temp_df.BsmtExposure.isnull() | temp_df.BsmtFinType2.isnull()]"
   ]
  },
  {
   "cell_type": "markdown",
   "id": "1d3e4442",
   "metadata": {},
   "source": [
    "No, lets look at value counts for each and choose the most frequent option."
   ]
  },
  {
   "cell_type": "code",
   "execution_count": 34,
   "id": "1b0773b8",
   "metadata": {},
   "outputs": [
    {
     "data": {
      "text/plain": [
       "No    953\n",
       "Av    221\n",
       "Gd    134\n",
       "Mn    114\n",
       "NA     37\n",
       "Name: BsmtExposure, dtype: int64"
      ]
     },
     "execution_count": 34,
     "metadata": {},
     "output_type": "execute_result"
    }
   ],
   "source": [
    "df.BsmtExposure.value_counts()"
   ]
  },
  {
   "cell_type": "code",
   "execution_count": 35,
   "id": "180cec29",
   "metadata": {},
   "outputs": [
    {
     "data": {
      "text/plain": [
       "Unf    1256\n",
       "Rec      54\n",
       "LwQ      46\n",
       "NA       37\n",
       "BLQ      33\n",
       "ALQ      19\n",
       "GLQ      14\n",
       "Name: BsmtFinType2, dtype: int64"
      ]
     },
     "execution_count": 35,
     "metadata": {},
     "output_type": "execute_result"
    }
   ],
   "source": [
    "df.BsmtFinType2.value_counts()"
   ]
  },
  {
   "cell_type": "markdown",
   "id": "c88912fa",
   "metadata": {},
   "source": [
    "**Set the missing values**"
   ]
  },
  {
   "cell_type": "code",
   "execution_count": 36,
   "id": "49830d04",
   "metadata": {},
   "outputs": [],
   "source": [
    "index = df.index[df.BsmtExposure.isnull()]\n",
    "df.at[index[0], 'BsmtExposure'] = 'No'"
   ]
  },
  {
   "cell_type": "code",
   "execution_count": 37,
   "id": "8117eeac",
   "metadata": {},
   "outputs": [],
   "source": [
    "index = df.index[df.BsmtFinType2.isnull()]\n",
    "df.at[index[0], 'BsmtFinType2'] = 'Unf'"
   ]
  },
  {
   "cell_type": "markdown",
   "id": "8a8162d6",
   "metadata": {},
   "source": [
    "### MasVnrType, MasVnrArea (0.55%)\n",
    "\n",
    "Are all the same records missing these or are missing values spread around?"
   ]
  },
  {
   "cell_type": "code",
   "execution_count": 38,
   "id": "bc60f8c6",
   "metadata": {},
   "outputs": [
    {
     "data": {
      "text/plain": [
       "8"
      ]
     },
     "execution_count": 38,
     "metadata": {},
     "output_type": "execute_result"
    }
   ],
   "source": [
    "len(df[df.MasVnrType.isnull() & df.MasVnrArea.isnull()])"
   ]
  },
  {
   "cell_type": "markdown",
   "id": "f805a813",
   "metadata": {},
   "source": [
    "All 8 missing values overlap. Exterior1st and Exterior2nd tell us what veneer type to assign to null values. Will have to take average area."
   ]
  },
  {
   "cell_type": "code",
   "execution_count": 39,
   "id": "49ee51a7",
   "metadata": {},
   "outputs": [
    {
     "data": {
      "text/plain": [
       "0.0      861\n",
       "180.0      8\n",
       "72.0       8\n",
       "108.0      8\n",
       "120.0      7\n",
       "        ... \n",
       "562.0      1\n",
       "89.0       1\n",
       "921.0      1\n",
       "762.0      1\n",
       "119.0      1\n",
       "Name: MasVnrArea, Length: 327, dtype: int64"
      ]
     },
     "execution_count": 39,
     "metadata": {},
     "output_type": "execute_result"
    }
   ],
   "source": [
    "df.MasVnrArea.value_counts()"
   ]
  },
  {
   "cell_type": "markdown",
   "id": "96a5bc26",
   "metadata": {},
   "source": [
    "An example of the Exterior1st and Exterior2nd values when veneer type and area are null."
   ]
  },
  {
   "cell_type": "code",
   "execution_count": 40,
   "id": "b8986074",
   "metadata": {},
   "outputs": [
    {
     "data": {
      "text/html": [
       "<div>\n",
       "<style scoped>\n",
       "    .dataframe tbody tr th:only-of-type {\n",
       "        vertical-align: middle;\n",
       "    }\n",
       "\n",
       "    .dataframe tbody tr th {\n",
       "        vertical-align: top;\n",
       "    }\n",
       "\n",
       "    .dataframe thead th {\n",
       "        text-align: right;\n",
       "    }\n",
       "</style>\n",
       "<table border=\"1\" class=\"dataframe\">\n",
       "  <thead>\n",
       "    <tr style=\"text-align: right;\">\n",
       "      <th></th>\n",
       "      <th>Exterior1st</th>\n",
       "      <th>Exterior2nd</th>\n",
       "      <th>MasVnrType</th>\n",
       "      <th>MasVnrArea</th>\n",
       "    </tr>\n",
       "  </thead>\n",
       "  <tbody>\n",
       "    <tr>\n",
       "      <th>234</th>\n",
       "      <td>VinylSd</td>\n",
       "      <td>VinylSd</td>\n",
       "      <td>NaN</td>\n",
       "      <td>NaN</td>\n",
       "    </tr>\n",
       "    <tr>\n",
       "      <th>529</th>\n",
       "      <td>Wd Sdng</td>\n",
       "      <td>Stone</td>\n",
       "      <td>NaN</td>\n",
       "      <td>NaN</td>\n",
       "    </tr>\n",
       "    <tr>\n",
       "      <th>650</th>\n",
       "      <td>CemntBd</td>\n",
       "      <td>CmentBd</td>\n",
       "      <td>NaN</td>\n",
       "      <td>NaN</td>\n",
       "    </tr>\n",
       "    <tr>\n",
       "      <th>936</th>\n",
       "      <td>VinylSd</td>\n",
       "      <td>VinylSd</td>\n",
       "      <td>NaN</td>\n",
       "      <td>NaN</td>\n",
       "    </tr>\n",
       "    <tr>\n",
       "      <th>973</th>\n",
       "      <td>CemntBd</td>\n",
       "      <td>CmentBd</td>\n",
       "      <td>NaN</td>\n",
       "      <td>NaN</td>\n",
       "    </tr>\n",
       "    <tr>\n",
       "      <th>977</th>\n",
       "      <td>VinylSd</td>\n",
       "      <td>VinylSd</td>\n",
       "      <td>NaN</td>\n",
       "      <td>NaN</td>\n",
       "    </tr>\n",
       "    <tr>\n",
       "      <th>1243</th>\n",
       "      <td>VinylSd</td>\n",
       "      <td>VinylSd</td>\n",
       "      <td>NaN</td>\n",
       "      <td>NaN</td>\n",
       "    </tr>\n",
       "    <tr>\n",
       "      <th>1278</th>\n",
       "      <td>VinylSd</td>\n",
       "      <td>VinylSd</td>\n",
       "      <td>NaN</td>\n",
       "      <td>NaN</td>\n",
       "    </tr>\n",
       "  </tbody>\n",
       "</table>\n",
       "</div>"
      ],
      "text/plain": [
       "     Exterior1st Exterior2nd MasVnrType  MasVnrArea\n",
       "234      VinylSd     VinylSd        NaN         NaN\n",
       "529      Wd Sdng       Stone        NaN         NaN\n",
       "650      CemntBd     CmentBd        NaN         NaN\n",
       "936      VinylSd     VinylSd        NaN         NaN\n",
       "973      CemntBd     CmentBd        NaN         NaN\n",
       "977      VinylSd     VinylSd        NaN         NaN\n",
       "1243     VinylSd     VinylSd        NaN         NaN\n",
       "1278     VinylSd     VinylSd        NaN         NaN"
      ]
     },
     "execution_count": 40,
     "metadata": {},
     "output_type": "execute_result"
    }
   ],
   "source": [
    "temp_df = df[['Exterior1st', 'Exterior2nd', 'MasVnrType', 'MasVnrArea']]\n",
    "\n",
    "temp_df[temp_df.MasVnrArea.isnull() & temp_df.MasVnrType.isnull()]"
   ]
  },
  {
   "cell_type": "markdown",
   "id": "acf0aad2",
   "metadata": {},
   "source": [
    "A conditional test can be used."
   ]
  },
  {
   "cell_type": "code",
   "execution_count": 41,
   "id": "d56a5011",
   "metadata": {},
   "outputs": [],
   "source": [
    "# calculate mean of all MasVnrArea values that are greater than 0.\n",
    "# for each house in data frame:\n",
    "#     if Exterior1st or Exterior2nd = Brick Common, then:\n",
    "#         MasVnrType = BrkCmn\n",
    "#         MasVnrArea = (mean)\n",
    "#     else if Exterior1st or Exterior2nd = Brick Face, then:\n",
    "#         MasVnrType = BrkFace\n",
    "#         MasVnrArea = (mean)\n",
    "#     else if Exterior1st or Exterior2nd = Cinder Block, then:\n",
    "#         MasVnrType = CBlock\n",
    "#         MasVnrArea = (mean)\n",
    "#     else if Exterior1st or Exterior2nd = Stone, then:\n",
    "#         MasVnrType = Stone\n",
    "#         MasVnrArea = (mean)\n",
    "#     else:\n",
    "#         MasVnrType = None\n",
    "#         MasVnrArea = 0.0"
   ]
  },
  {
   "cell_type": "code",
   "execution_count": 42,
   "id": "90f67e11",
   "metadata": {},
   "outputs": [
    {
     "data": {
      "text/plain": [
       "254.7394247038917"
      ]
     },
     "execution_count": 42,
     "metadata": {},
     "output_type": "execute_result"
    }
   ],
   "source": [
    "temp_df = df[(df['MasVnrArea'] > 0.0)]\n",
    "area_mean = temp_df.MasVnrArea.mean()\n",
    "area_mean"
   ]
  },
  {
   "cell_type": "markdown",
   "id": "e3855279",
   "metadata": {},
   "source": [
    "**Fill in missing values**"
   ]
  },
  {
   "cell_type": "code",
   "execution_count": 43,
   "id": "73d374fb",
   "metadata": {},
   "outputs": [
    {
     "name": "stdout",
     "output_type": "stream",
     "text": [
      "Found one of the others\n",
      "Found Stone\n",
      "Found one of the others\n",
      "Found one of the others\n",
      "Found one of the others\n",
      "Found one of the others\n",
      "Found one of the others\n",
      "Found one of the others\n"
     ]
    }
   ],
   "source": [
    "for i in df.index:\n",
    "    value = df.at[i, 'MasVnrType']\n",
    "    if(pd.isnull(value)):\n",
    "        if((df.at[i, 'Exterior1st'] == 'Brick Common') or (df.at[i, 'Exterior2nd'] == 'Brick Common')):\n",
    "            print('Found Brick Common')\n",
    "            df.at[i, 'MasVnrType'] = 'BrkCmn'\n",
    "            df.at[i, 'MasVnrArea'] = area_mean\n",
    "        elif((df.at[i, 'Exterior1st'] == 'Brick Face') or (df.at[i, 'Exterior2nd'] == 'Brick Face')):\n",
    "            print('Found Brick Face')\n",
    "            df.at[i, 'MasVnrType'] = 'BrkFace'\n",
    "            df.at[i, 'MasVnrArea'] = area_mean\n",
    "        elif((df.at[i, 'Exterior1st'] == 'Cinder Block') or (df.at[i, 'Exterior2nd'] == 'Cinder Block')):\n",
    "            print('Found Cinder Block')\n",
    "            df.at[i, 'MasVnrType'] = 'CBlock'\n",
    "            df.at[i, 'MasVnrArea'] = area_mean\n",
    "        elif((df.at[i, 'Exterior1st'] == 'Stone') or (df.at[i, 'Exterior2nd'] == 'Stone')):\n",
    "            print('Found Stone')\n",
    "            df.at[i, 'MasVnrType'] = 'Stone'\n",
    "            df.at[i, 'MasVnrArea'] = area_mean\n",
    "        else:\n",
    "            print('Found one of the others')\n",
    "            df.at[i, 'MasVnrType'] = 'None'\n",
    "            df.at[i, 'MasVnrArea'] = 0.0\n",
    "    "
   ]
  },
  {
   "cell_type": "markdown",
   "id": "7a270aec",
   "metadata": {},
   "source": [
    "Verify that there are no longer any nan values for veneer area and type"
   ]
  },
  {
   "cell_type": "code",
   "execution_count": 44,
   "id": "80a838f2",
   "metadata": {},
   "outputs": [
    {
     "data": {
      "text/html": [
       "<div>\n",
       "<style scoped>\n",
       "    .dataframe tbody tr th:only-of-type {\n",
       "        vertical-align: middle;\n",
       "    }\n",
       "\n",
       "    .dataframe tbody tr th {\n",
       "        vertical-align: top;\n",
       "    }\n",
       "\n",
       "    .dataframe thead th {\n",
       "        text-align: right;\n",
       "    }\n",
       "</style>\n",
       "<table border=\"1\" class=\"dataframe\">\n",
       "  <thead>\n",
       "    <tr style=\"text-align: right;\">\n",
       "      <th></th>\n",
       "      <th>Exterior1st</th>\n",
       "      <th>Exterior2nd</th>\n",
       "      <th>MasVnrType</th>\n",
       "      <th>MasVnrArea</th>\n",
       "    </tr>\n",
       "  </thead>\n",
       "  <tbody>\n",
       "  </tbody>\n",
       "</table>\n",
       "</div>"
      ],
      "text/plain": [
       "Empty DataFrame\n",
       "Columns: [Exterior1st, Exterior2nd, MasVnrType, MasVnrArea]\n",
       "Index: []"
      ]
     },
     "execution_count": 44,
     "metadata": {},
     "output_type": "execute_result"
    }
   ],
   "source": [
    "temp_df = df[['Exterior1st', 'Exterior2nd', 'MasVnrType', 'MasVnrArea']]\n",
    "\n",
    "temp_df[temp_df.MasVnrArea.isnull() & temp_df.MasVnrType.isnull()]"
   ]
  },
  {
   "cell_type": "markdown",
   "id": "5332c977",
   "metadata": {},
   "source": [
    "### Electrical (0.07%)\n",
    "\n",
    "\n"
   ]
  },
  {
   "cell_type": "code",
   "execution_count": 45,
   "id": "830185ea",
   "metadata": {},
   "outputs": [
    {
     "data": {
      "text/plain": [
       "SBrkr    1334\n",
       "FuseA      94\n",
       "FuseF      27\n",
       "FuseP       3\n",
       "Mix         1\n",
       "Name: Electrical, dtype: int64"
      ]
     },
     "execution_count": 45,
     "metadata": {},
     "output_type": "execute_result"
    }
   ],
   "source": [
    "df.Electrical.value_counts()"
   ]
  },
  {
   "cell_type": "markdown",
   "id": "1478bc13",
   "metadata": {},
   "source": [
    "There is only one missing value and 91.37% of values are SBrkr, so just **set any missing values to SBrkr.**"
   ]
  },
  {
   "cell_type": "code",
   "execution_count": 46,
   "id": "4306c6f8",
   "metadata": {},
   "outputs": [],
   "source": [
    "df.Electrical.fillna('SBrkr', inplace=True)"
   ]
  },
  {
   "cell_type": "markdown",
   "id": "b2926171",
   "metadata": {},
   "source": [
    "### Let's see how we are doing."
   ]
  },
  {
   "cell_type": "code",
   "execution_count": 47,
   "id": "47546c77",
   "metadata": {},
   "outputs": [
    {
     "name": "stdout",
     "output_type": "stream",
     "text": [
      "Series([], dtype: int64)\n"
     ]
    }
   ],
   "source": [
    "featuresWithNullValues = df.isnull().sum()\n",
    "print(featuresWithNullValues[featuresWithNullValues > 0])"
   ]
  },
  {
   "cell_type": "markdown",
   "id": "6fcd3c38",
   "metadata": {},
   "source": [
    "Now I need to convert the catgorical features to numerical"
   ]
  },
  {
   "cell_type": "markdown",
   "id": "84707569",
   "metadata": {},
   "source": [
    "### First, convert non-numeric objects to integers.\n",
    "\n",
    "Start by creating dictionaries to encode numbers for each value. As I did this I encountered the following features that were dominated by a single value and provide no useful information. They are dropped from the dataset.\n",
    "\n",
    "- Street: Pave = 99.6%\n",
    "- Utilities: AllPub = 99.9%"
   ]
  },
  {
   "cell_type": "code",
   "execution_count": 48,
   "id": "f2b09f6f",
   "metadata": {},
   "outputs": [],
   "source": [
    "df.drop('Street', axis=1, inplace=True)\n",
    "df.drop('Utilities', axis=1, inplace=True)"
   ]
  },
  {
   "cell_type": "code",
   "execution_count": 49,
   "id": "24d6df9c",
   "metadata": {},
   "outputs": [
    {
     "data": {
      "text/plain": [
       "VinylSd    515\n",
       "HdBoard    222\n",
       "MetalSd    220\n",
       "Wd Sdng    206\n",
       "Plywood    108\n",
       "CemntBd     61\n",
       "BrkFace     50\n",
       "WdShing     26\n",
       "Stucco      25\n",
       "AsbShng     20\n",
       "BrkComm      2\n",
       "Stone        2\n",
       "AsphShn      1\n",
       "ImStucc      1\n",
       "CBlock       1\n",
       "Name: Exterior1st, dtype: int64"
      ]
     },
     "execution_count": 49,
     "metadata": {},
     "output_type": "execute_result"
    }
   ],
   "source": [
    "df.Exterior1st.value_counts()"
   ]
  },
  {
   "cell_type": "code",
   "execution_count": 50,
   "id": "1148b661",
   "metadata": {},
   "outputs": [],
   "source": [
    "MSZoning_map = {'MSZoning': {'A':1, 'C (all)':2, 'FV':3, 'I':4, 'RH':5, 'RL':6, 'RP':7, 'RM':8}}\n",
    "LotShape_map = {'LotShape': {'Reg':1, 'IR1':2, 'IR2':3, 'IR3':4}}\n",
    "LandContour_map = {'LandContour': {'Lvl':1, 'Bnk':2, 'HLS':3, 'Low':4}}\n",
    "LotConfig_map = {'LotConfig': {'Inside':1, 'Corner':2, 'CulDSac':3, 'FR2':4, 'FR3':5}}\n",
    "LandSlope_map = {'LandSlope': {'Gtl':1, 'Mod':2, 'Sev':3}}\n",
    "Neighborhood_map = {'Neighborhood': {'NAmes':1, 'CollgCr':2, 'OldTown':3, 'Edwards':4, 'Somerst':5,\\\n",
    "                                     'Gilbert':6, 'NridgHt':7, 'Sawyer':8, 'NWAmes':9, 'SawyerW':10,\\\n",
    "                                     'BrkSide':11, 'Crawfor':12, 'Mitchel':13, 'NoRidge':14, 'Timber':15,\\\n",
    "                                     'IDOTRR':16, 'ClearCr':17, 'StoneBr':18, 'SWISU':19, 'MeadowV':20,\\\n",
    "                                     'Blmngtn':21, 'BrDale':22, 'Veenker':23, 'NPkVill':24, 'Blueste':25}}\n",
    "Condition1_map = {'Condition1': {'Norm':1, 'Feedr':2, 'Artery':3, 'RRAn':4, 'PosN':5, 'RRAe':6, 'PosA':7,\\\n",
    "                                 'RRNn':8, 'RRNe':9}}\n",
    "Condition2_map = {'Condition2': {'Norm':1, 'Feedr':2, 'Artery':3, 'RRAn':4, 'PosN':5, 'RRAe':6, 'PosA':7,\\\n",
    "                                 'RRNn':8, 'RRNe':9}}\n",
    "BldgType_map = {'BldgType': {'1Fam':1, 'TwnhsE':2, 'Duplex':3, 'Twnhs':4, '2fmCon':5}}\n",
    "HouseStyle_map = {'HouseStyle': {'1Story':1, '2Story':2, '1.5Fin':3, 'SLvl':4, 'SFoyer':5, '1.5Unf':6,\\\n",
    "                                 '2.5Unf':7, '2.5Fin':8}}\n",
    "RoofStyle_map = {'RoofStyle': {'Gable':1, 'Hip':2, 'Flat':3, 'Gambrel':4, 'Mansard':5, 'Shed':6}}\n",
    "RoofMatl_map = {'RoofMatl': {'CompShg':1, 'Tar&Grv':2, 'WdShngl':3, 'WdShake':4, 'Metal':5, 'Membran':6,\\\n",
    "                             'Roll':7, 'ClyTile':8}}\n",
    "Exterior1st_map = {'Exterior1st': {'VinylSd':1, 'MetalSd':2, 'HdBoard':3, 'Wd Sdng':4, 'Plywood':5, 'CemntBd':6,\\\n",
    "                                   'WdShing':7, 'Stucco':8, 'BrkFace':9, 'AsbShng':10, 'ImStucc':11, 'BrkComm':12,\\\n",
    "                                   'Stone':13, 'AsphShn':14, 'Other':15, 'CBlock':16, 'PreCast':17}}\n",
    "Exterior2nd_map = {'Exterior2nd': {'VinylSd':1, 'MetalSd':2, 'HdBoard':3, 'Wd Sdng':4, 'Plywood':5, 'CmentBd':6,\\\n",
    "                                   'Wd Shng':7, 'Stucco':8, 'BrkFace':9, 'AsbShng':10, 'ImStucc':11, 'Brk Cmn':12,\\\n",
    "                                   'Stone':13, 'AsphShn':14, 'Other':15, 'CBlock':16, 'PreCast':17}}\n",
    "MasVnrType_map = {'MasVnrType': {'None':1, 'BrkFace':2, 'Stone':3, 'BrkCmn':4, 'CBlock':5}}\n",
    "ExterQual_map = {'ExterQual': {'TA':1, 'Gd':2, 'Ex':3, 'Fa':4, 'Po':5}}\n",
    "ExterCond_map = {'ExterCond': {'TA':1, 'Gd':2, 'Ex':3, 'Fa':4, 'Po':5}}\n",
    "Foundation_map = {'Foundation': {'PConc':1, 'CBlock':2, 'BrkTil':3, 'Slab':4, 'Stone':5, 'Wood':6}}\n",
    "BsmtQual_map = {'BsmtQual': {'TA':1, 'Gd':2, 'Ex':3, 'NA':4, 'Fa':5, 'Po':6}}\n",
    "BsmtCond_map = {'BsmtCond': {'TA':1, 'Gd':2, 'Ex':3, 'NA':4, 'Fa':5, 'Po':6}}\n",
    "BsmtExposure_map = {'BsmtExposure': {'No':1, 'Av':2, 'Gd':3, 'Mn':4, 'NA':5}}\n",
    "BsmtFinType1_map = {'BsmtFinType1': {'Unf':1, 'GLQ':2, 'ALQ':3, 'BLQ':4, 'Rec':5, 'LwQ':6, 'NA':7}}\n",
    "BsmtFinType2_map = {'BsmtFinType2': {'Unf':1, 'GLQ':2, 'ALQ':3, 'BLQ':4, 'Rec':5, 'LwQ':6, 'NA':7}}\n",
    "Heating_map = {'Heating': {'GasA':1, 'GasW':2, 'Grav':3, 'Wall':4, 'OthW':5, 'Floor':6}}\n",
    "HeatingQC_map = {'HeatingQC': {'Ex':1, 'TA':2, 'Gd':3, 'Fa':4, 'Po':5}}\n",
    "CentralAir_map = {'CentralAir': {'Y':1, 'N':2}}\n",
    "Electrical_map = {'Electrical': {'SBrkr':1, 'FuseA':2, 'FuseF':3, 'FuseP':4, 'Mix':5}}\n",
    "KitchenQual_map = {'KitchenQual': {'TA':1, 'Gd':2, 'Ex':3, 'Fa':4, 'Po':5}}\n",
    "Functional_map = {'Functional': {'Typ':1, 'Min2':2, 'Min1':3, 'Mod':4, 'Maj1':5, 'Maj2':6, 'Sev':7, 'Sal':8}}\n",
    "FireplaceQu_map = {'FireplaceQu': {'NA':1, 'Gd':2, 'TA':3, 'Fa':4, 'Ex':5, 'Po':6}}\n",
    "GarageType_map = {'GarageType': {'Attchd':1, 'Detchd':2, 'BuiltIn':3, 'NA':4, 'Basment':5, 'CarPort':6, '2Types':7}}\n",
    "GarageFinish_map = {'GarageFinish': {'Unf':1, 'RFn':2, 'Fin':3, 'NA':4}}\n",
    "GarageQual_map = {'GarageQual': {'Ex':1, 'TA':2, 'Gd':3, 'Fa':4, 'Po':5, 'NA':6}}\n",
    "GarageCond_map = {'GarageCond': {'Ex':1, 'TA':2, 'Gd':3, 'Fa':4, 'Po':5, 'NA':6}}\n",
    "PavedDrive_map = {'PavedDrive': {'Y':1, 'N':2, 'P':3}}\n",
    "PoolQC_map = {'PoolQC': {'Ex':1, 'TA':2, 'Gd':3, 'Fa':4, 'NA':5}}\n",
    "MiscFeature_map = {'MiscFeature': {'NA':1, 'Shed':2, 'Gar2':3, 'Othr':4, 'TenC':5, 'Elev':6}}\n",
    "SaleType_map = {'SaleType': {'WD':1, 'New':2, 'COD':3, 'ConLD':4, 'ConLI':5, 'ConLw':6, 'CWD':7, 'Oth':8,\n",
    "                             'Con':9, 'VWD':10}}\n",
    "SaleCondition_map = {'SaleCondition': {'Normal':1, 'Partial':2, 'Abnorml':3, 'Family':4, 'Alloca':5, 'AdjLand':6}}"
   ]
  },
  {
   "cell_type": "markdown",
   "id": "d208963d",
   "metadata": {},
   "source": [
    "Now replace the categorical values with the numerical values in the dictionaries above."
   ]
  },
  {
   "cell_type": "code",
   "execution_count": 51,
   "id": "75009d2d",
   "metadata": {},
   "outputs": [],
   "source": [
    "df.replace(MSZoning_map, inplace=True)\n",
    "df.replace(LotShape_map, inplace=True)\n",
    "df.replace(LandContour_map, inplace=True)\n",
    "df.replace(LotConfig_map, inplace=True)\n",
    "df.replace(LandSlope_map, inplace=True)\n",
    "df.replace(Neighborhood_map, inplace=True)\n",
    "df.replace(Condition1_map, inplace=True)\n",
    "df.replace(Condition2_map, inplace=True)\n",
    "df.replace(BldgType_map, inplace=True)\n",
    "df.replace(HouseStyle_map, inplace=True)\n",
    "df.replace(RoofStyle_map, inplace=True)\n",
    "df.replace(RoofMatl_map, inplace=True)\n",
    "df.replace(Exterior1st_map, inplace=True)\n",
    "df.replace(Exterior2nd_map, inplace=True)\n",
    "df.replace(MasVnrType_map, inplace=True)\n",
    "df.replace(ExterQual_map, inplace=True)\n",
    "df.replace(ExterCond_map, inplace=True)\n",
    "df.replace(Foundation_map, inplace=True)\n",
    "df.replace(BsmtQual_map, inplace=True)\n",
    "df.replace(BsmtCond_map, inplace=True)\n",
    "df.replace(BsmtExposure_map, inplace=True)\n",
    "df.replace(BsmtFinType1_map, inplace=True)\n",
    "df.replace(BsmtFinType2_map, inplace=True)\n",
    "df.replace(Heating_map, inplace=True)\n",
    "df.replace(HeatingQC_map, inplace=True)\n",
    "df.replace(CentralAir_map, inplace=True)\n",
    "df.replace(Electrical_map, inplace=True)\n",
    "df.replace(KitchenQual_map, inplace=True)\n",
    "df.replace(Functional_map, inplace=True)\n",
    "df.replace(FireplaceQu_map, inplace=True)\n",
    "df.replace(GarageType_map, inplace=True)\n",
    "df.replace(GarageFinish_map, inplace=True)\n",
    "df.replace(GarageQual_map, inplace=True)\n",
    "df.replace(GarageCond_map, inplace=True)\n",
    "df.replace(PavedDrive_map, inplace=True)\n",
    "df.replace(PoolQC_map, inplace=True)\n",
    "df.replace(MiscFeature_map, inplace=True)\n",
    "df.replace(SaleType_map, inplace=True)\n",
    "df.replace(SaleCondition_map, inplace=True)"
   ]
  },
  {
   "cell_type": "markdown",
   "id": "e231d830",
   "metadata": {},
   "source": [
    "Lets see where we are at"
   ]
  },
  {
   "cell_type": "code",
   "execution_count": 52,
   "id": "9407d0fb",
   "metadata": {},
   "outputs": [
    {
     "name": "stdout",
     "output_type": "stream",
     "text": [
      "<class 'pandas.core.frame.DataFrame'>\n",
      "RangeIndex: 1460 entries, 0 to 1459\n",
      "Data columns (total 76 columns):\n",
      " #   Column         Non-Null Count  Dtype  \n",
      "---  ------         --------------  -----  \n",
      " 0   Id             1460 non-null   int64  \n",
      " 1   MSSubClass     1460 non-null   int64  \n",
      " 2   MSZoning       1460 non-null   int64  \n",
      " 3   LotArea        1460 non-null   int64  \n",
      " 4   LotShape       1460 non-null   int64  \n",
      " 5   LandContour    1460 non-null   int64  \n",
      " 6   LotConfig      1460 non-null   int64  \n",
      " 7   LandSlope      1460 non-null   int64  \n",
      " 8   Neighborhood   1460 non-null   int64  \n",
      " 9   Condition1     1460 non-null   int64  \n",
      " 10  Condition2     1460 non-null   int64  \n",
      " 11  BldgType       1460 non-null   int64  \n",
      " 12  HouseStyle     1460 non-null   int64  \n",
      " 13  OverallQual    1460 non-null   int64  \n",
      " 14  OverallCond    1460 non-null   int64  \n",
      " 15  YearBuilt      1460 non-null   int64  \n",
      " 16  YearRemodAdd   1460 non-null   int64  \n",
      " 17  RoofStyle      1460 non-null   int64  \n",
      " 18  RoofMatl       1460 non-null   int64  \n",
      " 19  Exterior1st    1460 non-null   int64  \n",
      " 20  Exterior2nd    1460 non-null   int64  \n",
      " 21  MasVnrType     1460 non-null   int64  \n",
      " 22  MasVnrArea     1460 non-null   float64\n",
      " 23  ExterQual      1460 non-null   int64  \n",
      " 24  ExterCond      1460 non-null   int64  \n",
      " 25  Foundation     1460 non-null   int64  \n",
      " 26  BsmtQual       1460 non-null   int64  \n",
      " 27  BsmtCond       1460 non-null   int64  \n",
      " 28  BsmtExposure   1460 non-null   int64  \n",
      " 29  BsmtFinType1   1460 non-null   int64  \n",
      " 30  BsmtFinSF1     1460 non-null   int64  \n",
      " 31  BsmtFinType2   1460 non-null   int64  \n",
      " 32  BsmtFinSF2     1460 non-null   int64  \n",
      " 33  BsmtUnfSF      1460 non-null   int64  \n",
      " 34  TotalBsmtSF    1460 non-null   int64  \n",
      " 35  Heating        1460 non-null   int64  \n",
      " 36  HeatingQC      1460 non-null   int64  \n",
      " 37  CentralAir     1460 non-null   int64  \n",
      " 38  Electrical     1460 non-null   int64  \n",
      " 39  1stFlrSF       1460 non-null   int64  \n",
      " 40  2ndFlrSF       1460 non-null   int64  \n",
      " 41  LowQualFinSF   1460 non-null   int64  \n",
      " 42  GrLivArea      1460 non-null   int64  \n",
      " 43  BsmtFullBath   1460 non-null   int64  \n",
      " 44  BsmtHalfBath   1460 non-null   int64  \n",
      " 45  FullBath       1460 non-null   int64  \n",
      " 46  HalfBath       1460 non-null   int64  \n",
      " 47  BedroomAbvGr   1460 non-null   int64  \n",
      " 48  KitchenAbvGr   1460 non-null   int64  \n",
      " 49  KitchenQual    1460 non-null   int64  \n",
      " 50  TotRmsAbvGrd   1460 non-null   int64  \n",
      " 51  Functional     1460 non-null   int64  \n",
      " 52  Fireplaces     1460 non-null   int64  \n",
      " 53  FireplaceQu    1460 non-null   int64  \n",
      " 54  GarageType     1460 non-null   int64  \n",
      " 55  GarageYrBlt    1460 non-null   float64\n",
      " 56  GarageFinish   1460 non-null   int64  \n",
      " 57  GarageCars     1460 non-null   int64  \n",
      " 58  GarageArea     1460 non-null   int64  \n",
      " 59  GarageQual     1460 non-null   int64  \n",
      " 60  GarageCond     1460 non-null   int64  \n",
      " 61  PavedDrive     1460 non-null   int64  \n",
      " 62  WoodDeckSF     1460 non-null   int64  \n",
      " 63  OpenPorchSF    1460 non-null   int64  \n",
      " 64  EnclosedPorch  1460 non-null   int64  \n",
      " 65  3SsnPorch      1460 non-null   int64  \n",
      " 66  ScreenPorch    1460 non-null   int64  \n",
      " 67  PoolArea       1460 non-null   int64  \n",
      " 68  PoolQC         1460 non-null   int64  \n",
      " 69  MiscFeature    1460 non-null   int64  \n",
      " 70  MiscVal        1460 non-null   int64  \n",
      " 71  MoSold         1460 non-null   int64  \n",
      " 72  YrSold         1460 non-null   int64  \n",
      " 73  SaleType       1460 non-null   int64  \n",
      " 74  SaleCondition  1460 non-null   int64  \n",
      " 75  SalePrice      1460 non-null   int64  \n",
      "dtypes: float64(2), int64(74)\n",
      "memory usage: 867.0 KB\n"
     ]
    }
   ],
   "source": [
    "df.info()"
   ]
  },
  {
   "cell_type": "markdown",
   "id": "ffcd5e5e",
   "metadata": {},
   "source": [
    "# Feature Selection\n",
    "\n",
    "In many situations using all the features available in a data set will not result in the most predictive model. Depending on the type of model being used, the size of the data set and various other factors, including excess features, can reduce model performance. \n",
    "\n",
    "There are three main goals to feature selection.\n",
    "\n",
    "- Improve the accuracy with which the model is able to predict for new data\n",
    "- Reduce computational cost\n",
    "- Produce a more interpretable model\n",
    "\n",
    "The Housing Prices dataset has 77 features after the cleanup. Lets see if we can drop any."
   ]
  },
  {
   "cell_type": "code",
   "execution_count": null,
   "id": "b168a125",
   "metadata": {},
   "outputs": [],
   "source": []
  },
  {
   "cell_type": "code",
   "execution_count": null,
   "id": "0cad3c6a",
   "metadata": {},
   "outputs": [],
   "source": []
  },
  {
   "cell_type": "code",
   "execution_count": 60,
   "id": "c66bf1f7",
   "metadata": {},
   "outputs": [
    {
     "data": {
      "text/plain": [
       "<AxesSubplot:>"
      ]
     },
     "execution_count": 60,
     "metadata": {},
     "output_type": "execute_result"
    },
    {
     "data": {
      "image/png": "[encoded data removed]",
      "text/plain": [
       "<Figure size 1800x1800 with 2 Axes>"
      ]
     },
     "metadata": {},
     "output_type": "display_data"
    }
   ],
   "source": [
    "corr = df.corr()\n",
    "mask = np.triu(np.ones_like(corr, dtype=bool))\n",
    "sns.set_style(style = 'white')\n",
    "f, ax = plt.subplots(figsize=(25, 25))\n",
    "cmap = sns.diverging_palette(10, 250, as_cmap=True)\n",
    "sns.heatmap(corr, mask=mask, cmap=cmap, \n",
    "        square=True,\n",
    "        linewidths=.5, cbar_kws={\"shrink\": .5}, ax=ax)"
   ]
  },
  {
   "cell_type": "code",
   "execution_count": null,
   "id": "444e8ed0",
   "metadata": {},
   "outputs": [],
   "source": []
  },
  {
   "cell_type": "code",
   "execution_count": null,
   "id": "d4642b16",
   "metadata": {},
   "outputs": [],
   "source": []
  },
  {
   "cell_type": "code",
   "execution_count": null,
   "id": "64f20605",
   "metadata": {},
   "outputs": [],
   "source": []
  },
  {
   "cell_type": "code",
   "execution_count": null,
   "id": "5913c9fa",
   "metadata": {},
   "outputs": [],
   "source": []
  },
  {
   "cell_type": "code",
   "execution_count": null,
   "id": "17cb63ff",
   "metadata": {},
   "outputs": [],
   "source": []
  },
  {
   "cell_type": "code",
   "execution_count": null,
   "id": "b9808f09",
   "metadata": {},
   "outputs": [],
   "source": []
  }
 ],
 "metadata": {
  "kernelspec": {
   "display_name": "Python 3 (ipykernel)",
   "language": "python",
   "name": "python3"
  },
  "language_info": {
   "codemirror_mode": {
    "name": "ipython",
    "version": 3
   },
   "file_extension": ".py",
   "mimetype": "text/x-python",
   "name": "python",
   "nbconvert_exporter": "python",
   "pygments_lexer": "ipython3",
   "version": "3.9.12"
  }
 },
 "nbformat": 4,
 "nbformat_minor": 5
}
