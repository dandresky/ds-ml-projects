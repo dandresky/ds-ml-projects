{
 "cells": [
  {
   "cell_type": "markdown",
   "id": "abcc0775",
   "metadata": {},
   "source": [
    "# Spaceship Titanic Kaggle Competition\n",
    "\n",
    "This notebook simply explores the dataset to see what insights can be gained."
   ]
  },
  {
   "cell_type": "code",
   "execution_count": 1,
   "id": "5cce2a5f",
   "metadata": {},
   "outputs": [],
   "source": [
    "import numpy as np\n",
    "import pandas as pd\n",
    "import seaborn as sns\n",
    "import matplotlib.pyplot as plt\n",
    "\n",
    "%matplotlib inline"
   ]
  },
  {
   "cell_type": "markdown",
   "id": "11563546",
   "metadata": {},
   "source": [
    "Import and inspect the data"
   ]
  },
  {
   "cell_type": "code",
   "execution_count": 2,
   "id": "8e18cf36",
   "metadata": {},
   "outputs": [
    {
     "data": {
      "text/html": [
       "<div>\n",
       "<style scoped>\n",
       "    .dataframe tbody tr th:only-of-type {\n",
       "        vertical-align: middle;\n",
       "    }\n",
       "\n",
       "    .dataframe tbody tr th {\n",
       "        vertical-align: top;\n",
       "    }\n",
       "\n",
       "    .dataframe thead th {\n",
       "        text-align: right;\n",
       "    }\n",
       "</style>\n",
       "<table border=\"1\" class=\"dataframe\">\n",
       "  <thead>\n",
       "    <tr style=\"text-align: right;\">\n",
       "      <th></th>\n",
       "      <th>PassengerId</th>\n",
       "      <th>HomePlanet</th>\n",
       "      <th>CryoSleep</th>\n",
       "      <th>Cabin</th>\n",
       "      <th>Destination</th>\n",
       "      <th>Age</th>\n",
       "      <th>VIP</th>\n",
       "      <th>RoomService</th>\n",
       "      <th>FoodCourt</th>\n",
       "      <th>ShoppingMall</th>\n",
       "      <th>Spa</th>\n",
       "      <th>VRDeck</th>\n",
       "      <th>Name</th>\n",
       "      <th>Transported</th>\n",
       "    </tr>\n",
       "  </thead>\n",
       "  <tbody>\n",
       "    <tr>\n",
       "      <th>0</th>\n",
       "      <td>0001_01</td>\n",
       "      <td>Europa</td>\n",
       "      <td>False</td>\n",
       "      <td>B/0/P</td>\n",
       "      <td>TRAPPIST-1e</td>\n",
       "      <td>39.0</td>\n",
       "      <td>False</td>\n",
       "      <td>0.0</td>\n",
       "      <td>0.0</td>\n",
       "      <td>0.0</td>\n",
       "      <td>0.0</td>\n",
       "      <td>0.0</td>\n",
       "      <td>Maham Ofracculy</td>\n",
       "      <td>False</td>\n",
       "    </tr>\n",
       "    <tr>\n",
       "      <th>1</th>\n",
       "      <td>0002_01</td>\n",
       "      <td>Earth</td>\n",
       "      <td>False</td>\n",
       "      <td>F/0/S</td>\n",
       "      <td>TRAPPIST-1e</td>\n",
       "      <td>24.0</td>\n",
       "      <td>False</td>\n",
       "      <td>109.0</td>\n",
       "      <td>9.0</td>\n",
       "      <td>25.0</td>\n",
       "      <td>549.0</td>\n",
       "      <td>44.0</td>\n",
       "      <td>Juanna Vines</td>\n",
       "      <td>True</td>\n",
       "    </tr>\n",
       "    <tr>\n",
       "      <th>2</th>\n",
       "      <td>0003_01</td>\n",
       "      <td>Europa</td>\n",
       "      <td>False</td>\n",
       "      <td>A/0/S</td>\n",
       "      <td>TRAPPIST-1e</td>\n",
       "      <td>58.0</td>\n",
       "      <td>True</td>\n",
       "      <td>43.0</td>\n",
       "      <td>3576.0</td>\n",
       "      <td>0.0</td>\n",
       "      <td>6715.0</td>\n",
       "      <td>49.0</td>\n",
       "      <td>Altark Susent</td>\n",
       "      <td>False</td>\n",
       "    </tr>\n",
       "    <tr>\n",
       "      <th>3</th>\n",
       "      <td>0003_02</td>\n",
       "      <td>Europa</td>\n",
       "      <td>False</td>\n",
       "      <td>A/0/S</td>\n",
       "      <td>TRAPPIST-1e</td>\n",
       "      <td>33.0</td>\n",
       "      <td>False</td>\n",
       "      <td>0.0</td>\n",
       "      <td>1283.0</td>\n",
       "      <td>371.0</td>\n",
       "      <td>3329.0</td>\n",
       "      <td>193.0</td>\n",
       "      <td>Solam Susent</td>\n",
       "      <td>False</td>\n",
       "    </tr>\n",
       "    <tr>\n",
       "      <th>4</th>\n",
       "      <td>0004_01</td>\n",
       "      <td>Earth</td>\n",
       "      <td>False</td>\n",
       "      <td>F/1/S</td>\n",
       "      <td>TRAPPIST-1e</td>\n",
       "      <td>16.0</td>\n",
       "      <td>False</td>\n",
       "      <td>303.0</td>\n",
       "      <td>70.0</td>\n",
       "      <td>151.0</td>\n",
       "      <td>565.0</td>\n",
       "      <td>2.0</td>\n",
       "      <td>Willy Santantines</td>\n",
       "      <td>True</td>\n",
       "    </tr>\n",
       "  </tbody>\n",
       "</table>\n",
       "</div>"
      ],
      "text/plain": [
       "  PassengerId HomePlanet CryoSleep  Cabin  Destination   Age    VIP  \\\n",
       "0     0001_01     Europa     False  B/0/P  TRAPPIST-1e  39.0  False   \n",
       "1     0002_01      Earth     False  F/0/S  TRAPPIST-1e  24.0  False   \n",
       "2     0003_01     Europa     False  A/0/S  TRAPPIST-1e  58.0   True   \n",
       "3     0003_02     Europa     False  A/0/S  TRAPPIST-1e  33.0  False   \n",
       "4     0004_01      Earth     False  F/1/S  TRAPPIST-1e  16.0  False   \n",
       "\n",
       "   RoomService  FoodCourt  ShoppingMall     Spa  VRDeck               Name  \\\n",
       "0          0.0        0.0           0.0     0.0     0.0    Maham Ofracculy   \n",
       "1        109.0        9.0          25.0   549.0    44.0       Juanna Vines   \n",
       "2         43.0     3576.0           0.0  6715.0    49.0      Altark Susent   \n",
       "3          0.0     1283.0         371.0  3329.0   193.0       Solam Susent   \n",
       "4        303.0       70.0         151.0   565.0     2.0  Willy Santantines   \n",
       "\n",
       "   Transported  \n",
       "0        False  \n",
       "1         True  \n",
       "2        False  \n",
       "3        False  \n",
       "4         True  "
      ]
     },
     "execution_count": 2,
     "metadata": {},
     "output_type": "execute_result"
    }
   ],
   "source": [
    "df = pd.read_csv('../data/train.csv')\n",
    "df.head()"
   ]
  },
  {
   "cell_type": "code",
   "execution_count": 3,
   "id": "7e79cf68",
   "metadata": {},
   "outputs": [
    {
     "name": "stdout",
     "output_type": "stream",
     "text": [
      "<class 'pandas.core.frame.DataFrame'>\n",
      "RangeIndex: 8693 entries, 0 to 8692\n",
      "Data columns (total 14 columns):\n",
      " #   Column        Non-Null Count  Dtype  \n",
      "---  ------        --------------  -----  \n",
      " 0   PassengerId   8693 non-null   object \n",
      " 1   HomePlanet    8492 non-null   object \n",
      " 2   CryoSleep     8476 non-null   object \n",
      " 3   Cabin         8494 non-null   object \n",
      " 4   Destination   8511 non-null   object \n",
      " 5   Age           8514 non-null   float64\n",
      " 6   VIP           8490 non-null   object \n",
      " 7   RoomService   8512 non-null   float64\n",
      " 8   FoodCourt     8510 non-null   float64\n",
      " 9   ShoppingMall  8485 non-null   float64\n",
      " 10  Spa           8510 non-null   float64\n",
      " 11  VRDeck        8505 non-null   float64\n",
      " 12  Name          8493 non-null   object \n",
      " 13  Transported   8693 non-null   bool   \n",
      "dtypes: bool(1), float64(6), object(7)\n",
      "memory usage: 891.5+ KB\n"
     ]
    }
   ],
   "source": [
    "df.info()"
   ]
  },
  {
   "cell_type": "markdown",
   "id": "d493c010",
   "metadata": {},
   "source": [
    "# Strategies for Dealing with Missing Data\n",
    "\n",
    "1. Delete all rows with missing data\n",
    "2. Replace missing data with the meadian, mean, or mode of the feature\n",
    "3. Develop models to predict missing data\n",
    "\n",
    "Since this is an introductory challenge meant to learn how to use the Kaggle platform, I will use one or both of the first two strategies."
   ]
  },
  {
   "cell_type": "code",
   "execution_count": 4,
   "id": "2b3574d3",
   "metadata": {},
   "outputs": [
    {
     "data": {
      "text/plain": [
       "PassengerId       0\n",
       "HomePlanet      201\n",
       "CryoSleep       217\n",
       "Cabin           199\n",
       "Destination     182\n",
       "Age             179\n",
       "VIP             203\n",
       "RoomService     181\n",
       "FoodCourt       183\n",
       "ShoppingMall    208\n",
       "Spa             183\n",
       "VRDeck          188\n",
       "Name            200\n",
       "Transported       0\n",
       "dtype: int64"
      ]
     },
     "execution_count": 4,
     "metadata": {},
     "output_type": "execute_result"
    }
   ],
   "source": [
    "df.isnull().sum()"
   ]
  },
  {
   "cell_type": "markdown",
   "id": "d9993e93",
   "metadata": {},
   "source": [
    "The highest percentage of missing data is CryoSleep at 2.5%. How much data would I discard if I dropped all missing values?"
   ]
  },
  {
   "cell_type": "code",
   "execution_count": 5,
   "id": "e9ff0e5c",
   "metadata": {},
   "outputs": [
    {
     "name": "stdout",
     "output_type": "stream",
     "text": [
      "6606\n"
     ]
    }
   ],
   "source": [
    "print(df.dropna().shape[0])"
   ]
  },
  {
   "cell_type": "markdown",
   "id": "e2eb8282",
   "metadata": {},
   "source": [
    "I would lose 24% of the data. How many passengers have multiple missing values?"
   ]
  },
  {
   "cell_type": "code",
   "execution_count": 6,
   "id": "6e6218f0",
   "metadata": {},
   "outputs": [
    {
     "name": "stdout",
     "output_type": "stream",
     "text": [
      "Passengers with 2 or more missing values: 0\n"
     ]
    }
   ],
   "source": [
    "print('Passengers with 2 or more missing values: ' + str(8693 - df.dropna(thresh=2).shape[0]))"
   ]
  },
  {
   "cell_type": "markdown",
   "id": "f7d930ae",
   "metadata": {},
   "source": [
    "There is not a single passenger with more than one missing value. Lets see if I can reduce the number of dropped passengers with some pre-processing."
   ]
  },
  {
   "cell_type": "markdown",
   "id": "73f24353",
   "metadata": {},
   "source": [
    "# Drop the Name Feature\n",
    "\n",
    "A count of unique Name values shows there are only 20 duplicates out of 8493 names. I don't expect any useful information so drop it."
   ]
  },
  {
   "cell_type": "code",
   "execution_count": 7,
   "id": "8877014d",
   "metadata": {},
   "outputs": [
    {
     "data": {
      "text/plain": [
       "8474"
      ]
     },
     "execution_count": 7,
     "metadata": {},
     "output_type": "execute_result"
    }
   ],
   "source": [
    "len(df.Name.unique())"
   ]
  },
  {
   "cell_type": "code",
   "execution_count": 8,
   "id": "cd3e86ed",
   "metadata": {},
   "outputs": [],
   "source": [
    "df.drop('Name', axis=1, inplace=True)"
   ]
  },
  {
   "cell_type": "markdown",
   "id": "46d001a9",
   "metadata": {},
   "source": [
    "# Fill in Missing CryoSleep Values\n",
    "\n",
    "Create a new feature that sums all spending for each passenger and look at the correlation with CryoSleep.\n",
    "\n",
    "Will assume anyone not spending money is in CryoSleep. First, test my hypothesis."
   ]
  },
  {
   "cell_type": "code",
   "execution_count": 9,
   "id": "2c6c907e",
   "metadata": {},
   "outputs": [],
   "source": [
    "df['TotalSpend'] =  df[['RoomService', 'FoodCourt', 'ShoppingMall', 'Spa', 'VRDeck']].sum(axis=1)"
   ]
  },
  {
   "cell_type": "markdown",
   "id": "fa2eeaa8",
   "metadata": {},
   "source": [
    "Is there anyone awake and not spending money?"
   ]
  },
  {
   "cell_type": "code",
   "execution_count": 16,
   "id": "6e2c8005",
   "metadata": {},
   "outputs": [
    {
     "data": {
      "text/plain": [
       "518"
      ]
     },
     "execution_count": 16,
     "metadata": {},
     "output_type": "execute_result"
    }
   ],
   "source": [
    "len(df[(df.CryoSleep==False) & (df.TotalSpend==0)])"
   ]
  },
  {
   "cell_type": "markdown",
   "id": "d03faf43",
   "metadata": {},
   "source": [
    "There are 518 people awake and not spending money. Are they old enough to have money to spend?"
   ]
  },
  {
   "cell_type": "code",
   "execution_count": 17,
   "id": "a2952719",
   "metadata": {},
   "outputs": [
    {
     "data": {
      "text/plain": [
       "156"
      ]
     },
     "execution_count": 17,
     "metadata": {},
     "output_type": "execute_result"
    }
   ],
   "source": [
    "len(df[(df.CryoSleep==False) & (df.Age>10) & (df.TotalSpend==0)])"
   ]
  },
  {
   "cell_type": "markdown",
   "id": "4f7b4f02",
   "metadata": {},
   "source": [
    "Confirm no one asleep is spending money."
   ]
  },
  {
   "cell_type": "code",
   "execution_count": 19,
   "id": "e516734d",
   "metadata": {},
   "outputs": [
    {
     "data": {
      "text/plain": [
       "0"
      ]
     },
     "execution_count": 19,
     "metadata": {},
     "output_type": "execute_result"
    }
   ],
   "source": [
    "len(df[(df.CryoSleep==True) & df.TotalSpend>0])"
   ]
  },
  {
   "cell_type": "code",
   "execution_count": 20,
   "id": "7a83e32e",
   "metadata": {},
   "outputs": [
    {
     "data": {
      "text/plain": [
       "False    5439\n",
       "True     3037\n",
       "Name: CryoSleep, dtype: int64"
      ]
     },
     "execution_count": 20,
     "metadata": {},
     "output_type": "execute_result"
    }
   ],
   "source": [
    "df.CryoSleep.value_counts()"
   ]
  },
  {
   "cell_type": "markdown",
   "id": "d5d65a21",
   "metadata": {},
   "source": [
    "156 out of 5439 people awake are old enough to have money but are not spending. That is low enough that I will just set CryoSleep missing values to True if the passenger is not spending money."
   ]
  },
  {
   "cell_type": "code",
   "execution_count": 21,
   "id": "e26af119",
   "metadata": {},
   "outputs": [
    {
     "data": {
      "text/plain": [
       "PassengerId       0\n",
       "HomePlanet      201\n",
       "CryoSleep         0\n",
       "Cabin           199\n",
       "Destination     182\n",
       "Age             179\n",
       "VIP             203\n",
       "RoomService     181\n",
       "FoodCourt       183\n",
       "ShoppingMall    208\n",
       "Spa             183\n",
       "VRDeck          188\n",
       "Transported       0\n",
       "TotalSpend        0\n",
       "dtype: int64"
      ]
     },
     "execution_count": 21,
     "metadata": {},
     "output_type": "execute_result"
    }
   ],
   "source": [
    "df['CryoSleep'] = df.apply(lambda row: False if ((row['TotalSpend']>0) & np.isnan(row['CryoSleep'])) else row['CryoSleep'], axis=1)\n",
    "df['CryoSleep'] = df.apply(lambda row: True if ((row['TotalSpend']==0) & np.isnan(row['CryoSleep'])) else row['CryoSleep'], axis=1)\n",
    "df.isnull().sum()"
   ]
  },
  {
   "cell_type": "markdown",
   "id": "e678d4d4",
   "metadata": {},
   "source": [
    "# Fill in Missing Values for Spending Features\n",
    "\n",
    "If CryoSleep = False, then spending = median. If CryoSleep = True, then spending = 0"
   ]
  },
  {
   "cell_type": "code",
   "execution_count": 22,
   "id": "286efda1",
   "metadata": {},
   "outputs": [],
   "source": [
    "df['RoomService'] = df.apply(lambda row: 0 if ((row['CryoSleep']==True) & np.isnan(row['RoomService'])) else row['RoomService'], axis=1)\n",
    "df['RoomService'] = df.apply(lambda row: df['RoomService'].median() if ((row['CryoSleep']==False) & np.isnan(row['RoomService'])) else row['RoomService'], axis=1)\n",
    "\n",
    "df['FoodCourt'] = df.apply(lambda row: 0 if ((row['CryoSleep']==True) & np.isnan(row['FoodCourt'])) else row['FoodCourt'], axis=1)\n",
    "df['FoodCourt'] = df.apply(lambda row: df['FoodCourt'].median() if ((row['CryoSleep']==False) & np.isnan(row['FoodCourt'])) else row['FoodCourt'], axis=1)\n",
    "\n",
    "df['ShoppingMall'] = df.apply(lambda row: 0 if ((row['CryoSleep']==True) & np.isnan(row['ShoppingMall'])) else row['ShoppingMall'], axis=1)\n",
    "df['ShoppingMall'] = df.apply(lambda row: df['ShoppingMall'].median() if ((row['CryoSleep']==False) & np.isnan(row['ShoppingMall'])) else row['ShoppingMall'], axis=1)\n",
    "\n",
    "df['Spa'] = df.apply(lambda row: 0 if ((row['CryoSleep']==True) & np.isnan(row['Spa'])) else row['Spa'], axis=1)\n",
    "df['Spa'] = df.apply(lambda row: df['Spa'].median() if ((row['CryoSleep']==False) & np.isnan(row['Spa'])) else row['Spa'], axis=1)\n",
    "\n",
    "df['VRDeck'] = df.apply(lambda row: 0 if ((row['CryoSleep']==True) & np.isnan(row['VRDeck'])) else row['VRDeck'], axis=1)\n",
    "df['VRDeck'] = df.apply(lambda row: df['VRDeck'].median() if ((row['CryoSleep']==False) & np.isnan(row['VRDeck'])) else row['VRDeck'], axis=1)\n",
    "\n",
    "df['Age'] = df.apply(lambda row: 0 if ((row['CryoSleep']==True) & np.isnan(row['Age'])) else row['Age'], axis=1)\n",
    "df['Age'] = df.apply(lambda row: df['Age'].median() if ((row['CryoSleep']==False) & np.isnan(row['Age'])) else row['Age'], axis=1)\n"
   ]
  },
  {
   "cell_type": "code",
   "execution_count": 23,
   "id": "aea1e795",
   "metadata": {},
   "outputs": [
    {
     "data": {
      "text/plain": [
       "PassengerId       0\n",
       "HomePlanet      201\n",
       "CryoSleep         0\n",
       "Cabin           199\n",
       "Destination     182\n",
       "Age               0\n",
       "VIP             203\n",
       "RoomService       0\n",
       "FoodCourt         0\n",
       "ShoppingMall      0\n",
       "Spa               0\n",
       "VRDeck            0\n",
       "Transported       0\n",
       "TotalSpend        0\n",
       "dtype: int64"
      ]
     },
     "execution_count": 23,
     "metadata": {},
     "output_type": "execute_result"
    }
   ],
   "source": [
    "df.isnull().sum()"
   ]
  },
  {
   "cell_type": "markdown",
   "id": "dcf23c84",
   "metadata": {},
   "source": [
    "# How About Missing VIP Values"
   ]
  },
  {
   "cell_type": "code",
   "execution_count": 24,
   "id": "e48c55dd",
   "metadata": {},
   "outputs": [
    {
     "data": {
      "text/plain": [
       "False    8291\n",
       "True      199\n",
       "Name: VIP, dtype: int64"
      ]
     },
     "execution_count": 24,
     "metadata": {},
     "output_type": "execute_result"
    }
   ],
   "source": [
    "df.VIP.value_counts()"
   ]
  },
  {
   "cell_type": "markdown",
   "id": "fef2bcb6",
   "metadata": {},
   "source": [
    "Only 2.3% of passengers are VIP. Is there a correlation to money spent? "
   ]
  },
  {
   "cell_type": "code",
   "execution_count": 27,
   "id": "f887b54d",
   "metadata": {},
   "outputs": [
    {
     "data": {
      "text/plain": [
       "170"
      ]
     },
     "execution_count": 27,
     "metadata": {},
     "output_type": "execute_result"
    }
   ],
   "source": [
    "len(df[(df['VIP']==True) & (df['TotalSpend']>750)])"
   ]
  },
  {
   "cell_type": "markdown",
   "id": "6a86803e",
   "metadata": {},
   "source": [
    "171 out of 199 VIP passengers spent money. 170 of those spent more than $750.\n",
    "\n",
    "How many non-VIP spent more than $750?"
   ]
  },
  {
   "cell_type": "code",
   "execution_count": 29,
   "id": "e25807ac",
   "metadata": {},
   "outputs": [
    {
     "data": {
      "text/plain": [
       "3901"
      ]
     },
     "execution_count": 29,
     "metadata": {},
     "output_type": "execute_result"
    }
   ],
   "source": [
    "len(df[(df['VIP']==False) & (df['TotalSpend']>750)])"
   ]
  },
  {
   "cell_type": "markdown",
   "id": "5df730a2",
   "metadata": {},
   "source": [
    "There doesn't appear to be any correlation. Given 97.7% of passengers are not VIP, I could just make null values False."
   ]
  },
  {
   "cell_type": "code",
   "execution_count": 30,
   "id": "5a00d11e",
   "metadata": {},
   "outputs": [
    {
     "data": {
      "text/plain": [
       "False    8494\n",
       "True      199\n",
       "Name: VIP, dtype: int64"
      ]
     },
     "execution_count": 30,
     "metadata": {},
     "output_type": "execute_result"
    }
   ],
   "source": [
    "df.fillna({'VIP':False}, inplace=True)\n",
    "df.VIP.value_counts()"
   ]
  },
  {
   "cell_type": "code",
   "execution_count": 31,
   "id": "15db0ff4",
   "metadata": {},
   "outputs": [
    {
     "data": {
      "text/plain": [
       "PassengerId       0\n",
       "HomePlanet      201\n",
       "CryoSleep         0\n",
       "Cabin           199\n",
       "Destination     182\n",
       "Age               0\n",
       "VIP               0\n",
       "RoomService       0\n",
       "FoodCourt         0\n",
       "ShoppingMall      0\n",
       "Spa               0\n",
       "VRDeck            0\n",
       "Transported       0\n",
       "TotalSpend        0\n",
       "dtype: int64"
      ]
     },
     "execution_count": 31,
     "metadata": {},
     "output_type": "execute_result"
    }
   ],
   "source": [
    "df.isnull().sum()"
   ]
  },
  {
   "cell_type": "markdown",
   "id": "f316fae4",
   "metadata": {},
   "source": [
    "Now that I have filled missing spending values, I can drop total spend."
   ]
  },
  {
   "cell_type": "code",
   "execution_count": 32,
   "id": "eea9adc2",
   "metadata": {},
   "outputs": [],
   "source": [
    "df.drop('TotalSpend', axis=1, inplace=True)"
   ]
  },
  {
   "cell_type": "markdown",
   "id": "d7a90ce8",
   "metadata": {},
   "source": [
    "# Add Dummy for Missing HomePlanet, Destination, and Cabin"
   ]
  },
  {
   "cell_type": "code",
   "execution_count": 34,
   "id": "f527dbc8",
   "metadata": {},
   "outputs": [
    {
     "data": {
      "text/plain": [
       "Earth      4602\n",
       "Europa     2131\n",
       "Mars       1759\n",
       "Mercury     201\n",
       "Name: HomePlanet, dtype: int64"
      ]
     },
     "execution_count": 34,
     "metadata": {},
     "output_type": "execute_result"
    }
   ],
   "source": [
    "df.fillna({'HomePlanet':'Mercury'}, inplace=True)\n",
    "df.HomePlanet.value_counts()"
   ]
  },
  {
   "cell_type": "code",
   "execution_count": 35,
   "id": "8f9ffb8b",
   "metadata": {},
   "outputs": [
    {
     "data": {
      "text/plain": [
       "TRAPPIST-1e      5915\n",
       "55 Cancri e      1800\n",
       "PSO J318.5-22     796\n",
       "Planet-Z          182\n",
       "Name: Destination, dtype: int64"
      ]
     },
     "execution_count": 35,
     "metadata": {},
     "output_type": "execute_result"
    }
   ],
   "source": [
    "df.fillna({'Destination':'Planet-Z'}, inplace=True)\n",
    "df.Destination.value_counts()"
   ]
  },
  {
   "cell_type": "code",
   "execution_count": 36,
   "id": "f0573d51",
   "metadata": {},
   "outputs": [
    {
     "data": {
      "text/plain": [
       "0/0/0      199\n",
       "G/734/S      8\n",
       "C/137/S      7\n",
       "B/201/P      7\n",
       "G/109/P      7\n",
       "          ... \n",
       "G/556/P      1\n",
       "E/231/S      1\n",
       "G/545/S      1\n",
       "G/543/S      1\n",
       "C/178/S      1\n",
       "Name: Cabin, Length: 6561, dtype: int64"
      ]
     },
     "execution_count": 36,
     "metadata": {},
     "output_type": "execute_result"
    }
   ],
   "source": [
    "df.fillna({'Cabin':'0/0/0'}, inplace=True)\n",
    "df.Cabin.value_counts()"
   ]
  },
  {
   "cell_type": "code",
   "execution_count": 37,
   "id": "2287d4f8",
   "metadata": {},
   "outputs": [
    {
     "data": {
      "text/plain": [
       "PassengerId     0\n",
       "HomePlanet      0\n",
       "CryoSleep       0\n",
       "Cabin           0\n",
       "Destination     0\n",
       "Age             0\n",
       "VIP             0\n",
       "RoomService     0\n",
       "FoodCourt       0\n",
       "ShoppingMall    0\n",
       "Spa             0\n",
       "VRDeck          0\n",
       "Transported     0\n",
       "dtype: int64"
      ]
     },
     "execution_count": 37,
     "metadata": {},
     "output_type": "execute_result"
    }
   ],
   "source": [
    "df.isnull().sum()"
   ]
  },
  {
   "cell_type": "markdown",
   "id": "72c5a1b0",
   "metadata": {},
   "source": [
    "# Extract Features from Cabin\n",
    "\n",
    "There are three values separated by '/' that indicate class or location of cabin. An examination of the unique values suggests that the first character may indicate a level, the second a room number, and the third could be port/starboard."
   ]
  },
  {
   "cell_type": "code",
   "execution_count": 38,
   "id": "ea8042f8",
   "metadata": {},
   "outputs": [],
   "source": [
    "df[['CabinLevel', 'CabinNumber', 'CabinSide']] = df['Cabin'].str.split('/', expand=True)"
   ]
  },
  {
   "cell_type": "markdown",
   "id": "2555c8c8",
   "metadata": {},
   "source": [
    "I'll drop Cabin and CabinNumber"
   ]
  },
  {
   "cell_type": "code",
   "execution_count": 39,
   "id": "ce29e650",
   "metadata": {},
   "outputs": [],
   "source": [
    "df.drop(['Cabin', 'CabinNumber'], axis=1, inplace=True)"
   ]
  },
  {
   "cell_type": "code",
   "execution_count": 41,
   "id": "05cb226f",
   "metadata": {},
   "outputs": [
    {
     "data": {
      "text/plain": [
       "F    2794\n",
       "G    2559\n",
       "E     876\n",
       "B     779\n",
       "C     747\n",
       "D     478\n",
       "A     256\n",
       "0     199\n",
       "T       5\n",
       "Name: CabinLevel, dtype: int64"
      ]
     },
     "execution_count": 41,
     "metadata": {},
     "output_type": "execute_result"
    }
   ],
   "source": [
    "df.CabinLevel.value_counts()"
   ]
  },
  {
   "cell_type": "code",
   "execution_count": 42,
   "id": "45352e33",
   "metadata": {},
   "outputs": [
    {
     "data": {
      "text/plain": [
       "S    4288\n",
       "P    4206\n",
       "0     199\n",
       "Name: CabinSide, dtype: int64"
      ]
     },
     "execution_count": 42,
     "metadata": {},
     "output_type": "execute_result"
    }
   ],
   "source": [
    "df.CabinSide.value_counts()"
   ]
  },
  {
   "cell_type": "markdown",
   "id": "5f022ce7",
   "metadata": {},
   "source": [
    "# Create a New Feature for Age Range\n",
    "\n",
    "There may be thresholds in Age that give more useful information than knowing the actual age. Create a feature for range and compare correlation with the Age feature."
   ]
  },
  {
   "cell_type": "code",
   "execution_count": null,
   "id": "c8a2f5bc",
   "metadata": {},
   "outputs": [],
   "source": [
    "bins = [0, 6, 18, 35, 65]\n",
    "labels = ['<6', '6-17', '18-34', '35-64', '65+']\n",
    "\n",
    "d = dict(enumerate(labels, 1))\n",
    "\n",
    "df['AgeRange'] = np.vectorize(d.get)(np.digitize(df['Age'], bins))\n",
    "df.AgeRange.value_counts()"
   ]
  },
  {
   "cell_type": "code",
   "execution_count": null,
   "id": "c0a055f1",
   "metadata": {},
   "outputs": [],
   "source": [
    "df['Age'].corr(df['Transported'], method='pearson')\n",
    "#df['Age'].corr(df['Transported'], method='spearman')\n",
    "#df['Age'].corr(df['Transported'], method='kendall')"
   ]
  },
  {
   "cell_type": "code",
   "execution_count": null,
   "id": "07f543a2",
   "metadata": {},
   "outputs": [],
   "source": [
    "df['AgeRange']=df['AgeRange'].astype('category').cat.codes\n",
    "df['AgeRange'].corr(df['Transported'], method='pearson')\n",
    "#df['AgeRange'].corr(df['Transported'], method='spearman')\n",
    "#df['AgeRange'].corr(df['Transported'], method='kendall')"
   ]
  },
  {
   "cell_type": "markdown",
   "id": "37b03bea",
   "metadata": {},
   "source": [
    "Conclusion:\n",
    "\n",
    "A slight improvement in correllation can be obtained by grouping ages but still seems negligible. I'll drop Age and keep AgeRange. I may drop AgeRange when testing models."
   ]
  },
  {
   "cell_type": "code",
   "execution_count": null,
   "id": "f5420957",
   "metadata": {},
   "outputs": [],
   "source": [
    "df.drop('Age', axis=1, inplace=True)\n",
    "df.info()"
   ]
  },
  {
   "cell_type": "markdown",
   "id": "7acda81d",
   "metadata": {},
   "source": [
    "# Convert Remaining Categorial Features to Numeric"
   ]
  },
  {
   "cell_type": "code",
   "execution_count": 43,
   "id": "784f3df6",
   "metadata": {},
   "outputs": [],
   "source": [
    "df['HomePlanet']=df['HomePlanet'].astype('category').cat.codes\n",
    "df['CryoSleep']=df['CryoSleep'].astype('category').cat.codes\n",
    "df['Destination']=df['Destination'].astype('category').cat.codes\n",
    "df['VIP']=df['VIP'].astype('category').cat.codes\n",
    "df['CabinLevel']=df['CabinLevel'].astype('category').cat.codes\n",
    "df['CabinSide']=df['CabinSide'].astype('category').cat.codes"
   ]
  },
  {
   "cell_type": "code",
   "execution_count": 44,
   "id": "6e2795ef",
   "metadata": {},
   "outputs": [
    {
     "name": "stdout",
     "output_type": "stream",
     "text": [
      "<class 'pandas.core.frame.DataFrame'>\n",
      "RangeIndex: 8693 entries, 0 to 8692\n",
      "Data columns (total 14 columns):\n",
      " #   Column        Non-Null Count  Dtype  \n",
      "---  ------        --------------  -----  \n",
      " 0   PassengerId   8693 non-null   object \n",
      " 1   HomePlanet    8693 non-null   int8   \n",
      " 2   CryoSleep     8693 non-null   int8   \n",
      " 3   Destination   8693 non-null   int8   \n",
      " 4   Age           8693 non-null   float64\n",
      " 5   VIP           8693 non-null   int8   \n",
      " 6   RoomService   8693 non-null   float64\n",
      " 7   FoodCourt     8693 non-null   float64\n",
      " 8   ShoppingMall  8693 non-null   float64\n",
      " 9   Spa           8693 non-null   float64\n",
      " 10  VRDeck        8693 non-null   float64\n",
      " 11  Transported   8693 non-null   bool   \n",
      " 12  CabinLevel    8693 non-null   int8   \n",
      " 13  CabinSide     8693 non-null   int8   \n",
      "dtypes: bool(1), float64(6), int8(6), object(1)\n",
      "memory usage: 534.9+ KB\n"
     ]
    }
   ],
   "source": [
    "df.info()"
   ]
  },
  {
   "cell_type": "markdown",
   "id": "1d587a03",
   "metadata": {},
   "source": [
    "# Save the Dateframe for use in the Model Notebook"
   ]
  },
  {
   "cell_type": "code",
   "execution_count": 45,
   "id": "c21eef4e",
   "metadata": {},
   "outputs": [
    {
     "data": {
      "text/html": [
       "<div>\n",
       "<style scoped>\n",
       "    .dataframe tbody tr th:only-of-type {\n",
       "        vertical-align: middle;\n",
       "    }\n",
       "\n",
       "    .dataframe tbody tr th {\n",
       "        vertical-align: top;\n",
       "    }\n",
       "\n",
       "    .dataframe thead th {\n",
       "        text-align: right;\n",
       "    }\n",
       "</style>\n",
       "<table border=\"1\" class=\"dataframe\">\n",
       "  <thead>\n",
       "    <tr style=\"text-align: right;\">\n",
       "      <th></th>\n",
       "      <th>PassengerId</th>\n",
       "      <th>HomePlanet</th>\n",
       "      <th>CryoSleep</th>\n",
       "      <th>Destination</th>\n",
       "      <th>Age</th>\n",
       "      <th>VIP</th>\n",
       "      <th>RoomService</th>\n",
       "      <th>FoodCourt</th>\n",
       "      <th>ShoppingMall</th>\n",
       "      <th>Spa</th>\n",
       "      <th>VRDeck</th>\n",
       "      <th>Transported</th>\n",
       "      <th>CabinLevel</th>\n",
       "      <th>CabinSide</th>\n",
       "    </tr>\n",
       "  </thead>\n",
       "  <tbody>\n",
       "    <tr>\n",
       "      <th>0</th>\n",
       "      <td>0001_01</td>\n",
       "      <td>1</td>\n",
       "      <td>0</td>\n",
       "      <td>3</td>\n",
       "      <td>39.0</td>\n",
       "      <td>0</td>\n",
       "      <td>0.0</td>\n",
       "      <td>0.0</td>\n",
       "      <td>0.0</td>\n",
       "      <td>0.0</td>\n",
       "      <td>0.0</td>\n",
       "      <td>False</td>\n",
       "      <td>2</td>\n",
       "      <td>1</td>\n",
       "    </tr>\n",
       "    <tr>\n",
       "      <th>1</th>\n",
       "      <td>0002_01</td>\n",
       "      <td>0</td>\n",
       "      <td>0</td>\n",
       "      <td>3</td>\n",
       "      <td>24.0</td>\n",
       "      <td>0</td>\n",
       "      <td>109.0</td>\n",
       "      <td>9.0</td>\n",
       "      <td>25.0</td>\n",
       "      <td>549.0</td>\n",
       "      <td>44.0</td>\n",
       "      <td>True</td>\n",
       "      <td>6</td>\n",
       "      <td>2</td>\n",
       "    </tr>\n",
       "    <tr>\n",
       "      <th>2</th>\n",
       "      <td>0003_01</td>\n",
       "      <td>1</td>\n",
       "      <td>0</td>\n",
       "      <td>3</td>\n",
       "      <td>58.0</td>\n",
       "      <td>1</td>\n",
       "      <td>43.0</td>\n",
       "      <td>3576.0</td>\n",
       "      <td>0.0</td>\n",
       "      <td>6715.0</td>\n",
       "      <td>49.0</td>\n",
       "      <td>False</td>\n",
       "      <td>1</td>\n",
       "      <td>2</td>\n",
       "    </tr>\n",
       "    <tr>\n",
       "      <th>3</th>\n",
       "      <td>0003_02</td>\n",
       "      <td>1</td>\n",
       "      <td>0</td>\n",
       "      <td>3</td>\n",
       "      <td>33.0</td>\n",
       "      <td>0</td>\n",
       "      <td>0.0</td>\n",
       "      <td>1283.0</td>\n",
       "      <td>371.0</td>\n",
       "      <td>3329.0</td>\n",
       "      <td>193.0</td>\n",
       "      <td>False</td>\n",
       "      <td>1</td>\n",
       "      <td>2</td>\n",
       "    </tr>\n",
       "    <tr>\n",
       "      <th>4</th>\n",
       "      <td>0004_01</td>\n",
       "      <td>0</td>\n",
       "      <td>0</td>\n",
       "      <td>3</td>\n",
       "      <td>16.0</td>\n",
       "      <td>0</td>\n",
       "      <td>303.0</td>\n",
       "      <td>70.0</td>\n",
       "      <td>151.0</td>\n",
       "      <td>565.0</td>\n",
       "      <td>2.0</td>\n",
       "      <td>True</td>\n",
       "      <td>6</td>\n",
       "      <td>2</td>\n",
       "    </tr>\n",
       "  </tbody>\n",
       "</table>\n",
       "</div>"
      ],
      "text/plain": [
       "  PassengerId  HomePlanet  CryoSleep  Destination   Age  VIP  RoomService  \\\n",
       "0     0001_01           1          0            3  39.0    0          0.0   \n",
       "1     0002_01           0          0            3  24.0    0        109.0   \n",
       "2     0003_01           1          0            3  58.0    1         43.0   \n",
       "3     0003_02           1          0            3  33.0    0          0.0   \n",
       "4     0004_01           0          0            3  16.0    0        303.0   \n",
       "\n",
       "   FoodCourt  ShoppingMall     Spa  VRDeck  Transported  CabinLevel  CabinSide  \n",
       "0        0.0           0.0     0.0     0.0        False           2          1  \n",
       "1        9.0          25.0   549.0    44.0         True           6          2  \n",
       "2     3576.0           0.0  6715.0    49.0        False           1          2  \n",
       "3     1283.0         371.0  3329.0   193.0        False           1          2  \n",
       "4       70.0         151.0   565.0     2.0         True           6          2  "
      ]
     },
     "execution_count": 45,
     "metadata": {},
     "output_type": "execute_result"
    }
   ],
   "source": [
    "df.reset_index(inplace=True)\n",
    "df.drop('index', axis=1, inplace=True)\n",
    "df.head()"
   ]
  },
  {
   "cell_type": "code",
   "execution_count": 46,
   "id": "74ad474e",
   "metadata": {},
   "outputs": [],
   "source": [
    "df.to_pickle('./dataframe.pkl')"
   ]
  },
  {
   "cell_type": "code",
   "execution_count": null,
   "id": "d2e36ae4",
   "metadata": {},
   "outputs": [],
   "source": []
  },
  {
   "cell_type": "code",
   "execution_count": null,
   "id": "9c11dfdc",
   "metadata": {},
   "outputs": [],
   "source": []
  },
  {
   "cell_type": "code",
   "execution_count": null,
   "id": "e858f5cd",
   "metadata": {},
   "outputs": [],
   "source": []
  },
  {
   "cell_type": "code",
   "execution_count": null,
   "id": "5de4853f",
   "metadata": {},
   "outputs": [],
   "source": []
  },
  {
   "cell_type": "code",
   "execution_count": null,
   "id": "ececa4c0",
   "metadata": {},
   "outputs": [],
   "source": []
  },
  {
   "cell_type": "code",
   "execution_count": null,
   "id": "d4dda537",
   "metadata": {},
   "outputs": [],
   "source": []
  }
 ],
 "metadata": {
  "kernelspec": {
   "display_name": "Python 3 (ipykernel)",
   "language": "python",
   "name": "python3"
  },
  "language_info": {
   "codemirror_mode": {
    "name": "ipython",
    "version": 3
   },
   "file_extension": ".py",
   "mimetype": "text/x-python",
   "name": "python",
   "nbconvert_exporter": "python",
   "pygments_lexer": "ipython3",
   "version": "3.9.12"
  }
 },
 "nbformat": 4,
 "nbformat_minor": 5
}
