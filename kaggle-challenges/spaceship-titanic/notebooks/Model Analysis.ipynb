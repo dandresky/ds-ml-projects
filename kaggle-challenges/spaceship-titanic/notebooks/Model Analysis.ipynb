{
 "cells": [
  {
   "cell_type": "markdown",
   "id": "f5fe8198",
   "metadata": {},
   "source": [
    "# Import the Dataframe from Data Analysis"
   ]
  },
  {
   "cell_type": "code",
   "execution_count": 1,
   "id": "8da1513f",
   "metadata": {},
   "outputs": [],
   "source": [
    "import numpy as np\n",
    "import pandas as pd"
   ]
  },
  {
   "cell_type": "code",
   "execution_count": 2,
   "id": "23d0a1a9",
   "metadata": {},
   "outputs": [],
   "source": [
    "df = pd.read_pickle('./dataframe.pkl')"
   ]
  },
  {
   "cell_type": "code",
   "execution_count": 3,
   "id": "c029cdf4",
   "metadata": {},
   "outputs": [
    {
     "name": "stdout",
     "output_type": "stream",
     "text": [
      "<class 'pandas.core.frame.DataFrame'>\n",
      "RangeIndex: 8693 entries, 0 to 8692\n",
      "Data columns (total 14 columns):\n",
      " #   Column        Non-Null Count  Dtype  \n",
      "---  ------        --------------  -----  \n",
      " 0   PassengerId   8693 non-null   object \n",
      " 1   HomePlanet    8693 non-null   int8   \n",
      " 2   CryoSleep     8693 non-null   int8   \n",
      " 3   Destination   8693 non-null   int8   \n",
      " 4   Age           8693 non-null   float64\n",
      " 5   VIP           8693 non-null   int8   \n",
      " 6   RoomService   8693 non-null   float64\n",
      " 7   FoodCourt     8693 non-null   float64\n",
      " 8   ShoppingMall  8693 non-null   float64\n",
      " 9   Spa           8693 non-null   float64\n",
      " 10  VRDeck        8693 non-null   float64\n",
      " 11  Transported   8693 non-null   bool   \n",
      " 12  CabinLevel    8693 non-null   int8   \n",
      " 13  CabinSide     8693 non-null   int8   \n",
      "dtypes: bool(1), float64(6), int8(6), object(1)\n",
      "memory usage: 534.9+ KB\n"
     ]
    }
   ],
   "source": [
    "df.info()"
   ]
  },
  {
   "cell_type": "markdown",
   "id": "98bace2b",
   "metadata": {},
   "source": [
    "# Preprocess the Data\n",
    "\n",
    "First, split the data into features (X) and labels (Y)."
   ]
  },
  {
   "cell_type": "code",
   "execution_count": 4,
   "id": "51fe01c6",
   "metadata": {},
   "outputs": [],
   "source": [
    "X = df[['HomePlanet', 'CryoSleep', 'Destination', 'Age', 'VIP', 'RoomService', 'FoodCourt', 'ShoppingMall', 'Spa', 'VRDeck', 'CabinLevel', 'CabinSide']]\n",
    "Y = df['Transported']"
   ]
  },
  {
   "cell_type": "markdown",
   "id": "649b22c1",
   "metadata": {},
   "source": [
    "Now scale the data."
   ]
  },
  {
   "cell_type": "code",
   "execution_count": 5,
   "id": "d08579cf",
   "metadata": {},
   "outputs": [
    {
     "data": {
      "text/plain": [
       "array([[3.33333333e-01, 0.00000000e+00, 1.00000000e+00, ...,\n",
       "        0.00000000e+00, 2.50000000e-01, 5.00000000e-01],\n",
       "       [0.00000000e+00, 0.00000000e+00, 1.00000000e+00, ...,\n",
       "        1.82322960e-03, 7.50000000e-01, 1.00000000e+00],\n",
       "       [3.33333333e-01, 0.00000000e+00, 1.00000000e+00, ...,\n",
       "        2.03041478e-03, 1.25000000e-01, 1.00000000e+00],\n",
       "       ...,\n",
       "       [0.00000000e+00, 0.00000000e+00, 1.00000000e+00, ...,\n",
       "        0.00000000e+00, 8.75000000e-01, 1.00000000e+00],\n",
       "       [3.33333333e-01, 0.00000000e+00, 0.00000000e+00, ...,\n",
       "        1.34048813e-01, 6.25000000e-01, 1.00000000e+00],\n",
       "       [3.33333333e-01, 0.00000000e+00, 1.00000000e+00, ...,\n",
       "        4.97244437e-04, 6.25000000e-01, 1.00000000e+00]])"
      ]
     },
     "execution_count": 5,
     "metadata": {},
     "output_type": "execute_result"
    }
   ],
   "source": [
    "from sklearn import preprocessing\n",
    "\n",
    "scaler = preprocessing.MinMaxScaler()\n",
    "X_scaled = scaler.fit_transform(X)\n",
    "X_scaled"
   ]
  },
  {
   "cell_type": "markdown",
   "id": "1350b922",
   "metadata": {},
   "source": [
    "# Create the train/test split"
   ]
  },
  {
   "cell_type": "code",
   "execution_count": 6,
   "id": "8905171c",
   "metadata": {},
   "outputs": [],
   "source": [
    "from sklearn.model_selection import StratifiedKFold\n",
    "\n",
    "splits = 10\n",
    "skf = StratifiedKFold(n_splits=splits, shuffle=True, random_state=67)"
   ]
  },
  {
   "cell_type": "markdown",
   "id": "50eb0536",
   "metadata": {},
   "source": [
    "Try each classifier against the Stratified K-Fold split and examine stats. Random Forest and Gradient Boost are best performers. Others are commented out for faster tuning."
   ]
  },
  {
   "cell_type": "code",
   "execution_count": 9,
   "id": "e8487122",
   "metadata": {},
   "outputs": [
    {
     "name": "stdout",
     "output_type": "stream",
     "text": [
      "\n",
      "Random Forest model:\n",
      "   Highest accuracy: 82.39355581127732 %\n",
      "   Lowest Accuracy: 78.13578826237054 %\n",
      "   Mean Accuracy: 80.0186500535693 %\n",
      "   Standard Deviation: 1.4244448905524851 %\n",
      "\n",
      "Gradient Boost Machine model:\n",
      "   Highest accuracy: 83.42922899884925 %\n",
      "   Lowest Accuracy: 78.59608745684696 %\n",
      "   Mean Accuracy: 80.1912754784863 %\n",
      "   Standard Deviation: 1.273937924409236 %\n"
     ]
    }
   ],
   "source": [
    "#from sklearn.linear_model import LogisticRegression\n",
    "#from sklearn.neighbors import KNeighborsClassifier\n",
    "#from sklearn.tree import DecisionTreeClassifier\n",
    "from sklearn.ensemble import RandomForestClassifier\n",
    "#from sklearn.svm import SVC\n",
    "from sklearn.ensemble import GradientBoostingClassifier\n",
    "\n",
    "#lr = LogisticRegression(random_state=67)\n",
    "#knn = KNeighborsClassifier(n_neighbors=int(np.sqrt(len(X_scaled))))\n",
    "#dt = DecisionTreeClassifier()\n",
    "rf = RandomForestClassifier(n_estimators=100, criterion='gini', max_depth=None, min_samples_split=4, min_samples_leaf=3, max_features='sqrt', random_state=67)\n",
    "#svm = SVC(probability=True)\n",
    "gbst = GradientBoostingClassifier(n_estimators=100, learning_rate=0.1, subsample=1.0, min_samples_split=2, max_depth=4, random_state=67)\n",
    "\n",
    "#lr_scores_stratified = []\n",
    "#knn_scores_stratified = []\n",
    "#dt_scores_stratified = []\n",
    "rf_scores_stratified = []\n",
    "#svm_scores_stratified = []\n",
    "gbst_scores_stratified = []\n",
    "\n",
    "for train_index, test_index in skf.split(X_scaled, Y):\n",
    "    X_train_fold, X_test_fold = X_scaled[train_index], X_scaled[test_index]\n",
    "    y_train_fold, y_test_fold = Y[train_index], Y[test_index]\n",
    "    #lr.fit(X_train_fold, y_train_fold)\n",
    "    #knn.fit(X_train_fold, y_train_fold)\n",
    "    #dt.fit(X_train_fold, y_train_fold)\n",
    "    rf.fit(X_train_fold, y_train_fold)\n",
    "    #svm.fit(X_train_fold, y_train_fold)\n",
    "    gbst.fit(X_train_fold, y_train_fold)\n",
    "    #lr_scores_stratified.append(lr.score(X_test_fold, y_test_fold))\n",
    "    #knn_scores_stratified.append(knn.score(X_test_fold, y_test_fold))\n",
    "    #dt_scores_stratified.append(dt.score(X_test_fold, y_test_fold))\n",
    "    rf_scores_stratified.append(rf.score(X_test_fold, y_test_fold))\n",
    "    #svm_scores_stratified.append(svm.score(X_test_fold, y_test_fold))\n",
    "    gbst_scores_stratified.append(gbst.score(X_test_fold, y_test_fold))\n",
    "\n",
    "#print('\\nLogistical Regression model:')\n",
    "#print('   Highest accuracy:', max(lr_scores_stratified)*100, '%')\n",
    "#print('   Lowest Accuracy:', min(lr_scores_stratified)*100, '%')\n",
    "#print('   Mean Accuracy:', np.mean(lr_scores_stratified)*100, '%')\n",
    "#print('   Standard Deviation:', np.std(lr_scores_stratified)*100, '%')\n",
    "#print('\\nK-Nearest Neighbors model:')\n",
    "#print('   Highest accuracy:', max(knn_scores_stratified)*100, '%')\n",
    "#print('   Lowest Accuracy:', min(knn_scores_stratified)*100, '%')\n",
    "#print('   Mean Accuracy:', np.mean(knn_scores_stratified)*100, '%')\n",
    "#print('   Standard Deviation:', np.std(knn_scores_stratified)*100, '%')\n",
    "#print('\\nDecision Tree model:')\n",
    "#print('   Highest accuracy:', max(dt_scores_stratified)*100, '%')\n",
    "#print('   Lowest Accuracy:', min(dt_scores_stratified)*100, '%')\n",
    "#print('   Mean Accuracy:', np.mean(dt_scores_stratified)*100, '%')\n",
    "#print('   Standard Deviation:', np.std(dt_scores_stratified)*100, '%')\n",
    "print('\\nRandom Forest model:')\n",
    "print('   Highest accuracy:', max(rf_scores_stratified)*100, '%')\n",
    "print('   Lowest Accuracy:', min(rf_scores_stratified)*100, '%')\n",
    "print('   Mean Accuracy:', np.mean(rf_scores_stratified)*100, '%')\n",
    "print('   Standard Deviation:', np.std(rf_scores_stratified)*100, '%')\n",
    "#print('\\nSupport Vector Machine model:')\n",
    "#print('   Highest accuracy:', max(svm_scores_stratified)*100, '%')\n",
    "#print('   Lowest Accuracy:', min(svm_scores_stratified)*100, '%')\n",
    "#print('   Mean Accuracy:', np.mean(svm_scores_stratified)*100, '%')\n",
    "#print('   Standard Deviation:', np.std(svm_scores_stratified)*100, '%')\n",
    "print('\\nGradient Boost Machine model:')\n",
    "print('   Highest accuracy:', max(gbst_scores_stratified)*100, '%')\n",
    "print('   Lowest Accuracy:', min(gbst_scores_stratified)*100, '%')\n",
    "print('   Mean Accuracy:', np.mean(gbst_scores_stratified)*100, '%')\n",
    "print('   Standard Deviation:', np.std(gbst_scores_stratified)*100, '%')"
   ]
  },
  {
   "cell_type": "code",
   "execution_count": null,
   "id": "0c18073f",
   "metadata": {},
   "outputs": [],
   "source": []
  },
  {
   "cell_type": "code",
   "execution_count": null,
   "id": "b57f7d07",
   "metadata": {},
   "outputs": [],
   "source": []
  },
  {
   "cell_type": "code",
   "execution_count": null,
   "id": "2bd14638",
   "metadata": {},
   "outputs": [],
   "source": []
  },
  {
   "cell_type": "code",
   "execution_count": null,
   "id": "32d6389d",
   "metadata": {},
   "outputs": [],
   "source": []
  },
  {
   "cell_type": "code",
   "execution_count": null,
   "id": "bae2e894",
   "metadata": {},
   "outputs": [],
   "source": []
  }
 ],
 "metadata": {
  "kernelspec": {
   "display_name": "Python 3 (ipykernel)",
   "language": "python",
   "name": "python3"
  },
  "language_info": {
   "codemirror_mode": {
    "name": "ipython",
    "version": 3
   },
   "file_extension": ".py",
   "mimetype": "text/x-python",
   "name": "python",
   "nbconvert_exporter": "python",
   "pygments_lexer": "ipython3",
   "version": "3.9.12"
  }
 },
 "nbformat": 4,
 "nbformat_minor": 5
}
