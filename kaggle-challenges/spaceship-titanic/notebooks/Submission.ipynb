{
 "cells": [
  {
   "cell_type": "markdown",
   "id": "41580b9f",
   "metadata": {},
   "source": [
    "# Spaceship Titanic Submission\n",
    "\n",
    "For details on how I arrived at data pre-processing strategy and selection of a model, see \"Exploratory Data Analysis\" and \"Model Analysis\" notebooks in my https://github.com/dandresky/ds-ml-projects/tree/main/kaggle-challenges/spaceship-titanic repository."
   ]
  },
  {
   "cell_type": "code",
   "execution_count": 1,
   "id": "1bc7e67f",
   "metadata": {},
   "outputs": [],
   "source": [
    "import numpy as np\n",
    "import pandas as pd\n",
    "import seaborn as sns\n",
    "import matplotlib.pyplot as plt\n",
    "\n",
    "%matplotlib inline"
   ]
  },
  {
   "cell_type": "markdown",
   "id": "9b9e5a2a",
   "metadata": {},
   "source": [
    "Import and inspect the data"
   ]
  },
  {
   "cell_type": "code",
   "execution_count": 2,
   "id": "be85b23d",
   "metadata": {},
   "outputs": [
    {
     "name": "stdout",
     "output_type": "stream",
     "text": [
      "<class 'pandas.core.frame.DataFrame'>\n",
      "RangeIndex: 8693 entries, 0 to 8692\n",
      "Data columns (total 14 columns):\n",
      " #   Column        Non-Null Count  Dtype  \n",
      "---  ------        --------------  -----  \n",
      " 0   PassengerId   8693 non-null   object \n",
      " 1   HomePlanet    8492 non-null   object \n",
      " 2   CryoSleep     8476 non-null   object \n",
      " 3   Cabin         8494 non-null   object \n",
      " 4   Destination   8511 non-null   object \n",
      " 5   Age           8514 non-null   float64\n",
      " 6   VIP           8490 non-null   object \n",
      " 7   RoomService   8512 non-null   float64\n",
      " 8   FoodCourt     8510 non-null   float64\n",
      " 9   ShoppingMall  8485 non-null   float64\n",
      " 10  Spa           8510 non-null   float64\n",
      " 11  VRDeck        8505 non-null   float64\n",
      " 12  Name          8493 non-null   object \n",
      " 13  Transported   8693 non-null   bool   \n",
      "dtypes: bool(1), float64(6), object(7)\n",
      "memory usage: 891.5+ KB\n"
     ]
    }
   ],
   "source": [
    "df_train = pd.read_csv('../data/train.csv')\n",
    "df_train.info()"
   ]
  },
  {
   "cell_type": "code",
   "execution_count": 3,
   "id": "d2eb80e9",
   "metadata": {},
   "outputs": [
    {
     "name": "stdout",
     "output_type": "stream",
     "text": [
      "<class 'pandas.core.frame.DataFrame'>\n",
      "RangeIndex: 4277 entries, 0 to 4276\n",
      "Data columns (total 13 columns):\n",
      " #   Column        Non-Null Count  Dtype  \n",
      "---  ------        --------------  -----  \n",
      " 0   PassengerId   4277 non-null   object \n",
      " 1   HomePlanet    4190 non-null   object \n",
      " 2   CryoSleep     4184 non-null   object \n",
      " 3   Cabin         4177 non-null   object \n",
      " 4   Destination   4185 non-null   object \n",
      " 5   Age           4186 non-null   float64\n",
      " 6   VIP           4184 non-null   object \n",
      " 7   RoomService   4195 non-null   float64\n",
      " 8   FoodCourt     4171 non-null   float64\n",
      " 9   ShoppingMall  4179 non-null   float64\n",
      " 10  Spa           4176 non-null   float64\n",
      " 11  VRDeck        4197 non-null   float64\n",
      " 12  Name          4183 non-null   object \n",
      "dtypes: float64(6), object(7)\n",
      "memory usage: 434.5+ KB\n"
     ]
    }
   ],
   "source": [
    "df_test = pd.read_csv('../data/test.csv')\n",
    "df_test.info()"
   ]
  },
  {
   "cell_type": "code",
   "execution_count": 4,
   "id": "82e398a2",
   "metadata": {},
   "outputs": [
    {
     "data": {
      "text/html": [
       "<div>\n",
       "<style scoped>\n",
       "    .dataframe tbody tr th:only-of-type {\n",
       "        vertical-align: middle;\n",
       "    }\n",
       "\n",
       "    .dataframe tbody tr th {\n",
       "        vertical-align: top;\n",
       "    }\n",
       "\n",
       "    .dataframe thead th {\n",
       "        text-align: right;\n",
       "    }\n",
       "</style>\n",
       "<table border=\"1\" class=\"dataframe\">\n",
       "  <thead>\n",
       "    <tr style=\"text-align: right;\">\n",
       "      <th></th>\n",
       "      <th>PassengerId</th>\n",
       "      <th>Transported</th>\n",
       "    </tr>\n",
       "  </thead>\n",
       "  <tbody>\n",
       "    <tr>\n",
       "      <th>0</th>\n",
       "      <td>0013_01</td>\n",
       "      <td>False</td>\n",
       "    </tr>\n",
       "    <tr>\n",
       "      <th>1</th>\n",
       "      <td>0018_01</td>\n",
       "      <td>False</td>\n",
       "    </tr>\n",
       "    <tr>\n",
       "      <th>2</th>\n",
       "      <td>0019_01</td>\n",
       "      <td>False</td>\n",
       "    </tr>\n",
       "    <tr>\n",
       "      <th>3</th>\n",
       "      <td>0021_01</td>\n",
       "      <td>False</td>\n",
       "    </tr>\n",
       "    <tr>\n",
       "      <th>4</th>\n",
       "      <td>0023_01</td>\n",
       "      <td>False</td>\n",
       "    </tr>\n",
       "  </tbody>\n",
       "</table>\n",
       "</div>"
      ],
      "text/plain": [
       "  PassengerId  Transported\n",
       "0     0013_01        False\n",
       "1     0018_01        False\n",
       "2     0019_01        False\n",
       "3     0021_01        False\n",
       "4     0023_01        False"
      ]
     },
     "execution_count": 4,
     "metadata": {},
     "output_type": "execute_result"
    }
   ],
   "source": [
    "df_sample = pd.read_csv('../data/sample_submission.csv')\n",
    "df_sample.head()"
   ]
  },
  {
   "cell_type": "code",
   "execution_count": 5,
   "id": "3c43139b",
   "metadata": {},
   "outputs": [
    {
     "name": "stdout",
     "output_type": "stream",
     "text": [
      "<class 'pandas.core.frame.DataFrame'>\n",
      "RangeIndex: 4277 entries, 0 to 4276\n",
      "Data columns (total 2 columns):\n",
      " #   Column       Non-Null Count  Dtype \n",
      "---  ------       --------------  ----- \n",
      " 0   PassengerId  4277 non-null   object\n",
      " 1   Transported  4277 non-null   bool  \n",
      "dtypes: bool(1), object(1)\n",
      "memory usage: 37.7+ KB\n"
     ]
    }
   ],
   "source": [
    "df_sample.info()"
   ]
  },
  {
   "cell_type": "markdown",
   "id": "d88b1d6c",
   "metadata": {},
   "source": [
    "The submission includes all passengers so we cannot build a predictor that relies on dropping rows."
   ]
  },
  {
   "cell_type": "markdown",
   "id": "2dc5aac1",
   "metadata": {},
   "source": [
    "# Preprocessing"
   ]
  },
  {
   "cell_type": "code",
   "execution_count": 6,
   "id": "87a70780",
   "metadata": {},
   "outputs": [
    {
     "data": {
      "text/plain": [
       "PassengerId       0\n",
       "HomePlanet      201\n",
       "CryoSleep       217\n",
       "Cabin           199\n",
       "Destination     182\n",
       "Age             179\n",
       "VIP             203\n",
       "RoomService     181\n",
       "FoodCourt       183\n",
       "ShoppingMall    208\n",
       "Spa             183\n",
       "VRDeck          188\n",
       "Name            200\n",
       "Transported       0\n",
       "dtype: int64"
      ]
     },
     "execution_count": 6,
     "metadata": {},
     "output_type": "execute_result"
    }
   ],
   "source": [
    "df_train.isnull().sum()"
   ]
  },
  {
   "cell_type": "code",
   "execution_count": 7,
   "id": "f8c80c24",
   "metadata": {},
   "outputs": [
    {
     "data": {
      "text/plain": [
       "PassengerId       0\n",
       "HomePlanet       87\n",
       "CryoSleep        93\n",
       "Cabin           100\n",
       "Destination      92\n",
       "Age              91\n",
       "VIP              93\n",
       "RoomService      82\n",
       "FoodCourt       106\n",
       "ShoppingMall     98\n",
       "Spa             101\n",
       "VRDeck           80\n",
       "Name             94\n",
       "dtype: int64"
      ]
     },
     "execution_count": 7,
     "metadata": {},
     "output_type": "execute_result"
    }
   ],
   "source": [
    "df_test.isnull().sum()"
   ]
  },
  {
   "cell_type": "markdown",
   "id": "d8558a3c",
   "metadata": {},
   "source": [
    "### Drop the Name Feature\n",
    "\n",
    "A count of unique Name values shows there are only 20 duplicates out of 8493 names. I don't expect any useful information so drop it."
   ]
  },
  {
   "cell_type": "code",
   "execution_count": 8,
   "id": "b1ebf07a",
   "metadata": {},
   "outputs": [],
   "source": [
    "df_train.drop('Name', axis=1, inplace=True)\n",
    "df_test.drop('Name', axis=1, inplace=True)"
   ]
  },
  {
   "cell_type": "markdown",
   "id": "a57602ff",
   "metadata": {},
   "source": [
    "### Fill in Missing CryoSleep Values\n",
    "\n",
    "Less than 3% of people awake are old enough to have money but are not spending. That is low enough that I will just set CryoSleep missing values to True if the passenger is not spending money."
   ]
  },
  {
   "cell_type": "markdown",
   "id": "7763df9f",
   "metadata": {},
   "source": [
    "First create a temporary helper feature"
   ]
  },
  {
   "cell_type": "code",
   "execution_count": 9,
   "id": "33fc8c87",
   "metadata": {},
   "outputs": [],
   "source": [
    "df_train['TotalSpend'] =  df_train[['RoomService', 'FoodCourt', 'ShoppingMall', 'Spa', 'VRDeck']].sum(axis=1)\n",
    "df_test['TotalSpend'] =  df_test[['RoomService', 'FoodCourt', 'ShoppingMall', 'Spa', 'VRDeck']].sum(axis=1)"
   ]
  },
  {
   "cell_type": "markdown",
   "id": "0e67a193",
   "metadata": {},
   "source": [
    "Now set missing CryoSleep values based on spending."
   ]
  },
  {
   "cell_type": "code",
   "execution_count": 10,
   "id": "6b124d25",
   "metadata": {},
   "outputs": [],
   "source": [
    "df_train['CryoSleep'] = df_train.apply(lambda row: False if ((row['TotalSpend']>0) & np.isnan(row['CryoSleep'])) else row['CryoSleep'], axis=1)\n",
    "df_train['CryoSleep'] = df_train.apply(lambda row: True if ((row['TotalSpend']==0) & np.isnan(row['CryoSleep'])) else row['CryoSleep'], axis=1)\n",
    "df_test['CryoSleep'] = df_test.apply(lambda row: False if ((row['TotalSpend']>0) & np.isnan(row['CryoSleep'])) else row['CryoSleep'], axis=1)\n",
    "df_test['CryoSleep'] = df_test.apply(lambda row: True if ((row['TotalSpend']==0) & np.isnan(row['CryoSleep'])) else row['CryoSleep'], axis=1)"
   ]
  },
  {
   "cell_type": "markdown",
   "id": "4d1a2357",
   "metadata": {},
   "source": [
    "Now drop TotalSpend"
   ]
  },
  {
   "cell_type": "code",
   "execution_count": 11,
   "id": "1094816b",
   "metadata": {},
   "outputs": [],
   "source": [
    "df_train.drop('TotalSpend', axis=1, inplace=True)\n",
    "df_test.drop('TotalSpend', axis=1, inplace=True)"
   ]
  },
  {
   "cell_type": "markdown",
   "id": "c0cd7982",
   "metadata": {},
   "source": [
    "### Set Missing Spending to Median if CryoSleep is False\n",
    "\n",
    "Otherwise set to 0."
   ]
  },
  {
   "cell_type": "code",
   "execution_count": 12,
   "id": "b2683830",
   "metadata": {},
   "outputs": [],
   "source": [
    "df_train['RoomService'] = df_train.apply(lambda row: 0 if ((row['CryoSleep']==True) & np.isnan(row['RoomService'])) else row['RoomService'], axis=1)\n",
    "df_train['RoomService'] = df_train.apply(lambda row: df_train['RoomService'].median() if ((row['CryoSleep']==False) & np.isnan(row['RoomService'])) else row['RoomService'], axis=1)\n",
    "\n",
    "df_train['FoodCourt'] = df_train.apply(lambda row: 0 if ((row['CryoSleep']==True) & np.isnan(row['FoodCourt'])) else row['FoodCourt'], axis=1)\n",
    "df_train['FoodCourt'] = df_train.apply(lambda row: df_train['FoodCourt'].median() if ((row['CryoSleep']==False) & np.isnan(row['FoodCourt'])) else row['FoodCourt'], axis=1)\n",
    "\n",
    "df_train['ShoppingMall'] = df_train.apply(lambda row: 0 if ((row['CryoSleep']==True) & np.isnan(row['ShoppingMall'])) else row['ShoppingMall'], axis=1)\n",
    "df_train['ShoppingMall'] = df_train.apply(lambda row: df_train['ShoppingMall'].median() if ((row['CryoSleep']==False) & np.isnan(row['ShoppingMall'])) else row['ShoppingMall'], axis=1)\n",
    "\n",
    "df_train['Spa'] = df_train.apply(lambda row: 0 if ((row['CryoSleep']==True) & np.isnan(row['Spa'])) else row['Spa'], axis=1)\n",
    "df_train['Spa'] = df_train.apply(lambda row: df_train['Spa'].median() if ((row['CryoSleep']==False) & np.isnan(row['Spa'])) else row['Spa'], axis=1)\n",
    "\n",
    "df_train['VRDeck'] = df_train.apply(lambda row: 0 if ((row['CryoSleep']==True) & np.isnan(row['VRDeck'])) else row['VRDeck'], axis=1)\n",
    "df_train['VRDeck'] = df_train.apply(lambda row: df_train['VRDeck'].median() if ((row['CryoSleep']==False) & np.isnan(row['VRDeck'])) else row['VRDeck'], axis=1)\n",
    "\n",
    "df_train['Age'] = df_train.apply(lambda row: 0 if ((row['CryoSleep']==True) & np.isnan(row['Age'])) else row['Age'], axis=1)\n",
    "df_train['Age'] = df_train.apply(lambda row: df_train['Age'].median() if ((row['CryoSleep']==False) & np.isnan(row['Age'])) else row['Age'], axis=1)\n"
   ]
  },
  {
   "cell_type": "code",
   "execution_count": 13,
   "id": "70401fdd",
   "metadata": {},
   "outputs": [],
   "source": [
    "df_test['RoomService'] = df_test.apply(lambda row: 0 if ((row['CryoSleep']==True) & np.isnan(row['RoomService'])) else row['RoomService'], axis=1)\n",
    "df_test['RoomService'] = df_test.apply(lambda row: df_test['RoomService'].median() if ((row['CryoSleep']==False) & np.isnan(row['RoomService'])) else row['RoomService'], axis=1)\n",
    "\n",
    "df_test['FoodCourt'] = df_test.apply(lambda row: 0 if ((row['CryoSleep']==True) & np.isnan(row['FoodCourt'])) else row['FoodCourt'], axis=1)\n",
    "df_test['FoodCourt'] = df_test.apply(lambda row: df_test['FoodCourt'].median() if ((row['CryoSleep']==False) & np.isnan(row['FoodCourt'])) else row['FoodCourt'], axis=1)\n",
    "\n",
    "df_test['ShoppingMall'] = df_test.apply(lambda row: 0 if ((row['CryoSleep']==True) & np.isnan(row['ShoppingMall'])) else row['ShoppingMall'], axis=1)\n",
    "df_test['ShoppingMall'] = df_test.apply(lambda row: df_test['ShoppingMall'].median() if ((row['CryoSleep']==False) & np.isnan(row['ShoppingMall'])) else row['ShoppingMall'], axis=1)\n",
    "\n",
    "df_test['Spa'] = df_test.apply(lambda row: 0 if ((row['CryoSleep']==True) & np.isnan(row['Spa'])) else row['Spa'], axis=1)\n",
    "df_test['Spa'] = df_test.apply(lambda row: df_test['Spa'].median() if ((row['CryoSleep']==False) & np.isnan(row['Spa'])) else row['Spa'], axis=1)\n",
    "\n",
    "df_test['VRDeck'] = df_test.apply(lambda row: 0 if ((row['CryoSleep']==True) & np.isnan(row['VRDeck'])) else row['VRDeck'], axis=1)\n",
    "df_test['VRDeck'] = df_test.apply(lambda row: df_test['VRDeck'].median() if ((row['CryoSleep']==False) & np.isnan(row['VRDeck'])) else row['VRDeck'], axis=1)\n",
    "\n",
    "df_test['Age'] = df_test.apply(lambda row: 0 if ((row['CryoSleep']==True) & np.isnan(row['Age'])) else row['Age'], axis=1)\n",
    "df_test['Age'] = df_test.apply(lambda row: df_test['Age'].median() if ((row['CryoSleep']==False) & np.isnan(row['Age'])) else row['Age'], axis=1)\n"
   ]
  },
  {
   "cell_type": "markdown",
   "id": "9722d5bd",
   "metadata": {},
   "source": [
    "### Set Missing VIP Values\n",
    "\n",
    "Nearly 98% of passengers are not VIP so I'll just assume missing values are False."
   ]
  },
  {
   "cell_type": "code",
   "execution_count": 14,
   "id": "0e4bd6d9",
   "metadata": {},
   "outputs": [],
   "source": [
    "df_train.fillna({'VIP':False}, inplace=True)\n",
    "df_test.fillna({'VIP':False}, inplace=True)"
   ]
  },
  {
   "cell_type": "markdown",
   "id": "69a4a826",
   "metadata": {},
   "source": [
    "### Add Dummy Values for Missing HomePlanet, Destination, and Cabin"
   ]
  },
  {
   "cell_type": "code",
   "execution_count": 15,
   "id": "0342abc8",
   "metadata": {},
   "outputs": [],
   "source": [
    "df_train.fillna({'HomePlanet':'Mercury'}, inplace=True)\n",
    "df_train.fillna({'Destination':'Planet-Z'}, inplace=True)\n",
    "df_train.fillna({'Cabin':'0/0/0'}, inplace=True)"
   ]
  },
  {
   "cell_type": "code",
   "execution_count": 16,
   "id": "1df2c68e",
   "metadata": {},
   "outputs": [],
   "source": [
    "df_test.fillna({'HomePlanet':'Mercury'}, inplace=True)\n",
    "df_test.fillna({'Destination':'Planet-Z'}, inplace=True)\n",
    "df_test.fillna({'Cabin':'0/0/0'}, inplace=True)"
   ]
  },
  {
   "cell_type": "markdown",
   "id": "dd07c309",
   "metadata": {},
   "source": [
    "### There should be no more null values"
   ]
  },
  {
   "cell_type": "code",
   "execution_count": 17,
   "id": "9a3bd9ce",
   "metadata": {},
   "outputs": [
    {
     "name": "stdout",
     "output_type": "stream",
     "text": [
      "<class 'pandas.core.frame.DataFrame'>\n",
      "RangeIndex: 8693 entries, 0 to 8692\n",
      "Data columns (total 13 columns):\n",
      " #   Column        Non-Null Count  Dtype  \n",
      "---  ------        --------------  -----  \n",
      " 0   PassengerId   8693 non-null   object \n",
      " 1   HomePlanet    8693 non-null   object \n",
      " 2   CryoSleep     8693 non-null   bool   \n",
      " 3   Cabin         8693 non-null   object \n",
      " 4   Destination   8693 non-null   object \n",
      " 5   Age           8693 non-null   float64\n",
      " 6   VIP           8693 non-null   bool   \n",
      " 7   RoomService   8693 non-null   float64\n",
      " 8   FoodCourt     8693 non-null   float64\n",
      " 9   ShoppingMall  8693 non-null   float64\n",
      " 10  Spa           8693 non-null   float64\n",
      " 11  VRDeck        8693 non-null   float64\n",
      " 12  Transported   8693 non-null   bool   \n",
      "dtypes: bool(3), float64(6), object(4)\n",
      "memory usage: 704.7+ KB\n"
     ]
    }
   ],
   "source": [
    "df_train.info()"
   ]
  },
  {
   "cell_type": "code",
   "execution_count": 18,
   "id": "ab933b59",
   "metadata": {},
   "outputs": [
    {
     "name": "stdout",
     "output_type": "stream",
     "text": [
      "<class 'pandas.core.frame.DataFrame'>\n",
      "RangeIndex: 4277 entries, 0 to 4276\n",
      "Data columns (total 12 columns):\n",
      " #   Column        Non-Null Count  Dtype  \n",
      "---  ------        --------------  -----  \n",
      " 0   PassengerId   4277 non-null   object \n",
      " 1   HomePlanet    4277 non-null   object \n",
      " 2   CryoSleep     4277 non-null   bool   \n",
      " 3   Cabin         4277 non-null   object \n",
      " 4   Destination   4277 non-null   object \n",
      " 5   Age           4277 non-null   float64\n",
      " 6   VIP           4277 non-null   bool   \n",
      " 7   RoomService   4277 non-null   float64\n",
      " 8   FoodCourt     4277 non-null   float64\n",
      " 9   ShoppingMall  4277 non-null   float64\n",
      " 10  Spa           4277 non-null   float64\n",
      " 11  VRDeck        4277 non-null   float64\n",
      "dtypes: bool(2), float64(6), object(4)\n",
      "memory usage: 342.6+ KB\n"
     ]
    }
   ],
   "source": [
    "df_test.info()"
   ]
  },
  {
   "cell_type": "markdown",
   "id": "a6587151",
   "metadata": {},
   "source": [
    "# Extract Features from Cabin\n",
    "\n",
    "There are three values separated by '/' that indicate class or location of cabin. An examination of the unique values suggests that the first character may indicate a level, the second a room number, and the third could be port/starboard."
   ]
  },
  {
   "cell_type": "code",
   "execution_count": 19,
   "id": "1f81f1d7",
   "metadata": {},
   "outputs": [],
   "source": [
    "df_train[['CabinLevel', 'CabinNumber', 'CabinSide']] = df_train['Cabin'].str.split('/', expand=True)\n",
    "df_test[['CabinLevel', 'CabinNumber', 'CabinSide']] = df_test['Cabin'].str.split('/', expand=True)"
   ]
  },
  {
   "cell_type": "markdown",
   "id": "30bbd6b1",
   "metadata": {},
   "source": [
    "Drop Cabin and CabinNumber, they don't have any useful information"
   ]
  },
  {
   "cell_type": "code",
   "execution_count": 20,
   "id": "68423c6b",
   "metadata": {},
   "outputs": [],
   "source": [
    "df_train.drop(['Cabin', 'CabinNumber'], axis=1, inplace=True)\n",
    "df_test.drop(['Cabin', 'CabinNumber'], axis=1, inplace=True)"
   ]
  },
  {
   "cell_type": "markdown",
   "id": "7d99f1e2",
   "metadata": {},
   "source": [
    "### Convert Remaining Categorial Features to Numeric"
   ]
  },
  {
   "cell_type": "code",
   "execution_count": 21,
   "id": "b9ef976a",
   "metadata": {},
   "outputs": [],
   "source": [
    "df_train['HomePlanet']=df_train['HomePlanet'].astype('category').cat.codes\n",
    "df_train['CryoSleep']=df_train['CryoSleep'].astype('category').cat.codes\n",
    "df_train['Destination']=df_train['Destination'].astype('category').cat.codes\n",
    "df_train['VIP']=df_train['VIP'].astype('category').cat.codes\n",
    "df_train['CabinLevel']=df_train['CabinLevel'].astype('category').cat.codes\n",
    "df_train['CabinSide']=df_train['CabinSide'].astype('category').cat.codes"
   ]
  },
  {
   "cell_type": "code",
   "execution_count": 22,
   "id": "8d0e9a44",
   "metadata": {},
   "outputs": [],
   "source": [
    "df_test['HomePlanet']=df_test['HomePlanet'].astype('category').cat.codes\n",
    "df_test['CryoSleep']=df_test['CryoSleep'].astype('category').cat.codes\n",
    "df_test['Destination']=df_test['Destination'].astype('category').cat.codes\n",
    "df_test['VIP']=df_test['VIP'].astype('category').cat.codes\n",
    "df_test['CabinLevel']=df_test['CabinLevel'].astype('category').cat.codes\n",
    "df_test['CabinSide']=df_test['CabinSide'].astype('category').cat.codes"
   ]
  },
  {
   "cell_type": "markdown",
   "id": "a7073661",
   "metadata": {},
   "source": [
    "# Train a Gradient Boost Classifier\n",
    "\n",
    "First, split the data into features (X) and labels (Y)."
   ]
  },
  {
   "cell_type": "code",
   "execution_count": 23,
   "id": "a09e8087",
   "metadata": {},
   "outputs": [],
   "source": [
    "X = df_train[['HomePlanet', 'CryoSleep', 'Destination', 'Age', 'VIP', 'RoomService', 'FoodCourt', 'ShoppingMall', 'Spa', 'VRDeck', 'CabinLevel', 'CabinSide']]\n",
    "Y = df_train['Transported']"
   ]
  },
  {
   "cell_type": "markdown",
   "id": "539c4f58",
   "metadata": {},
   "source": [
    "Apply a scaler"
   ]
  },
  {
   "cell_type": "code",
   "execution_count": 24,
   "id": "06cd16f4",
   "metadata": {},
   "outputs": [
    {
     "data": {
      "text/plain": [
       "array([[3.33333333e-01, 0.00000000e+00, 1.00000000e+00, ...,\n",
       "        0.00000000e+00, 2.50000000e-01, 5.00000000e-01],\n",
       "       [0.00000000e+00, 0.00000000e+00, 1.00000000e+00, ...,\n",
       "        1.82322960e-03, 7.50000000e-01, 1.00000000e+00],\n",
       "       [3.33333333e-01, 0.00000000e+00, 1.00000000e+00, ...,\n",
       "        2.03041478e-03, 1.25000000e-01, 1.00000000e+00],\n",
       "       ...,\n",
       "       [0.00000000e+00, 0.00000000e+00, 1.00000000e+00, ...,\n",
       "        0.00000000e+00, 8.75000000e-01, 1.00000000e+00],\n",
       "       [3.33333333e-01, 0.00000000e+00, 0.00000000e+00, ...,\n",
       "        1.34048813e-01, 6.25000000e-01, 1.00000000e+00],\n",
       "       [3.33333333e-01, 0.00000000e+00, 1.00000000e+00, ...,\n",
       "        4.97244437e-04, 6.25000000e-01, 1.00000000e+00]])"
      ]
     },
     "execution_count": 24,
     "metadata": {},
     "output_type": "execute_result"
    }
   ],
   "source": [
    "from sklearn import preprocessing\n",
    "\n",
    "scaler = preprocessing.MinMaxScaler()\n",
    "X_scaled = scaler.fit_transform(X)\n",
    "X_scaled"
   ]
  },
  {
   "cell_type": "markdown",
   "id": "eba47b4c",
   "metadata": {},
   "source": [
    "Create and train the model"
   ]
  },
  {
   "cell_type": "code",
   "execution_count": 25,
   "id": "6b19778e",
   "metadata": {},
   "outputs": [
    {
     "data": {
      "text/plain": [
       "GradientBoostingClassifier(max_depth=4, random_state=67)"
      ]
     },
     "execution_count": 25,
     "metadata": {},
     "output_type": "execute_result"
    }
   ],
   "source": [
    "from sklearn.ensemble import GradientBoostingClassifier\n",
    "\n",
    "gbst = GradientBoostingClassifier(n_estimators=100, learning_rate=0.1, subsample=1.0, min_samples_split=2, max_depth=4, random_state=67)\n",
    "\n",
    "gbst.fit(X_scaled, Y)"
   ]
  },
  {
   "cell_type": "markdown",
   "id": "ebe2ce41",
   "metadata": {},
   "source": [
    "# Predict Values\n",
    "\n",
    "First extract features"
   ]
  },
  {
   "cell_type": "code",
   "execution_count": 26,
   "id": "aea6a69c",
   "metadata": {},
   "outputs": [],
   "source": [
    "X_test = df_test[['HomePlanet', 'CryoSleep', 'Destination', 'Age', 'VIP', 'RoomService', 'FoodCourt', 'ShoppingMall', 'Spa', 'VRDeck', 'CabinLevel', 'CabinSide']]"
   ]
  },
  {
   "cell_type": "markdown",
   "id": "6619969f",
   "metadata": {},
   "source": [
    "Apply a scaler"
   ]
  },
  {
   "cell_type": "code",
   "execution_count": 27,
   "id": "43c57166",
   "metadata": {},
   "outputs": [
    {
     "data": {
      "text/plain": [
       "array([[0.        , 1.        , 1.        , ..., 0.        , 0.875     ,\n",
       "        1.        ],\n",
       "       [0.        , 0.        , 1.        , ..., 0.        , 0.75      ,\n",
       "        1.        ],\n",
       "       [0.33333333, 1.        , 0.        , ..., 0.        , 0.375     ,\n",
       "        1.        ],\n",
       "       ...,\n",
       "       [0.66666667, 1.        , 0.        , ..., 0.        , 0.5       ,\n",
       "        0.5       ],\n",
       "       [0.33333333, 0.        , 0.66666667, ..., 0.0234824 , 0.5       ,\n",
       "        0.5       ],\n",
       "       [0.        , 1.        , 0.33333333, ..., 0.        , 0.875     ,\n",
       "        1.        ]])"
      ]
     },
     "execution_count": 27,
     "metadata": {},
     "output_type": "execute_result"
    }
   ],
   "source": [
    "scaler = preprocessing.MinMaxScaler()\n",
    "X_test_scaled = scaler.fit_transform(X_test)\n",
    "X_test_scaled"
   ]
  },
  {
   "cell_type": "code",
   "execution_count": 28,
   "id": "2d59b221",
   "metadata": {},
   "outputs": [],
   "source": [
    "y_pred = gbst.predict(X_test_scaled)"
   ]
  },
  {
   "cell_type": "code",
   "execution_count": 29,
   "id": "3e3bfebe",
   "metadata": {},
   "outputs": [
    {
     "data": {
      "text/plain": [
       "array([ True, False,  True, ...,  True,  True,  True])"
      ]
     },
     "execution_count": 29,
     "metadata": {},
     "output_type": "execute_result"
    }
   ],
   "source": [
    "y_pred"
   ]
  },
  {
   "cell_type": "markdown",
   "id": "647d01ba",
   "metadata": {},
   "source": [
    "Create and save the submission"
   ]
  },
  {
   "cell_type": "code",
   "execution_count": 31,
   "id": "c2aca596",
   "metadata": {},
   "outputs": [
    {
     "name": "stderr",
     "output_type": "stream",
     "text": [
      "/var/folders/kl/zntvy90s1wv7d2nwm48xvjfc0000gn/T/ipykernel_31141/3327194017.py:2: SettingWithCopyWarning: \n",
      "A value is trying to be set on a copy of a slice from a DataFrame.\n",
      "Try using .loc[row_indexer,col_indexer] = value instead\n",
      "\n",
      "See the caveats in the documentation: https://pandas.pydata.org/pandas-docs/stable/user_guide/indexing.html#returning-a-view-versus-a-copy\n",
      "  submission['Transported'] = y_pred.tolist()\n"
     ]
    },
    {
     "data": {
      "text/html": [
       "<div>\n",
       "<style scoped>\n",
       "    .dataframe tbody tr th:only-of-type {\n",
       "        vertical-align: middle;\n",
       "    }\n",
       "\n",
       "    .dataframe tbody tr th {\n",
       "        vertical-align: top;\n",
       "    }\n",
       "\n",
       "    .dataframe thead th {\n",
       "        text-align: right;\n",
       "    }\n",
       "</style>\n",
       "<table border=\"1\" class=\"dataframe\">\n",
       "  <thead>\n",
       "    <tr style=\"text-align: right;\">\n",
       "      <th></th>\n",
       "      <th>PassengerId</th>\n",
       "      <th>Transported</th>\n",
       "    </tr>\n",
       "  </thead>\n",
       "  <tbody>\n",
       "    <tr>\n",
       "      <th>0</th>\n",
       "      <td>0013_01</td>\n",
       "      <td>True</td>\n",
       "    </tr>\n",
       "    <tr>\n",
       "      <th>1</th>\n",
       "      <td>0018_01</td>\n",
       "      <td>False</td>\n",
       "    </tr>\n",
       "    <tr>\n",
       "      <th>2</th>\n",
       "      <td>0019_01</td>\n",
       "      <td>True</td>\n",
       "    </tr>\n",
       "    <tr>\n",
       "      <th>3</th>\n",
       "      <td>0021_01</td>\n",
       "      <td>True</td>\n",
       "    </tr>\n",
       "    <tr>\n",
       "      <th>4</th>\n",
       "      <td>0023_01</td>\n",
       "      <td>True</td>\n",
       "    </tr>\n",
       "  </tbody>\n",
       "</table>\n",
       "</div>"
      ],
      "text/plain": [
       "  PassengerId  Transported\n",
       "0     0013_01         True\n",
       "1     0018_01        False\n",
       "2     0019_01         True\n",
       "3     0021_01         True\n",
       "4     0023_01         True"
      ]
     },
     "execution_count": 31,
     "metadata": {},
     "output_type": "execute_result"
    }
   ],
   "source": [
    "submission = df_test[['PassengerId']]\n",
    "submission['Transported'] = y_pred.tolist()\n",
    "submission.head()"
   ]
  },
  {
   "cell_type": "code",
   "execution_count": 32,
   "id": "411f633e",
   "metadata": {},
   "outputs": [],
   "source": [
    "submission.to_csv('dea-submission.csv', index=False)"
   ]
  },
  {
   "cell_type": "code",
   "execution_count": null,
   "id": "b312f8eb",
   "metadata": {},
   "outputs": [],
   "source": []
  },
  {
   "cell_type": "code",
   "execution_count": null,
   "id": "8c4e64a6",
   "metadata": {},
   "outputs": [],
   "source": []
  }
 ],
 "metadata": {
  "kernelspec": {
   "display_name": "Python 3 (ipykernel)",
   "language": "python",
   "name": "python3"
  },
  "language_info": {
   "codemirror_mode": {
    "name": "ipython",
    "version": 3
   },
   "file_extension": ".py",
   "mimetype": "text/x-python",
   "name": "python",
   "nbconvert_exporter": "python",
   "pygments_lexer": "ipython3",
   "version": "3.9.12"
  }
 },
 "nbformat": 4,
 "nbformat_minor": 5
}
